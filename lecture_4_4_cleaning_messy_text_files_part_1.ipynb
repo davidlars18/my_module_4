{
 "cells": [
  {
   "cell_type": "markdown",
   "metadata": {},
   "source": [
    "# Lecture 4.4 - Basics of cleaning messy text files \n",
    "## Part 1 - Getting the know the file and removing unwanted lines\n",
    "\n",
    "In this lecture, we will go over a number of cases of messy data, and how to use Python to fix these problems.  This includes\n",
    "\n",
    "1. Use VSCode to inspect the file and identify problems.\n",
    "1. Removing unwanted lines."
   ]
  },
  {
   "cell_type": "markdown",
   "metadata": {},
   "source": [
    "## Example - 9/11 Deaths \n",
    "\n",
    "I have included a file named `911_Deaths.csv`.  Download this file from D2L and open it in VScode.  Be sure to turn on **View > Render Whitespace**, which I find useful when working with messy data."
   ]
  },
  {
   "cell_type": "markdown",
   "metadata": {},
   "source": [
    "> there are not enough commas separating the data in the file. Some entries are missing, such as whatever the location is indicating. Some entries are combined into one."
   ]
  },
  {
   "cell_type": "markdown",
   "metadata": {},
   "source": [
    "## Reading in the lines of the file\n",
    "\n",
    "I have included a file named `911_Deaths.csv`.  Open this file and split the body into a list called `lines`."
   ]
  },
  {
   "cell_type": "code",
   "execution_count": 45,
   "metadata": {},
   "outputs": [
    {
     "output_type": "execute_result",
     "data": {
      "text/plain": "['code cGordon M. Aamoth, Jr.\\n',\n ' 32\\n',\n \" Sandler O'Neill + Partners, World Trade Center.\\n\",\n 'Edelmiro Abad\\n',\n ' 54\\n']"
     },
     "metadata": {},
     "execution_count": 45
    }
   ],
   "source": [
    "# Your code here\n",
    "with open('911_Deaths.csv') as f:\n",
    "    lines = f.readlines()\n",
    "lines[:5]"
   ]
  },
  {
   "cell_type": "markdown",
   "metadata": {},
   "source": [
    "## Step 1: Remove any extraneous lines"
   ]
  },
  {
   "cell_type": "code",
   "execution_count": 8,
   "metadata": {},
   "outputs": [
    {
     "output_type": "execute_result",
     "data": {
      "text/plain": "['Terrance Andre Aiken\\n',\n ' 30\\n',\n ' Marsh&McLennan consultant, World Trade Center.\\n',\n '\\n',\n '\\n',\n '\\t\\t\\t\\t\\t\\t\\t\\t\\t\\t1 of 91\\n',\n '\\n',\n '\\n',\n 'Godwin O. Ajala\\n',\n ' 33\\n',\n ' Summit Security Services, Inc., World Trade Center, died 9/15/01.\\n']"
     },
     "metadata": {},
     "execution_count": 8
    }
   ],
   "source": [
    "example_w_extra = lines[96:107]\n",
    "example_w_extra"
   ]
  },
  {
   "cell_type": "markdown",
   "metadata": {},
   "source": [
    "## Methods for removing extra lines.\n",
    "\n",
    "* `strip` and check for a length of 0\n",
    "* Check if some substring is `in` the line.\n",
    "* Create a regular expression to match the line type"
   ]
  },
  {
   "cell_type": "markdown",
   "metadata": {},
   "source": [
    "<h2> <font color=\"red\"> Exercise 4.4.2 </font> </h2>\n",
    "\n",
    "Rewrite a predicate function (i.e. Boolean lambda) called `is_blank` that returns `True` for blank lines and `False` otherwise."
   ]
  },
  {
   "cell_type": "code",
   "execution_count": 4,
   "metadata": {},
   "outputs": [
    {
     "output_type": "execute_result",
     "data": {
      "text/plain": "'\\n'"
     },
     "metadata": {},
     "execution_count": 4
    }
   ],
   "source": [
    "example_blank_line = lines[99]\n",
    "example_blank_line"
   ]
  },
  {
   "cell_type": "code",
   "execution_count": 5,
   "metadata": {},
   "outputs": [
    {
     "output_type": "execute_result",
     "data": {
      "text/plain": "True"
     },
     "metadata": {},
     "execution_count": 5
    }
   ],
   "source": [
    "# Your code here\n",
    "is_blank = lambda l: True if len(l.strip()) == 0 else False\n",
    "is_blank(example_blank_line)"
   ]
  },
  {
   "cell_type": "markdown",
   "metadata": {},
   "source": [
    "<h2> <font color=\"red\"> Exercise 4.4.3 </font> </h2>\n",
    "\n",
    "Rewrite a predicate function called `is_page_num_line` that returns `True` for the page number lines and `False` otherwise."
   ]
  },
  {
   "cell_type": "code",
   "execution_count": 6,
   "metadata": {},
   "outputs": [
    {
     "output_type": "execute_result",
     "data": {
      "text/plain": "'\\t\\t\\t\\t\\t\\t\\t\\t\\t\\t1 of 91\\n'"
     },
     "metadata": {},
     "execution_count": 6
    }
   ],
   "source": [
    "example_page_num_line = lines[101]\n",
    "example_page_num_line"
   ]
  },
  {
   "cell_type": "code",
   "execution_count": 9,
   "metadata": {},
   "outputs": [
    {
     "output_type": "execute_result",
     "data": {
      "text/plain": "[('Terrance Andre Aiken\\n', False),\n (' 30\\n', False),\n (' Marsh&McLennan consultant, World Trade Center.\\n', False),\n ('\\n', False),\n ('\\n', False),\n ('\\t\\t\\t\\t\\t\\t\\t\\t\\t\\t1 of 91\\n', True),\n ('\\n', False),\n ('\\n', False),\n ('Godwin O. Ajala\\n', False),\n (' 33\\n', False),\n (' Summit Security Services, Inc., World Trade Center, died 9/15/01.\\n',\n  False)]"
     },
     "metadata": {},
     "execution_count": 9
    }
   ],
   "source": [
    "# Your code here\n",
    "import re\n",
    "dr = re.compile(r\"\\t+\\d+ of \\d+\")\n",
    "is_page_num_line = lambda l: True if dr.match(l) else False\n",
    "[(l, is_page_num_line(l)) for l in example_w_extra]"
   ]
  },
  {
   "cell_type": "markdown",
   "metadata": {},
   "source": [
    "<h2> <font color=\"red\"> Exercise 4.4.4 </font> </h2>\n",
    "\n",
    "Identify some situation were your approach might fail."
   ]
  },
  {
   "cell_type": "markdown",
   "metadata": {},
   "source": [
    "> Mine would fail if the page number was given in a format without ## of ##, such as \"Page ##\""
   ]
  },
  {
   "cell_type": "markdown",
   "metadata": {},
   "source": [
    "## Be as specific as possible\n",
    "\n",
    "When removing lines, be very specific so you don't lose data!"
   ]
  },
  {
   "cell_type": "markdown",
   "metadata": {},
   "source": [
    "<h2> <font color=\"red\"> Exercise 4.4.5 </font> </h2>\n",
    "\n",
    "Complete the following steps."
   ]
  },
  {
   "cell_type": "markdown",
   "metadata": {},
   "source": [
    "#### Describe the pattern in words"
   ]
  },
  {
   "cell_type": "code",
   "execution_count": 10,
   "metadata": {},
   "outputs": [
    {
     "output_type": "execute_result",
     "data": {
      "text/plain": "'\\t\\t\\t\\t\\t\\t\\t\\t\\t\\t1 of 91\\n'"
     },
     "metadata": {},
     "execution_count": 10
    }
   ],
   "source": [
    "example_page_num_line = lines[101]\n",
    "example_page_num_line"
   ]
  },
  {
   "cell_type": "markdown",
   "metadata": {},
   "source": [
    "one or more number of tabs(whitespace), then one or more digits, then ' of ' then 91 (some digits)"
   ]
  },
  {
   "cell_type": "markdown",
   "metadata": {},
   "source": [
    "#### Write a regular expression to `match` the problem"
   ]
  },
  {
   "cell_type": "code",
   "execution_count": 30,
   "metadata": {},
   "outputs": [
    {
     "output_type": "execute_result",
     "data": {
      "text/plain": "[('Terrance Andre Aiken\\n', False),\n (' 30\\n', False),\n (' Marsh&McLennan consultant, World Trade Center.\\n', False),\n ('\\n', False),\n ('\\n', False),\n ('\\t\\t\\t\\t\\t\\t\\t\\t\\t\\t1 of 91\\n', True),\n ('\\n', False),\n ('\\n', False),\n ('Godwin O. Ajala\\n', False),\n (' 33\\n', False),\n (' Summit Security Services, Inc., World Trade Center, died 9/15/01.\\n',\n  False)]"
     },
     "metadata": {},
     "execution_count": 30
    }
   ],
   "source": [
    "# Your code here\n",
    "dr = re.compile(r\"\\t+\\d+ of \\d+\")\n",
    "is_page_num_line = lambda l: True if dr.match(l) else False\n",
    "[(l, is_page_num_line(l)) for l in example_w_extra]\n"
   ]
  },
  {
   "cell_type": "markdown",
   "metadata": {},
   "source": [
    "#### Why is `match` better than `search` for this task?"
   ]
  },
  {
   "cell_type": "markdown",
   "metadata": {},
   "source": [
    "> more specific. the characters 'of' that we searched for could be in any word, where match is finding the exact sequence of characters we are looking for"
   ]
  },
  {
   "cell_type": "markdown",
   "metadata": {},
   "source": [
    "## Combining the two predicate functions"
   ]
  },
  {
   "cell_type": "code",
   "execution_count": 33,
   "metadata": {},
   "outputs": [],
   "source": [
    "needs_removal = lambda l: is_blank(l) or is_page_num_line(l)"
   ]
  },
  {
   "cell_type": "code",
   "execution_count": 34,
   "metadata": {},
   "outputs": [
    {
     "output_type": "execute_result",
     "data": {
      "text/plain": "[('Terrance Andre Aiken\\n', False),\n (' 30\\n', False),\n (' Marsh&McLennan consultant, World Trade Center.\\n', False),\n ('\\n', True),\n ('\\n', True),\n ('\\t\\t\\t\\t\\t\\t\\t\\t\\t\\t1 of 91\\n', True),\n ('\\n', True),\n ('\\n', True),\n ('Godwin O. Ajala\\n', False),\n (' 33\\n', False),\n (' Summit Security Services, Inc., World Trade Center, died 9/15/01.\\n',\n  False)]"
     },
     "metadata": {},
     "execution_count": 34
    }
   ],
   "source": [
    "[(l, needs_removal(l)) for l in example_w_extra ]"
   ]
  },
  {
   "cell_type": "markdown",
   "metadata": {},
   "source": [
    "#### Removing the extraneous lines"
   ]
  },
  {
   "cell_type": "code",
   "execution_count": 36,
   "metadata": {
    "scrolled": true
   },
   "outputs": [
    {
     "output_type": "execute_result",
     "data": {
      "text/plain": "['code cGordon M. Aamoth, Jr.\\n',\n ' 32\\n',\n \" Sandler O'Neill + Partners, World Trade Center.\\n\",\n 'Edelmiro Abad\\n',\n ' 54\\n',\n ' Brooklyn, N.Y., Fiduciary Trust Company International, World Trade Center.\\n',\n 'Marie Rose Abad\\n',\n ' 49\\n',\n ' Keefe, Bruyette&Woods, Inc., World Trade Center.\\n',\n 'Andrew Anthony Abate\\n',\n ' 37\\n',\n ' Melville, N.Y., Cantor Fitzgerald, World Trade Center.\\n',\n 'Vincent Paul Abate\\n',\n ' 40\\n',\n ' Brooklyn, N.Y., Cantor Fitzgerald, World Trade Center.\\n',\n 'Laurence Christopher Abel\\n',\n ' 37\\n',\n ' New York City, Cantor Fitzgerald, World Trade Center.\\n',\n 'Alona Abraham\\n',\n ' 30\\n',\n ' Ashdod, Israel, Passenger, United 175, World Trade Center.\\n',\n 'William F. Abrahamson\\n',\n ' 55\\n',\n ' Westchester County, N.Y., Marsh&McLennan Companies, Inc., World Trade Center.\\n',\n 'Richard Anthony Aceto\\n',\n ' 42\\n',\n ' Marsh&McLennan Companies, Inc., World Trade Center.\\n',\n 'Heinrich Bernhard Ackermann\\n',\n ' 38\\n',\n ' Aon Corporation, World Trade Center.\\n',\n 'Paul Acquaviva\\n',\n ' 29\\n',\n ' Glen Rock, N.J., Cantor Fitzgerald, World Trade Center.\\n',\n 'Christian Adams\\n',\n ' 37\\n',\n ' Passenger, United 93, Shanksville, Pa.\\n',\n 'Donald LaRoy Adams\\n',\n ' 28\\n',\n ' Cantor Fitzgerald, World Trade Center.\\n',\n 'Patrick Adams\\n',\n ' 61\\n',\n ' Fuji Bank, Ltd. security, World Trade Center.\\n',\n 'Shannon Lewis Adams\\n',\n ' 25\\n',\n ' Cantor Fitzgerald, World Trade Center.\\n',\n 'Stephen George Adams\\n',\n ' 51\\n',\n ' New York City, Windows on the World, World Trade Center.\\n',\n 'Ignatius Udo Adanga\\n',\n ' 62\\n',\n ' Bronx, N.Y., New York Metropolitan Transportation Council, World Trade Center.\\n',\n 'Christy A. Addamo\\n',\n ' 28\\n',\n ' New Hyde Park, N.Y., Marsh&McLennan Companies, Inc., World Trade Center.\\n',\n 'Terence Edward Adderley, Jr.\\n',\n ' 22\\n',\n ' New York City, Fred Alger Management, Inc., World Trade Center.\\n',\n 'Sophia B. Addo\\n',\n ' 36\\n',\n ' Bronx, N.Y., Windows on the World, World Trade Center.\\n',\n 'Lee Adler\\n',\n ' 48\\n',\n ' Cantor Fitzgerald, World Trade Center.\\n',\n 'Daniel Thomas Afflitto\\n',\n ' 32\\n',\n ' Manalapan, N.J., Cantor Fitzgerald, World Trade Center.\\n',\n 'Emmanuel Akwasi Afuakwah\\n',\n ' 37\\n',\n ' Windows on the World, World Trade Center.\\n',\n 'Alok Agarwal\\n',\n ' 36\\n',\n ' Cantor Fitzgerald, World Trade Center.\\n',\n 'Mukul Kumar Agarwala\\n',\n ' 37\\n',\n ' Fiduciary Trust Company International, World Trade Center.\\n',\n 'Joseph Agnello\\n',\n ' 35\\n',\n ' Belle Harbor, N.Y., New York City Fire Department, World Trade Center.\\n',\n 'David Scott Agnes\\n',\n ' 46\\n',\n ' Port Washington, N.Y., Cantor Fitzgerald, World Trade Center.\\n',\n 'Joao Alberto da Fonseca Aguiar, Jr.\\n',\n ' 30\\n',\n ' Hoboken, N.J., Keefe, Bruyette&Woods, Inc., World Trade Center.\\n',\n 'Brian G. Ahearn\\n',\n ' 43\\n',\n ' Huntington, N.Y., New York City Fire Department, World Trade Center.\\n',\n 'Jeremiah Joseph Ahern\\n',\n ' 74\\n',\n ' New Jersey, New York State Department of Taxation and Finance, World Trade Center.\\n',\n 'Joanne Marie Ahladiotis\\n',\n ' 27\\n',\n ' Forest Hills, N.Y., Cantor Fitzgerald, World Trade Center.\\n',\n 'Shabbir Ahmed\\n',\n ' 47\\n',\n ' Brooklyn, N.Y., Windows on the World, World Trade Center.\\n',\n 'Terrance Andre Aiken\\n',\n ' 30\\n',\n ' Marsh&McLennan consultant, World Trade Center.\\n',\n 'Godwin O. Ajala\\n']"
     },
     "metadata": {},
     "execution_count": 36
    }
   ],
   "source": [
    "culled_lines = [l for l in lines if not needs_removal(l)]\n",
    "culled_lines[:100]"
   ]
  },
  {
   "cell_type": "code",
   "execution_count": 15,
   "metadata": {
    "scrolled": true
   },
   "outputs": [
    {
     "output_type": "execute_result",
     "data": {
      "text/plain": "['code cGordon M. Aamoth, Jr.\\n',\n ' 32\\n',\n \" Sandler O'Neill + Partners, World Trade Center.\\n\",\n 'Edelmiro Abad\\n',\n ' 54\\n',\n ' Brooklyn, N.Y., Fiduciary Trust Company International, World Trade Center.\\n',\n 'Marie Rose Abad\\n',\n ' 49\\n',\n ' Keefe, Bruyette&Woods, Inc., World Trade Center.\\n',\n 'Andrew Anthony Abate\\n',\n ' 37\\n',\n ' Melville, N.Y., Cantor Fitzgerald, World Trade Center.\\n',\n 'Vincent Paul Abate\\n',\n ' 40\\n',\n ' Brooklyn, N.Y., Cantor Fitzgerald, World Trade Center.\\n',\n 'Laurence Christopher Abel\\n',\n ' 37\\n',\n ' New York City, Cantor Fitzgerald, World Trade Center.\\n',\n 'Alona Abraham\\n',\n ' 30\\n',\n ' Ashdod, Israel, Passenger, United 175, World Trade Center.\\n',\n 'William F. Abrahamson\\n',\n ' 55\\n',\n ' Westchester County, N.Y., Marsh&McLennan Companies, Inc., World Trade Center.\\n',\n 'Richard Anthony Aceto\\n',\n ' 42\\n',\n ' Marsh&McLennan Companies, Inc., World Trade Center.\\n',\n 'Heinrich Bernhard Ackermann\\n',\n ' 38\\n',\n ' Aon Corporation, World Trade Center.\\n',\n 'Paul Acquaviva\\n',\n ' 29\\n',\n ' Glen Rock, N.J., Cantor Fitzgerald, World Trade Center.\\n',\n 'Christian Adams\\n',\n ' 37\\n',\n ' Passenger, United 93, Shanksville, Pa.\\n',\n 'Donald LaRoy Adams\\n',\n ' 28\\n',\n ' Cantor Fitzgerald, World Trade Center.\\n',\n 'Patrick Adams\\n',\n ' 61\\n',\n ' Fuji Bank, Ltd. security, World Trade Center.\\n',\n 'Shannon Lewis Adams\\n',\n ' 25\\n',\n ' Cantor Fitzgerald, World Trade Center.\\n',\n 'Stephen George Adams\\n',\n ' 51\\n',\n ' New York City, Windows on the World, World Trade Center.\\n',\n 'Ignatius Udo Adanga\\n',\n ' 62\\n',\n ' Bronx, N.Y., New York Metropolitan Transportation Council, World Trade Center.\\n',\n 'Christy A. Addamo\\n',\n ' 28\\n',\n ' New Hyde Park, N.Y., Marsh&McLennan Companies, Inc., World Trade Center.\\n',\n 'Terence Edward Adderley, Jr.\\n',\n ' 22\\n',\n ' New York City, Fred Alger Management, Inc., World Trade Center.\\n',\n 'Sophia B. Addo\\n',\n ' 36\\n',\n ' Bronx, N.Y., Windows on the World, World Trade Center.\\n',\n 'Lee Adler\\n',\n ' 48\\n',\n ' Cantor Fitzgerald, World Trade Center.\\n',\n 'Daniel Thomas Afflitto\\n',\n ' 32\\n',\n ' Manalapan, N.J., Cantor Fitzgerald, World Trade Center.\\n',\n 'Emmanuel Akwasi Afuakwah\\n',\n ' 37\\n',\n ' Windows on the World, World Trade Center.\\n',\n 'Alok Agarwal\\n',\n ' 36\\n',\n ' Cantor Fitzgerald, World Trade Center.\\n',\n 'Mukul Kumar Agarwala\\n',\n ' 37\\n',\n ' Fiduciary Trust Company International, World Trade Center.\\n',\n 'Joseph Agnello\\n',\n ' 35\\n',\n ' Belle Harbor, N.Y., New York City Fire Department, World Trade Center.\\n',\n 'David Scott Agnes\\n',\n ' 46\\n',\n ' Port Washington, N.Y., Cantor Fitzgerald, World Trade Center.\\n',\n 'Joao Alberto da Fonseca Aguiar, Jr.\\n',\n ' 30\\n',\n ' Hoboken, N.J., Keefe, Bruyette&Woods, Inc., World Trade Center.\\n',\n 'Brian G. Ahearn\\n',\n ' 43\\n',\n ' Huntington, N.Y., New York City Fire Department, World Trade Center.\\n',\n 'Jeremiah Joseph Ahern\\n',\n ' 74\\n',\n ' New Jersey, New York State Department of Taxation and Finance, World Trade Center.\\n',\n 'Joanne Marie Ahladiotis\\n',\n ' 27\\n',\n ' Forest Hills, N.Y., Cantor Fitzgerald, World Trade Center.\\n',\n 'Shabbir Ahmed\\n',\n ' 47\\n',\n ' Brooklyn, N.Y., Windows on the World, World Trade Center.\\n',\n 'Terrance Andre Aiken\\n',\n ' 30\\n',\n ' Marsh&McLennan consultant, World Trade Center.\\n',\n 'Godwin O. Ajala\\n']"
     },
     "metadata": {},
     "execution_count": 15
    }
   ],
   "source": [
    "keep_line = lambda l: not needs_removal(l)\n",
    "culled_lines = [l for l in lines if keep_line(l)]\n",
    "culled_lines[:100]"
   ]
  },
  {
   "cell_type": "markdown",
   "metadata": {},
   "source": [
    "## Which reads better?"
   ]
  },
  {
   "cell_type": "code",
   "execution_count": 37,
   "metadata": {},
   "outputs": [],
   "source": [
    "culled_lines = [l for l in lines if not needs_removal(l)]\n",
    "culled_lines = [l for l in lines if keep_line(l)]"
   ]
  },
  {
   "cell_type": "markdown",
   "metadata": {},
   "source": [
    "#### Make it a function!"
   ]
  },
  {
   "cell_type": "code",
   "execution_count": 38,
   "metadata": {},
   "outputs": [],
   "source": [
    "culled_lines = [l for l in lines if keep_line(l)]"
   ]
  },
  {
   "cell_type": "code",
   "execution_count": 39,
   "metadata": {},
   "outputs": [
    {
     "output_type": "execute_result",
     "data": {
      "text/plain": "['code cGordon M. Aamoth, Jr.\\n',\n ' 32\\n',\n \" Sandler O'Neill + Partners, World Trade Center.\\n\",\n 'Edelmiro Abad\\n',\n ' 54\\n']"
     },
     "metadata": {},
     "execution_count": 39
    }
   ],
   "source": [
    "# Key\n",
    "cull_lines = pipeable(lambda L: [l for l in L if keep_line(l)])\n",
    "culled_lines = cull_lines(lines)\n",
    "culled_lines[:5]"
   ]
  },
  {
   "cell_type": "markdown",
   "metadata": {},
   "source": [
    "# Clean Code Rule\n",
    "\n",
    "### *When writing Boolean expressions, avoid negatives whenever possible.*"
   ]
  },
  {
   "cell_type": "markdown",
   "metadata": {},
   "source": [
    "<h2> <font color=\"red\"> Exercise 4.4.5 -- Saving our work </font> </h2>\n",
    "\n",
    "Now we will save our work by writing our progress to a text file.\n",
    "\n",
    "Complete the following steps."
   ]
  },
  {
   "cell_type": "markdown",
   "metadata": {},
   "source": [
    "#### Step 1 -- `'\\n'` join the `culled_lines`"
   ]
  },
  {
   "cell_type": "code",
   "execution_count": 43,
   "metadata": {},
   "outputs": [],
   "source": [
    "# Your code here\n",
    "output = '\\n'.join(culled_lines)"
   ]
  },
  {
   "cell_type": "code",
   "execution_count": 44,
   "metadata": {},
   "outputs": [
    {
     "output_type": "execute_result",
     "data": {
      "text/plain": "n and Finance, World Trade Center.\\n\\nFelix Antonio Vale\\n\\n 29\\n\\n Cantor Fitzgerald, World Trade Center.\\n\\nIvan Vale\\n\\n 27\\n\\n Ridgewood, N.Y., Cantor Fitzgerald, World Trade Center.\\n\\nBenito Valentin\\n\\n 33\\n\\n Marsh&McLennan consultant from American Express, World Trade Center.\\n\\nSantos Valentin, Jr.\\n\\n 39\\n\\n Richmond Hill, N.Y., New York City Police Department, World Trade Center.\\n\\nCarlton Francis Valvo II\\n\\n 38\\n\\n New York City, Cantor Fitzgerald, World Trade Center.\\n\\nPendyala Vamsikrishna\\n\\n 30\\n\\n Passenger, United 11, World Trade Center.\\n\\nErica H. Van Acker\\n\\n 62\\n\\n New York City, Aon Corporation, World Trade Center.\\n\\nKenneth W. Van Auken\\n\\n 47\\n\\n East Brunswick, N.J., Cantor Fitzgerald, World Trade Center.\\n\\nR. Bruce Van Hine\\n\\n 48\\n\\n Greenwood Lake, N.Y., New York City Fire Department, World Trade Center.\\n\\nDaniel M. Van Laere\\n\\n 46\\n\\n Glen Rock, N.J., Aon Corporation, World Trade Center.\\n\\nEdward Raymond Vanacore\\n\\n 29\\n\\n Jersey City, N.J., Fiduciary Trust Company International, World Trade Center.\\n\\nJon Charles Vandevander\\n\\n 44\\n\\n Ridgewood, N.J., Carr Futures, Inc., World Trade Center.\\n\\nFrederick T. Varacchi\\n\\n 35\\n\\n Greenwich, Conn., Cantor Fitzgerald, World Trade Center.\\n\\nGopalakrishnan Varadhan\\n\\n 32\\n\\n New York City, Cantor Fitzgerald, World Trade Center.\\n\\nDavid Vargas\\n\\n 46\\n\\n Pitney Bowes Inc., World Trade Center.\\n\\nScott C. Vasel\\n\\n 32\\n\\n Marsh&McLennan Companies, Inc., World Trade Center.\\n\\nAzael Ismael Vasquez\\n\\n 21\\n\\n Staten Island, N.Y., Cantor Fitzgerald, Forte Food Service, World Trade Center.\\n\\nRonald J. Vauk\\n\\n 37\\n\\n Mount Airy, Md., United States Naval Reserve, Pentagon.\\n\\nArcangel Vazquez\\n\\n 47\\n\\n Fiduciary Trust Company International, World Trade Center.\\n\\nSantos Vazquez\\n\\n 55\\n\\n Cantor Fitzgerald, World Trade Center.\\n\\nPeter Vega\\n\\n 36\\n\\n Brooklyn, N.Y., New York City Fire Department, World Trade Center.\\n\\nSankara Sastry Velamuri\\n\\n 63\\n\\n New York State Department of Taxation and Finance, World Trade Center.\\n\\nJorge Velazquez\\n\\n 47\\n\\n Morgan Stanley, World Trade Center.\\n\\nLawrence G. Veling\\n\\n 44\\n\\n Brooklyn, N.Y., New York City Fire Department, World Trade Center.\\n\\nAnthony Mark Ventura\\n\\n 41\\n\\n Middletown, N.J., Fiduciary Trust Company International, World Trade Center.\\n\\nDavid Vera\\n\\n 41\\n\\n Euro Brokers, World Trade Center.\\n\\nLoretta Ann Vero\\n\\n 51\\n\\n Nanuet, N.Y., Marsh&McLennan consultant from American Express, World Trade Center.\\n\\nChristopher James Vialonga\\n\\n 30\\n\\n Demarest, N.J., Carr Futures, Inc., World Trade Center.\\n\\nMatthew Gilbert Vianna\\n\\n 23\\n\\n Manhasset, N.Y., Cantor Fitzgerald, World Trade Center.\\n\\nRobert Anthony Vicario\\n\\n 40\\n\\n Weehawken, N.J., Cantor Fitzgerald visitor, World Trade Center.\\n\\nCeleste Torres Victoria\\n\\n 41\\n\\n Risk Waters Group, World Trade Center.\\n\\nJoanna Vidal\\n\\n 26\\n\\n Risk Waters Group, World Trade Center.\\n\\nJohn T. Vigiano II\\n\\n 36\\n\\n West Islip, N.Y., New York City Fire Department, World Trade Center.\\n\\nJoseph Vincent Vigiano\\n\\n 34\\n\\n Medford, N.Y., New York City Police Department, World Trade Center.\\n\\nFrank J. Vignola, Jr.\\n\\n 44\\n\\n Merrick, N.Y., Cantor Fitzgerald, World Trade Center.\\n\\nJoseph Barry Vilardo\\n\\n 42\\n\\n Stanhope, N.J., Cantor Fitzgerald, World Trade Center.\\n\\nClaribel Villalobos Hernandez\\n\\n 31\\n\\n Woodside, N.Y., Risk Waters Group conference attendee from Sybase, World Trade Center.\\n\\nSergio Gabriel Villanueva\\n\\n 33\\n\\n Flushing, N.Y., New York City Fire Department, World Trade Center.\\n\\nChantal Vincelli\\n\\n 38\\n\\n New York, Risk Waters Group conference attendee from DataSynapse, World Trade Center.\\n\\nMelissa Renée Vincent\\n\\n 28\\n\\n Hoboken, N.J., Alliance Consulting Group, World Trade Center.\\n\\nFrancine Ann Virgilio\\n\\n 48\\n\\n Staten Island, N.Y., Aon Corporation, World Trade Center.\\n\\nLawrence Virgilio\\n\\n 38\\n\\n Sunnyside, N.Y., New York City Fire Department, World Trade Center.\\n\\nJoseph Gerard Visciano\\n\\n 22\\n\\n Staten Island, N.Y., Keefe, Bruyette&Woods, Inc., World Trade Center.\\n\\nJoshua S. Vitale\\n\\n 28\\n\\n Great Neck, N.Y., Cantor Fitzgerald, World Trade Center.\\n\\nMaria Percoco Vola\\n\\n 38\\n\\n Brooklyn, N.Y., Aon Corporation, World Trade Center.\\n\\nLynette D. Vosges\\n\\n 48\\n\\n Brooklyn, N.Y., Aon Corporation, World Trade Center.\\n\\nGaro H. Voskerijian\\n\\n 43\\n\\n Valley Stream, N.Y., Marsh&McLennan Companies, Inc., World Trade Center.\\n\\nAlfred Anton Vukosa\\n\\n 37\\n\\n Brooklyn, N.Y., Cantor Fitzgerald, World Trade Center.\\n\\nGregory Kamal Bruno Wachtler\\n\\n 25\\n\\n New York City, Fred Alger Management, Inc., World Trade Center.\\n\\nKaren J. Wagner\\n\\n 40\\n\\n Richmond, Va., United States Army, Pentagon.\\n\\nMary Alice Wahlstrom\\n\\n 78\\n\\n Kaysville, Utah, Passenger, United 11, World Trade Center.\\n\\nHonor Elizabeth Wainio\\n\\n 27\\n\\n Watchung, N.J., Passenger, United 93, Shanksville, Pa.\\n\\nGabriela Silvina Waisman\\n\\n 33\\n\\n Rego Park, N.Y., Risk Waters Group conference attendee from Sybase, World Trade Center.\\n\\nWendy Alice Rosario Wakeford\\n\\n 40\\n\\n Brooklyn, N.Y., Cantor Fitzgerald, World Trade Center.\\n\\nCourtney Wainsworth Walcott\\n\\n 37\\n\\n New Jersey, IQ Financial Systems, Inc., World Trade Center.\\n\\nVictor Wald\\n\\n 49\\n\\n New York City, Avalon Partners, Inc., World Trade Center.\\n\\nKenneth E. Waldie\\n\\n 46\\n\\n Methuen, Mass., Passenger, United 11, World Trade Center.\\n\\nBenjamin James Walker\\n\\n 41\\n\\n Suffern, N.Y., Guy Carpenter&Company, World Trade Center.\\n\\nGlen Wall\\n\\n 38\\n\\n Cantor Fitzgerald, World Trade Center.\\n\\nMitchel Scott Wallace\\n\\n 34\\n\\n Mineola, N.Y., New York State Unified Court System, World Trade Center.\\n\\nPeter Guyder Wallace\\n\\n 66\\n\\n Lincoln Park, N.J., Marsh&McLennan Companies, Inc., World Trade Center.\\n\\nRobert Francis Wallace\\n\\n 43\\n\\n Woodhaven, N.Y., New York City Fire Department, World Trade Center.\\n\\nRoy Michael Wallace\\n\\n 42\\n\\n Wyckoff, N.J., Cantor Fitzgerald, World Trade Center.\\n\\nJeanmarie Wallendorf\\n\\n 23\\n\\n Keefe, Bruyette&Woods, Inc., World Trade Center.\\n\\nMatthew Blake Wallens\\n\\n 31\\n\\n New York City, Cantor Fitzgerald, World Trade Center.\\n\\nMeta L. Waller\\n\\n ??\\n\\n United States Army Civilian, Pentagon.\\n\\nJohn Wallice, Jr.\\n\\n 43\\n\\n Huntington, N.Y., Cantor Fitzgerald, World Trade Center.\\n\\nBarbara P. Walsh\\n\\n 59\\n\\n Staten Island, N.Y., Marsh&McLennan Companies, Inc., World Trade Center.\\n\\nJim Walsh\\n\\n 37\\n\\n Scotch Plains, N.J., Cantor Fitzgerald, World Trade Center.\\n\\nJeffrey P. Walz\\n\\n 37\\n\\n Tuckahoe, N.Y., New York City Fire Department, World Trade Center.\\n\\nChing Wang\\n\\n 59\\n\\n First Commercial Bank, World Trade Center.\\n\\nWeibin Wang\\n\\n 41\\n\\n Orangeburg, N.Y., Cantor Fitzgerald, World Trade Center.\\n\\nMichael Warchola\\n\\n 51\\n\\n New York City Fire Department, World Trade Center.\\n\\nStephen Gordon Ward\\n\\n 33\\n\\n Gorham, Maine, Cantor Fitzgerald, World Trade Center.\\n\\nTimothy Ray Ward\\n\\n 38\\n\\n San Diego, Calif., Passenger, United 175, World Trade Center.\\n\\nJames A. Waring\\n\\n 49\\n\\n Bayside, N.Y., Cantor Fitzgerald, World Trade Center.\\n\\nBrian G. Warner\\n\\n 32\\n\\n Annandale, N.J., Cantor Fitzgerald, World Trade Center.\\n\\nDerrick Christopher Washington\\n\\n 33\\n\\n Calverton, N.Y., Verizon Communications, Inc., World Trade Center.\\n\\nCharles Waters\\n\\n 44\\n\\n Bethpage, N.Y., Cantor Fitzgerald, World Trade Center.\\n\\nJames Thomas Waters, Jr.\\n\\n 39\\n\\n New York City, Keefe, Bruyette&Woods, Inc., World Trade Center.\\n\\nPatrick J. Waters\\n\\n 44\\n\\n New York City Fire Department, World Trade Center.\\n\\nKenneth Thomas Watson\\n\\n 39\\n\\n New York City Fire Department, World Trade Center.\\n\\nMichael Henry Waye\\n\\n 38\\n\\n Marsh&McLennan Companies, Inc., World Trade Center.\\n\\nTodd Christopher Weaver\\n\\n 30\\n\\n Fiduciary Trust Company International, World Trade Center.\\n\\nWalter Edward Weaver\\n\\n 30\\n\\n New York City Police Department, World Trade Center.\\n\\nNathaniel Webb\\n\\n 56\\n\\n Jersey City, N.J., Port Authority Police Department, World Trade Center.\\n\\nDinah Webster\\n\\n 50\\n\\n Port Washington, N.Y., Risk Waters Group, World Trade Center.\\n\\nWilliam Michael Weems\\n\\n 46\\n\\n Marblehead, Mass., Passenger, United 175, World Trade Center.\\n\\nJoanne Flora Weil\\n\\n 39\\n\\n New York City, Harris Beach LLP, World Trade Center.\\n\\nMichael T. Weinberg\\n\\n 34\\n\\n Maspeth, N.Y., New York City Fire Department, World Trade Center.\\n\\nSteven Weinberg\\n\\n 41\\n\\n Baseline Financial Services, World Trade Center.\\n\\nScott Jeffrey Weingard\\n\\n 29\\n\\n New York City, Cantor Fitzgerald, World Trade Center.\\n\\nSteven George Weinstein\\n\\n 50\\n\\n Marsh&McLennan Companies, Inc., World Trade Center.\\n\\nSimon Weiser\\n\\n 65\\n\\n Port Authority of New York and New Jersey, World Trade Center.\\n\\nDavid M. Weiss\\n\\n 41\\n\\n New Hampton, N.Y., New York City Fire Department, World Trade Center.\\n\\nDavid Thomas Weiss\\n\\n 50\\n\\n Cantor Fitzgerald, World Trade Center.\\n\\nChin Sun Pak Wells\\n\\n 24\\n\\n Woodbridge, Va., United States Army, Pentagon.\\n\\nVincent Michael Wells\\n\\n 22\\n\\n Essex, England, United Kingdom, Cantor Fitzgerald, World Trade Center.\\n\\nDeborah Jacobs Welsh\\n\\n 49\\n\\n New York City, Flight Crew, United 93, Shanksville, Pa.\\n\\nTimothy Matthew Welty\\n\\n 34\\n\\n Yonkers, N.Y., New York City Fire Department, World Trade Center.\\n\\nChristian Hans Rudolf Wemmers\\n\\n 42\\n\\n Risk Waters Group conference attendee from Callixa Corporation, World Trade Center.\\n\\nSsu-Hui Wen\\n\\n 23\\n\\n Cantor Fitzgerald, World Trade Center.\\n\\nJohn Joseph Wenckus\\n\\n 46\\n\\n Torrance, Calif., Passenger, United 11, World Trade Center.\\n\\nOleh D. Wengerchuk\\n\\n 56\\n\\n Centerport, N.Y., Washington Group International, World Trade Center.\\n\\nPeter M. West\\n\\n 54\\n\\n Pottersville, N.J., Cantor Fitzgerald, World Trade Center.\\n\\nWhitfield West, Jr.\\n\\n 41\\n\\n Brooklyn, N.Y., Cantor Fitzgerald, World Trade Center.\\n\\nMeredith Lynn Whalen\\n\\n 23\\n\\n Hoboken, N.J., Fred Alger Management, Inc., World Trade Center.\\n\\nEugene Michael Whelan\\n\\n 31\\n\\n Belle Harbor, N.Y., New York City Fire Department, World Trade Center.\\n\\nAdam S. White\\n\\n 26\\n\\n Brooklyn, N.Y., Cantor Fitzgerald, World Trade Center.\\n\\nEdward James White III\\n\\n 30\\n\\n Woodside, N.Y., New York City Fire Department, World Trade Center.\\n\\nJames Patrick White\\n\\n 34\\n\\n Hoboken, N.J., Cantor Fitzgerald, World Trade Center.\\n\\nJohn Sylvester White\\n\\n 48\\n\\n Palm Bay, Fla., ABM Industries Inc., World Trade Center.\\n\\nKenneth Wilburn White, Jr.\\n\\n 50\\n\\n Staten Island, N.Y., Cantor Fitzgerald contractor from International Brotherhood of Electrical Workers, World Trade Center.\\n\\nLeonard Anthony White\\n\\n 57\\n\\n Brooklyn, N.Y., Verizon Communications, Inc., World Trade Center.\\n\\nMalissa Y. White\\n\\n 37\\n\\n Brooklyn, N.Y., Marsh&McLennan Companies, Inc., World Trade Center.\\n\\nMaudlyn A. White\\n\\n 38\\n\\n United States Army, Pentagon.\\n\\nSandra L. White\\n\\n 44\\n\\n Montclair, Va., United States Army Civilian, Pentagon.\\n\\nWayne White\\n\\n 37\\n\\n Marsh&McLennan Companies, Inc., World Trade Center.\\n\\nLeanne Marie Whiteside\\n\\n 31\\n\\n New York City, Aon Corporation, World Trade Center.\\n\\nMark P. Whitford\\n\\n 31\\n\\n Salisbury Mills, N.Y., New York City Fire Department, World Trade Center.\\n\\nLeslie A. Whittington\\n\\n 45\\n\\n University Park, Md., Passenger, American 77, Pentagon.\\n\\nMichael T. Wholey\\n\\n 34\\n\\n Westwood, N.J., Port Authority Police Department, World Trade Center.\\n\\nMary Lenz Wieman\\n\\n 43\\n\\n Rockville Centre, N.Y., Aon Corporation, World Trade Center.\\n\\nJeffrey David Wiener\\n\\n 33\\n\\n New York City, Marsh&McLennan Companies, Inc., World Trade Center.\\n\\nWilliam J. Wik\\n\\n 44\\n\\n Yonkers, N.Y., Aon Corporation, World Trade Center.\\n\\nAlison Marie Wildman\\n\\n 30\\n\\n Martinsville, N.J., Carr Futures, Inc., World Trade Center.\\n\\nGlenn E. Wilkinson\\n\\n 46\\n\\n Bayport, N.Y., New York City Fire Department, World Trade Center.\\n\\nErnest M. Willcher\\n\\n 62\\n\\n North Potomac, Md., United States Army contractor, Pentagon.\\n\\nJohn Charles Willett\\n\\n 29\\n\\n Jersey City, N.J., Cantor Fitzgerald, World Trade Center.\\n\\nBrian Patrick Williams\\n\\n 29\\n\\n New York City, Cantor Fitzgerald, World Trade Center.\\n\\nCandace Lee Williams\\n\\n 20\\n\\n Dorchester, Mass., Passenger, United 11, World Trade Center.\\n\\nCrossley Richard Williams, Jr.\\n\\n 28\\n\\n Long Island, N.Y., Fiduciary Trust Company International, World Trade Center.\\n\\nDavid J. Williams\\n\\n 34\\n\\n Bronx, N.Y., ABM Industries Inc., World Trade Center.\\n\\nDavid Lucian Williams\\n\\n 32\\n\\n Springfield, Va., United States Navy, Pentagon.\\n\\nDebbie L. Williams\\n\\n 35\\n\\n Hoboken, N.J., Aon Corporation, World Trade Center.\\n\\nDwayne Williams\\n\\n 40\\n\\n Lorton, Va., United States Army, Pentagon.\\n\\nKevin Michael Williams\\n\\n 24\\n\\n Shoreham, N.Y., Sandler O'Neill + Partners, World Trade Center.\\n\\nLouie Anthony Williams\\n\\n 44\\n\\n Port Authority of New York and New Jersey, World Trade Center.\\n\\nLouis Calvin Williams III\\n\\n 53\\n\\n Mandeville, La., Thomson Financial, World Trade Center.\\n\\nJohn P. Williamson\\n\\n 46\\n\\n Warwick, N.Y., New York City Fire Department, World Trade Center.\\n\\nDonna Ann Wilson\\n\\n 48\\n\\n Williston Park, N.Y., Aon Corporation, World Trade Center.\\n\\nWilliam Eben Wilson\\n\\n 58\\n\\n New York City, Aon Corporation, World Trade Center.\\n\\nDavid Harold Winton\\n\\n 29\\n\\n Brooklyn, N.Y., Keefe, Bruyette&Woods, Inc., World Trade Center.\\n\\nGlenn J. Winuk\\n\\n 40\\n\\n New York City, Jericho Fire Department, World Trade Center.\\n\\nThomas Francis Wise\\n\\n 43\\n\\n Marsh&McLennan Companies, Inc., World Trade Center.\\n\\nAlan L. Wisniewski\\n\\n 47\\n\\n Howell, N.J., Sandler O'Neill + Partners, World Trade Center.\\n\\nFrank Paul Wisniewski\\n\\n 54\\n\\n Basking Ridge, N.J., Cantor Fitzgerald, World Trade Center.\\n\\nDavid Wiswall\\n\\n 54\\n\\n Massapequa, N.Y., Aon Corporation, World Trade Center.\\n\\nSigrid Charlotte Wiswe\\n\\n 41\\n\\n New York City, Marsh&McLennan consultant from American Express, World Trade Center.\\n\\nMichael R. Wittenstein\\n\\n 34\\n\\n Hoboken, N.J., Cantor Fitzgerald, World Trade Center.\\n\\nChristopher W. Wodenshek\\n\\n 35\\n\\n Ridgewood, N.J., Cantor Fitzgerald, World Trade Center.\\n\\nMartin Phillips Wohlforth\\n\\n 47\\n\\n Greenwich, Conn., Sandler O'Neill + Partners, World Trade Center.\\n\\nKatherine Susan Wolf\\n\\n 40\\n\\n New York City, Marsh&McLennan Companies, Inc., World Trade Center.\\n\\nJennifer Yen Wong\\n\\n 26\\n\\n Whitestone, N.Y., Marsh&McLennan Companies, Inc., World Trade Center.\\n\\nSiucheung Steve Wong\\n\\n 34\\n\\n Jersey City, N.J., Marsh&McLennan Companies, Inc., World Trade Center.\\n\\nYin Ping Wong\\n\\n 34\\n\\n New York, Aon Corporation, World Trade Center.\\n\\nYuk Ping Wong\\n\\n 47\\n\\n New York State Department of Taxation and Finance, World Trade Center.\\n\\nBrent James Woodall\\n\\n 31\\n\\n Keefe, Bruyette&Woods, Inc., World Trade Center.\\n\\nJames John Woods\\n\\n 26\\n\\n New York City, Cantor Fitzgerald, World Trade Center.\\n\\nMarvin Roger Woods\\n\\n 57\\n\\n United States Navy Civilian, Pentagon.\\n\\nPatrick J. Woods\\n\\n 36\\n\\n Staten Island, N.Y., Aon Corporation contractor from United Brotherhood of Carpenters and Joiners of America, World Trade Center.\\n\\nRichard Herron Woodwell\\n\\n 44\\n\\n Ho-Ho-Kus, N.J., Keefe, Bruyette&Woods, Inc., World Trade Center.\\n\\nDavid Terence Wooley\\n\\n 54\\n\\n New York City Fire Department, World Trade Center.\\n\\nJohn Bentley Works\\n\\n 36\\n\\n Darien, Conn., Keefe, Bruyette&Woods, Inc., World Trade Center.\\n\\nMartin Michael Wortley\\n\\n 29\\n\\n Park Ridge, N.J., Cantor Fitzgerald, World Trade Center.\\n\\nRodney James Wotton\\n\\n 36\\n\\n Middletown, N.J., Fiduciary Trust Company International, World Trade Center.\\n\\nWilliam Wren, Ret.\\n\\n 61\\n\\n Lynbrook, N.Y., New York City Fire Department, World Trade Center.\\n\\nJohn W. Wright, Jr.\\n\\n 33\\n\\n Rockville Centre, N.Y., Sandler O'Neill + Partners, World Trade Center.\\n\\nNeil Robin Wright\\n\\n 30\\n\\n Cantor Fitzgerald, World Trade Center.\\n\\nSandra Lee Wright\\n\\n 57\\n\\n Pennsylvania, Aon Corporation, World Trade Center.\\n\\nJupiter Yambem\\n\\n 41\\n\\n Beacon, N.Y., Windows on the World, World Trade Center.\\n\\nJohn D. Yamnicky, Sr.\\n\\n 71\\n\\n Waldorf, Md., , Passenger, American 77, Pentagon.\\n\\nSuresh Yanamadala\\n\\n 33\\n\\n Plainsboro, N.J., Marsh&McLennan consultant, World Trade Center.\\n\\nVicki Yancey\\n\\n 44\\n\\n Springfield, Va., Passenger, American 77, Pentagon.\\n\\nShuyin Yang\\n\\n ??\\n\\n Passenger, American 77, Pentagon.\\n\\nMatthew David Yarnell\\n\\n 26\\n\\n Jersey City, N.J., Fiduciary Trust Company International, World Trade Center.\\n\\nMyrna Yaskulka\\n\\n 59\\n\\n Staten Island, N.Y., Fred Alger Management, Inc., World Trade Center.\\n\\nShakila Yasmin\\n\\n 26\\n\\n Brooklyn, N.Y., Marsh&McLennan Companies, Inc., World Trade Center.\\n\\nOlabisi Shadie Layeni Yee\\n\\n 38\\n\\n International Office Centers Corporation, World Trade Center.\\n\\nKevin W. Yokum\\n\\n 27\\n\\n Washington, D.C., United States Navy, Pentagon.\\n\\nEdward P. York\\n\\n 45\\n\\n Wilton, Conn., Cantor Fitzgerald, World Trade Center.\\n\\nKevin Patrick York\\n\\n 41\\n\\n Princeton, N.J., Euro Brokers, World Trade Center.\\n\\nRaymond R. York\\n\\n 45\\n\\n New York City Fire Department, World Trade Center.\\n\\nSuzanne Martha Youmans\\n\\n 60\\n\\n Brooklyn, N.Y., Aon Corporation, World Trade Center.\\n\\nBarrington Leroy Young, Jr.\\n\\n 35\\n\\n Rosedale, N.Y., Euro Brokers, World Trade Center.\\n\\nDonald McArthur Young\\n\\n 41\\n\\n Virginia Beach, Va., United States Navy, Pentagon.\\n\\nEdmond G. Young, Jr.\\n\\n 22\\n\\n Owings, Md., United States Army contractor, Pentagon.\\n\\nJacqueline Young\\n\\n 47\\n\\n Marsh&McLennan Companies, Inc., World Trade Center.\\n\\nLisa L. Young\\n\\n 37\\n\\n United States Army Civilian, Pentagon.\\n\\nElkin Yuen\\n\\n 32\\n\\n Flushing, N.Y., Carr Futures, Inc., World Trade Center.\\n\\nJoseph C. Zaccoli\\n\\n 39\\n\\n Valley Stream, N.Y., Cantor Fitzgerald, World Trade Center.\\n\\nAdel Agayby Zakhary\\n\\n 50\\n\\n Carr Futures, Inc., World Trade Center.\\n\\nArkady Zaltsman\\n\\n 45\\n\\n Brooklyn, N.Y., Aon Corporation visitor from Skidmore, Owings and Merrill LLP, World Trade Center.\\n\\nEdwin J. Zambrana, Jr.\\n\\n 24\\n\\n Staten Island, N.Y., Project Renewal, World Trade Center.\\n\\nRobert Alan Zampieri\\n\\n 30\\n\\n Jersey City, N.J., Carr Futures, Inc., World Trade Center.\\n\\nMark Zangrilli\\n\\n 36\\n\\n Pompton Plains, N.J., Aon Corporation visitor from AXA, World Trade Center.\\n\\nChristopher R. Zarba, Jr.\\n\\n 47\\n\\n Hopkinton, Mass., Passenger, United 11, World Trade Center.\\n\\nIra Zaslow\\n\\n 55\\n\\n Long Island, N.Y., Lehman Brothers Holdings Inc., World Trade Center.\\n\\nKenneth Albert Zelman\\n\\n 36\\n\\n Succasunna, N.J., Marsh&McLennan contractor from Oracle Corporation, World Trade Center.\\n\\nAbraham J. Zelmanowitz\\n\\n 55\\n\\n Brooklyn, N.Y., Empire BlueCross BlueShield, World Trade Center.\\n\\nMartin Morales Zempoaltecatl\\n\\n 22\\n\\n Windows on the World, World Trade Center.\\n\\nZhe Zeng\\n\\n 28\\n\\n Bank of New York, World Trade Center.\\n\\nMarc Scott Zeplin\\n\\n 33\\n\\n Westchester, N.Y., Cantor Fitzgerald, World Trade Center.\\n\\nJie Yao Justin Zhao\\n\\n 27\\n\\n New York City, CompuCom Systems, Inc., World Trade Center.\\n\\nYuguang Zheng\\n\\n ??\\n\\n Passenger, American 77, Pentagon.\\n\\nIvelin Ziminski\\n\\n 41\\n\\n Tarrytown, N.Y., Marsh&McLennan Companies, Inc., World Trade Center.\\n\\nMichael Joseph Zinzi\\n\\n 37\\n\\n Newfoundland, N.J., Marsh&McLennan Companies, Inc., World Trade Center.\\n\\nCharles Alan Zion\\n\\n 54\\n\\n Greenwich, Conn., Cantor Fitzgerald, World Trade Center.\\n\\nJulie Lynne Zipper\\n\\n 44\\n\\n Paramus, N.J., Sandler O'Neill visitor from SunGard Data Systems, Inc., World Trade Center.\\n\\nSalvatore J. Zisa\\n\\n 45\\n\\n Hawthorne, N.J., Marsh&McLennan Companies, Inc., World Trade Center.\\n\\nProkopios Paul Zois\\n\\n 46\\n\\n Lynbrook, N.Y., Marsh&McLennan consultant from American Express, World Trade Center.\\n\\nJoseph J. Zuccala\\n\\n 54\\n\\n Croton-on-Hudson, N.Y., Fuji Bank, Ltd., World Trade Center.\\n\\nAndrew Steven Zucker\\n\\n 27\\n\\n Riverdale, N.Y., Harris Beach LLP, World Trade Center.\\n\\nIgor Zukelman\\n\\n 29\\n\\n Fiduciary Trust Company International, World Trade Center.\\n\""
     },
     "metadata": {},
     "execution_count": 44
    }
   ],
   "source": [
    "output"
   ]
  },
  {
   "cell_type": "markdown",
   "metadata": {},
   "source": [
    "#### Step 2 -- Write the string to a file called `911_deaths_extra_removed.csv`"
   ]
  },
  {
   "cell_type": "code",
   "execution_count": 91,
   "metadata": {},
   "outputs": [],
   "source": [
    "# Your code here\n",
    "with open(\"911_deaths_extra_removed.csv\", w) as outfile:\n",
    "    outfile.write(output)"
   ]
  }
 ],
 "metadata": {
  "kernelspec": {
   "display_name": "Python 3",
   "language": "python",
   "name": "python3"
  },
  "language_info": {
   "codemirror_mode": {
    "name": "ipython",
    "version": 3
   },
   "file_extension": ".py",
   "mimetype": "text/x-python",
   "name": "python",
   "nbconvert_exporter": "python",
   "pygments_lexer": "ipython3",
   "version": "3.7.6-final"
  }
 },
 "nbformat": 4,
 "nbformat_minor": 2
}