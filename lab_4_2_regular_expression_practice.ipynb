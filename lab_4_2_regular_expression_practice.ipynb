{
 "cells": [
  {
   "cell_type": "markdown",
   "metadata": {},
   "source": [
    "# Lab 4.2- Regular Expression Practice\n",
    "\n",
    "Now that we have grouped the data blocks, we need to identify and correct problems in the data.  The go-to tools for this task is the regular expression.  In this lab, we will point out a number of problems in the grouped data and create regular expression to perform various tasks (matching/splitting/substitution)."
   ]
  },
  {
   "cell_type": "markdown",
   "metadata": {},
   "source": [
    "## Problem 1 -- Reading in current progress\n",
    "\n",
    "Recall that we saved the results of grouping the data in a file named `911_Deaths_Grouped.csv`.  Read in the content of this file and split the content into a list of lines."
   ]
  },
  {
   "cell_type": "code",
   "execution_count": 2,
   "metadata": {},
   "outputs": [],
   "source": [
    "# Your code here"
   ]
  },
  {
   "cell_type": "markdown",
   "metadata": {},
   "source": [
    "#### Key"
   ]
  },
  {
   "cell_type": "code",
   "execution_count": 1,
   "metadata": {},
   "outputs": [
    {
     "output_type": "execute_result",
     "data": {
      "text/plain": [
       "\"Gordon M. Aamoth, Jr., 32, Sandler O'Neill + Partners, World Trade Center.\\nEdelmiro Abad, 54, Brooklyn, N.Y., Fiduciary Trust Company International, World Trade Center.\\nMarie Rose Abad, 49, Keefe, Bruyette&Woods, Inc., World Trade Center.\\nAndrew Anthony Abate, 37, Melville, N.Y., Cantor Fitzgerald, World Trade Center.\\nVincent Paul Abate, 40, Brooklyn, N.Y., Cantor Fitzgerald, World Trade Center.\\nLaurence Christopher Abel, 37, New York City, Cantor Fitzgerald, World Trade Center.\\nAlona Abraham, 3\""
      ]
     },
     "metadata": {},
     "execution_count": 1
    }
   ],
   "source": [
    "with open('911_Deaths_Grouped.csv') as f:\n",
    "    content = f.read()\n",
    "content[:500]"
   ]
  },
  {
   "cell_type": "code",
   "execution_count": 2,
   "metadata": {},
   "outputs": [
    {
     "output_type": "execute_result",
     "data": {
      "text/plain": [
       "antor Fitzgerald, World Trade Center.',\n",
       " 'Anthony J. Fallone, Jr., 39, New York City, Cantor Fitzgerald, World Trade Center.',\n",
       " 'Dolores Brigitte Fanelli, 38, Farmingville, N.Y., Marsh&McLennan Companies, Inc., World Trade Center.',\n",
       " 'Robert John Fangman, 33, Chelsea, Mass., Flight Crew, United 175, World Trade Center.',\n",
       " 'John Joseph Fanning, 54, West Hempstead, N.Y., New York City Fire Department, World Trade Center.',\n",
       " 'Kathleen Anne Faragher, 33, Risk Waters Group conference attendee from Janus Capital Group, World Trade Center.',\n",
       " 'Thomas James Farino, 37, Bohemia, N.Y., New York City Fire Department, World Trade Center.',\n",
       " 'Nancy C. Doloszycki Farley, 45, Jersey City, N.J., Reinsurance Solutions, World Trade Center.',\n",
       " 'Paige Marie Farley-Hackel, 46, Newton, Mass., Passenger, United 11, World Trade Center.',\n",
       " 'Elizabeth Ann Farmer, 62, Cantor Fitzgerald contractor, World Trade Center.',\n",
       " 'Douglas Jon Farnum, 33, Brooklyn, N.Y., Marsh&McLennan Companies, Inc., World Trade Center.',\n",
       " 'John Gerard Farrell, 32, Brooklyn, N.Y., Cantor Fitzgerald, World Trade Center.',\n",
       " \"John W. Farrell, 41, Basking Ridge, N.J., Sandler O'Neill + Partners, World Trade Center.\",\n",
       " 'Terrence Patrick Farrell, 45, New York City Fire Department, World Trade Center.',\n",
       " 'Joseph D. Farrelly, 47, New York City Fire Department, World Trade Center.',\n",
       " 'Thomas Patrick Farrelly, 54, Marsh&McLennan consultant, World Trade Center.',\n",
       " 'Syed Abdul Fatha, 54, Newark, N.J., Pitney Bowes Inc., World Trade Center.',\n",
       " 'Christopher Edward Faughnan, 37, South Orange, N.J., Cantor Fitzgerald, World Trade Center.',\n",
       " 'Wendy R. Faulkner, 47, Mason, Ohio, Aon Corporation, World Trade Center.',\n",
       " 'Shannon Marie Fava, 30, Cantor Fitzgerald, World Trade Center.',\n",
       " 'Bernard D. Favuzza, 52, Cantor Fitzgerald, World Trade Center.',\n",
       " 'Robert Fazio, Jr., 41, Freeport, N.Y., New York City Police Department, World Trade Center.',\n",
       " 'Ronald Carl Fazio, Sr., 57, Closter, N.J., Aon Corporation, World Trade Center.',\n",
       " 'William M. Feehan, 71, Flushing, N.Y., New York City Fire Department, World Trade Center.',\n",
       " 'Francis Jude Feely, 41, Marsh&McLennan Companies, Inc., World Trade Center.',\n",
       " 'Garth Erin Feeney, 25, New York City, Risk Waters Group conference attendee from DataSynapse, World Trade Center.',\n",
       " 'Sean Bernard Fegan, 34, New York City, Fred Alger Management, Inc., World Trade Center.',\n",
       " 'Lee S. Fehling, 28, Wantagh, N.Y., New York City Fire Department, World Trade Center.',\n",
       " 'Peter Adam Feidelberg, 34, Hoboken, N.J., Aon Corporation, World Trade Center.',\n",
       " 'Alan D. Feinberg, 48, Marlboro, N.J., New York City Fire Department, World Trade Center.',\n",
       " 'Rosa Maria Feliciano, 30, Marsh&McLennan Companies, Inc., World Trade Center.',\n",
       " 'Edward P. Felt, 41, Matawan, N.J., Passenger, United 93, Shanksville, Pa.',\n",
       " 'Edward Thomas Fergus, Jr., 40, Wilton, Conn., Cantor Fitzgerald, World Trade Center.',\n",
       " 'George J. Ferguson III, 54, Teaneck, N.J., Westfalia Investments, Inc., World Trade Center.',\n",
       " 'J. Joseph Ferguson, 39, Washington, D.C., Passenger, American 77, Pentagon.',\n",
       " 'Henry Fernandez, 23, Windows on the World, World Trade Center.',\n",
       " 'Judy Hazel Santillan Fernandez, 27, Parlin, N.J., Cantor Fitzgerald, World Trade Center.',\n",
       " 'Julio Fernandez, 51, Hudson Shatz, World Trade Center.',\n",
       " 'Elisa Giselle Ferraina, 26, Risk Waters Group, World Trade Center.',\n",
       " 'Anne Marie Sallerin Ferreira, 29, Cantor Fitzgerald, World Trade Center.',\n",
       " 'Robert John Ferris, 63, Garden City, N.Y., Aon Corporation, World Trade Center.',\n",
       " 'David Francis Ferrugio, 46, Middletown, N.J., Cantor Fitzgerald, World Trade Center.',\n",
       " 'Louis V. Fersini, Jr., 38, Basking Ridge, N.J., Cantor Fitzgerald, World Trade Center.',\n",
       " 'Michael David Ferugio, 37, Brooklyn, N.Y., Aon Corporation visitor from Swett&Crawford Group, World Trade Center.',\n",
       " 'Bradley James Fetchet, 24, Keefe, Bruyette&Woods, Inc., World Trade Center.',\n",
       " 'Jennifer Louise Fialko, 29, Teaneck, N.J., Aon Corporation, World Trade Center.',\n",
       " 'Kristen Nicole Fiedel, 27, Marsh&McLennan Companies, Inc., World Trade Center.',\n",
       " 'Amelia V. Fields, 46, Dumfries, Va., United States Army Civilian, Pentagon.',\n",
       " 'Samuel Fields, 36, Summit Security Services, Inc., World Trade Center.',\n",
       " 'Alexander Milan Filipov, 70, Concord, Mass., Passenger, United 11, World Trade Center.',\n",
       " 'Michael Bradley Finnegan, 37, Basking Ridge, N.J., Cantor Fitzgerald, World Trade Center.',\n",
       " 'Timothy J. Finnerty, 33, Glen Rock, N.J., Cantor Fitzgerald, World Trade Center.',\n",
       " 'Michael C. Fiore, 46, Staten Island, N.Y., New York City Fire Department, World Trade Center.',\n",
       " 'Stephen J. Fiorelli, 43, Aberdeen, N.J., Port Authority of New York and New Jersey, World Trade Center.',\n",
       " 'Paul M. Fiori, 31, Cantor Fitzgerald, World Trade Center.',\n",
       " 'John B. Fiorito, 40, Stamford, Conn., Cantor Fitzgerald, World Trade Center.',\n",
       " 'John R. Fischer, 46, New York City Fire Department, World Trade Center.',\n",
       " 'Andrew Fisher, 42, Risk Waters Group conference attendee from Imagine Software, Inc., World Trade Center.',\n",
       " 'Bennett Lawson Fisher, 58, Greenwich, Conn., Fiduciary Trust Company International, World Trade Center.',\n",
       " 'Gerald P. Fisher, 57, Potomac, Md., United States Army contractor, Pentagon.',\n",
       " 'John Roger Fisher, 46, Port Authority of New York and New Jersey, World Trade Center.',\n",
       " 'Thomas J. Fisher, 36, Union, N.J., Fiduciary Trust Company International, World Trade Center.',\n",
       " 'Lucy A. Fishman, 36, Brooklyn, N.Y., Aon Corporation, World Trade Center.',\n",
       " 'Ryan D. Fitzgerald, 26, Floral Park, N.Y., Fiduciary Trust Company International, World Trade Center.',\n",
       " \"Thomas James Fitzpatrick, 35, Tuckahoe, N.Y., Sandler O'Neill + Partners, World Trade Center.\",\n",
       " 'Richard P. Fitzsimons, 57, Lynbrook, N.Y., World Trade Center Fire Safety, World Trade Center.',\n",
       " 'Salvatore Fiumefreddo, 45, Manalapan, N.J., Cantor Fitzgerald contractor from International Brotherhood of Electrical Workers, World Trade Center.',\n",
       " 'Darlene E. Flagg, ??, Passenger, American 77, Pentagon.',\n",
       " 'Wilson F. Flagg, 62, Millwood, Va., Passenger, American 77, Pentagon.',\n",
       " \"Christina Donovan Flannery, 26, Middle Village, N.Y., Sandler O'Neill + Partners, World Trade Center.\",\n",
       " 'Eileen Flecha, 33, Queens, N.Y., Fiduciary Trust Company International, World Trade Center.',\n",
       " 'Andre G. Fletcher, 37, New York City Fire Department, World Trade Center.',\n",
       " 'Carl M. Flickinger, 38, Congers, N.Y., Cantor Fitzgerald, World Trade Center.',\n",
       " 'Matthew M. Flocco, ??, United States Navy, Pentagon.',\n",
       " 'John Joseph Florio, 33, Oceanside, N.Y., New York City Fire Department, World Trade Center.',\n",
       " 'Joseph Walkden Flounders, 46, East Stroudsburg, Pa., Euro Brokers, World Trade Center.',\n",
       " 'Carol Ann Flyzik, 40, Plaistow, N.H., Passenger, United 11, World Trade Center.',\n",
       " 'David Fodor, 38, Fiduciary Trust Company International, World Trade Center.',\n",
       " 'Michael N. Fodor, 53, Warwick, N.Y., New York City Fire Department, World Trade Center.',\n",
       " 'Stephen Mark Fogel, 40, Cantor Fitzgerald, World Trade Center.',\n",
       " 'Thomas J. Foley, 32, Central Nyack, N.Y., New York City Fire Department, World Trade Center.',\n",
       " 'Jane C. Folger, 73, Bayonne, N.J., Passenger, United 93, Shanksville, Pa.',\n",
       " 'David J. Fontana, 37, Brooklyn, N.Y., New York City Fire Department, World Trade Center.',\n",
       " 'Chih Min Foo, 40, Holmdel, N.J., New York Board of Trade, World Trade Center.',\n",
       " 'Delrose E. Forbes Cheatham, 48, Effort, Pa., Cantor Fitzgerald, World Trade Center.',\n",
       " 'Godwin Forde, 38, Morgan Stanley contractor, World Trade Center.',\n",
       " 'Donald A. Foreman, 53, Staten Island, N.Y., Port Authority Police Department, World Trade Center.',\n",
       " 'Christopher Hugh Forsythe, 44, Cantor Fitzgerald, World Trade Center.',\n",
       " 'Claudia Alicia Foster, 26, Cantor Fitzgerald, World Trade Center.',\n",
       " 'Noel John Foster, 40, Aon Corporation, World Trade Center.',\n",
       " 'Sandra N. Foster, 41, Defense Intelligence Agency, Pentagon.',\n",
       " 'Ana Fosteris, 58, Aon Corporation, World Trade Center.',\n",
       " 'Robert Joseph Foti, 42, Albertson, N.Y., New York City Fire Department, World Trade Center.',\n",
       " 'Jeffrey Fox, 40, Cranbury, N.J., Keefe, Bruyette&Woods, Inc., World Trade Center.',\n",
       " 'Virginia Elizabeth Fox, 58, New York City, Marsh&McLennan Companies, Inc., World Trade Center.',\n",
       " 'Pauline Francis, 56, Brooklyn, N.Y., Cantor Fitzgerald, Forte Food Service, World Trade Center.',\n",
       " 'Virgin Lucy Francis, 62, Brooklyn, N.Y., Windows on the World, World Trade Center.',\n",
       " 'Gary Jay Frank, 35, South Amboy, N.J., Aon Corporation, World Trade Center.',\n",
       " 'Morton H. Frank, 31, Cantor Fitzgerald, World Trade Center.',\n",
       " 'Peter Christopher Frank, 29, New York City, Fred Alger Management, Inc., World Trade Center.',\n",
       " 'Colleen L. Fraser, 51, Elizabeth, N.J., Passenger, United 93, Shanksville, Pa.',\n",
       " 'Richard K. Fraser, 32, Aon Corporation, World Trade Center.',\n",
       " 'Kevin J. Frawley, 34, Bronxville, N.Y., Euro Brokers, World Trade Center.',\n",
       " 'Clyde Frazier, Jr., 41, Jamaica, N.Y., New York State Department of Taxation and Finance, Revenue Crimes Bureau, World Trade Center.',\n",
       " 'Lillian Inez Frederick, 46, Teaneck, N.J., Aon Corporation, World Trade Center.',\n",
       " 'Andrew Fredericks, 40, Suffern, N.Y., New York City Fire Department, World Trade Center.',\n",
       " 'Tamitha Freeman, 35, Aon Corporation, World Trade Center.',\n",
       " 'Brett Owen Freiman, 28, New York City, Marriott guest, World Trade Center.',\n",
       " 'Peter L. Freund, 45, Westtown, N.Y., New York City Fire Department, World Trade Center.',\n",
       " 'Arlene Eva Fried, 49, Roslyn, N.Y., Cantor Fitzgerald, World Trade Center.',\n",
       " 'Alan W. Friedlander, 52, Yorktown Heights, N.Y., Aon Corporation, World Trade Center.',\n",
       " 'Andrew Keith Friedman, 44, Woodbury, N.Y., Carr Futures, Inc., World Trade Center.',\n",
       " 'Paul J. Friedman, 45, Passenger, United 11, World Trade Center.',\n",
       " 'Gregg J. Froehner, 46, Chester, N.J., Port Authority Police Department, World Trade Center.',\n",
       " 'Lisa Anne Frost, 22, Rancho Santa Margarita, Calif., Passenger, United 175, World Trade Center.',\n",
       " 'Peter Christian Fry, 36, Wilton, Conn., Euro Brokers, World Trade Center.',\n",
       " 'Clement A. Fumando, 59, Staten Island, N.Y., Cantor Fitzgerald, World Trade Center.',\n",
       " 'Steven Elliot Furman, 40, Cantor Fitzgerald, World Trade Center.',\n",
       " 'Paul James Furmato, 37, Colts Neck, N.J., Cantor Fitzgerald, World Trade Center.',\n",
       " 'Karleton Douglas Beye Fyfe, 31, Brookline, Mass., Passenger, United 11, World Trade Center.',\n",
       " 'Fredric Neal Gabler, 30, New York City, Cantor Fitzgerald, World Trade Center.',\n",
       " 'Richard Peter Gabriel, 54, Great Falls, Va., Passenger, American 77, Pentagon.',\n",
       " 'Richard S. Gabrielle, 50, West Haven, Conn., Aon Corporation, World Trade Center.',\n",
       " 'James Andrew Gadiel, 23, Kent, Conn., Cantor Fitzgerald, World Trade Center.',\n",
       " 'Pamela Lee Gaff, 51, Robbinsville, N.J., Aon Corporation, World Trade Center.',\n",
       " 'Ervin Vincent Gailliard, 42, Summit Security Services, Inc., World Trade Center.',\n",
       " 'Deanna Lynn Galante and her unborn child, 32, Staten Island, N.Y., Cantor Fitzgerald, World Trade Center.',\n",
       " 'Grace Catherine Galante, 29, Staten Island, N.Y., Cantor Fitzgerald, World Trade Center.',\n",
       " 'Anthony Edward Gallagher, 41, New York City, Cantor Fitzgerald, World Trade Center.',\n",
       " 'Daniel James Gallagher, 23, Red Bank, N.J., Cantor Fitzgerald, World Trade Center.',\n",
       " 'John Patrick Gallagher, 31, Cantor Fitzgerald, World Trade Center.',\n",
       " 'Lourdes J. Galletti, 35, Bronx, N.Y., Cantor Fitzgerald, World Trade Center.',\n",
       " 'Cono E. Gallo, 30, Maspeth, N.Y., Carr Futures, Inc., World Trade Center.',\n",
       " 'Vincent Gallucci, 36, Monroe, N.J., Marsh&McLennan Companies, Inc., World Trade Center.',\n",
       " 'Thomas E. Galvin, 32, New York City, Cantor Fitzgerald, World Trade Center.',\n",
       " 'Giovanna Galletta Gambale, 27, Brooklyn, N.Y., Cantor Fitzgerald, World Trade Center.',\n",
       " 'Thomas Gambino, Jr., 48, Babylon, N.Y., New York City Fire Department, World Trade Center.',\n",
       " 'Giann F. Gamboa, 26, East Elmhurst, N.Y., Aramark Corporation, World Trade Center.',\n",
       " 'Ronald L. Gamboa, 33, Los Angeles, Calif., Passenger, United 175, World Trade Center.',\n",
       " 'Peter James Ganci, Jr., 54, North Massapequa, N.Y., New York City Fire Department, World Trade Center.',\n",
       " 'Michael Gann, 41, Roswell, Ga., Risk Waters Group conference attendee from Algorithmics Incorporated, World Trade Center.',\n",
       " 'Charles William Garbarini, 44, Westchester, N.Y., New York City Fire Department, World Trade Center.',\n",
       " 'Andrew Sonny Garcia, 62, Portola Valley, Calif., Passenger, United 93, Shanksville, Pa.',\n",
       " 'Cesar R. Garcia, 36, Staten Island, N.Y., Marsh&McLennan Companies, Inc., World Trade Center.',\n",
       " 'David Garcia, 40, Freeport, N.Y., Marsh&McLennan consultant from Allegiance Group, World Trade Center.',\n",
       " 'Jorge Luis Morron Garcia, 38, Jackson Heights, N.Y., Summit Security Services, Inc., World Trade Center.',\n",
       " 'Juan Garcia, 50, Cantor Fitzgerald, Forte Food Service, World Trade Center.',\n",
       " 'Marlyn Del Carmen Garcia, 21, Brooklyn, N.Y., Marsh&McLennan Companies, Inc., World Trade Center.',\n",
       " 'Christopher Samuel Gardner, 36, Darien, Conn., Aon Corporation, World Trade Center.',\n",
       " 'Douglas Benjamin Gardner, 39, New York City, Cantor Fitzgerald, World Trade Center.',\n",
       " 'Harvey Joseph Gardner III, 35, Lake Wood, N.J., General Telecommunications, World Trade Center.',\n",
       " 'Jeffrey Brian Gardner, 36, Hoboken, N.J., Marsh&McLennan Companies, Inc., World Trade Center.',\n",
       " 'Thomas A. Gardner, 39, Oceanside, N.Y., New York City Fire Department, World Trade Center.',\n",
       " 'William Arthur Gardner, 45, Cantor Fitzgerald, World Trade Center.',\n",
       " 'Frank Garfi, 28, New York City, Cantor Fitzgerald, World Trade Center.',\n",
       " 'Rocco Nino Gargano, 28, Cantor Fitzgerald, World Trade Center.',\n",
       " 'James M. Gartenberg, 35, New York City, Julien J. Studley, World Trade Center.',\n",
       " 'Matthew David Garvey, 37, New York City Fire Department, World Trade Center.',\n",
       " 'Bruce Gary, 51, Bellmore, N.Y., New York City Fire Department, World Trade Center.',\n",
       " 'Boyd Alan Gatton, 38, Fiduciary Trust Company International, World Trade Center.',\n",
       " 'Donald Richard Gavagan, Jr., 35, Brooklyn, N.Y., Cantor Fitzgerald, World Trade Center.',\n",
       " 'Peter Alan Gay, 54, Tewksbury, Mass., Passenger, United 11, World Trade Center.',\n",
       " 'Terence D. Gazzani, 24, Cantor Fitzgerald, World Trade Center.',\n",
       " 'Gary Paul Geidel, 44, Staten Island, N.Y., New York City Fire Department, World Trade Center.',\n",
       " 'Paul Hamilton Geier, 36, Cantor Fitzgerald, World Trade Center.',\n",
       " \"Julie M. Geis, 44, Lee's Summit, Mo., Aon Corporation, World Trade Center.\",\n",
       " 'Peter Gerard Gelinas, 34, Westchester, N.Y., Cantor Fitzgerald, World Trade Center.',\n",
       " 'Steven Paul Geller, 52, New York City, Cantor Fitzgerald, World Trade Center.',\n",
       " \"Howard G. Gelling, Jr., 28, New York City, Sandler O'Neill + Partners, World Trade Center.\",\n",
       " 'Peter Victor Genco, Jr., 36, Rockville Centre, N.Y., Cantor Fitzgerald, World Trade Center.',\n",
       " 'Steven Gregory Genovese, 37, Basking Ridge, N.J., Cantor Fitzgerald, World Trade Center.',\n",
       " 'Alayne Gentul, 44, Fiduciary Trust Company International, World Trade Center.',\n",
       " 'Linda M. George, 27, Westboro, Mass., Passenger, United 11, World Trade Center.',\n",
       " 'Edward F. Geraghty, 45, New York City Fire Department, World Trade Center.',\n",
       " 'Suzanne Geraty, 30, Brooklyn, N.Y., Cantor Fitzgerald, World Trade Center.',\n",
       " 'Ralph Gerhardt, 34, New York City, Cantor Fitzgerald, World Trade Center.',\n",
       " 'Robert Gerlich, 56, Reinsurance Solutions, World Trade Center.',\n",
       " 'Denis P. Germain, 33, Tuxedo, N.Y., New York City Fire Department, World Trade Center.',\n",
       " 'Marina Romanovna Gertsberg, 25, Brooklyn, N.Y., Cantor Fitzgerald, World Trade Center.',\n",
       " 'Susan M. Getzendanner, 57, Fiduciary Trust Company International, World Trade Center.',\n",
       " 'Lawrence D. Getzfred, 57, Maryland, United States Navy, Pentagon.',\n",
       " 'James G. Geyer, 41, Rockville Centre, N.Y., Cantor Fitzgerald, World Trade Center.',\n",
       " 'Cortez Ghee, ??, United States Army Civilian, Pentagon.',\n",
       " 'Joseph M. Giaccone, 43, Monroe, N.J., Cantor Fitzgerald, World Trade Center.',\n",
       " 'Vincent Francis Giammona, 40, Valley Stream, N.Y., New York City Fire Department, World Trade Center.',\n",
       " 'Debra Lynn Gibbon, 43, Hackettstown, N.J., Aon Corporation, World Trade Center.',\n",
       " 'James Andrew Giberson, 43, Staten Island, N.Y., New York City Fire Department, World Trade Center.',\n",
       " 'Brenda C. Gibson, 59, Fredericksburg, Va., United States Army Civilian, Pentagon.',\n",
       " 'Craig Neil Gibson, 37, Brooklyn, N.Y., Marsh&McLennan Companies, Inc., World Trade Center.',\n",
       " 'Ronnie E. Gies, 43, Merrick, N.Y., New York City Fire Department, World Trade Center.',\n",
       " 'Andrew Clive Gilbert, 39, Tewksbury, N.J., Cantor Fitzgerald, World Trade Center.',\n",
       " 'Timothy Paul Gilbert, 35, Cantor Fitzgerald, World Trade Center.',\n",
       " 'Paul Stuart Gilbey, 39, Chatham, N.J., Euro Brokers, World Trade Center.',\n",
       " 'Paul John Gill, 34, Astoria, N.Y., New York City Fire Department, World Trade Center.',\n",
       " 'Mark Y. Gilles, 33, Brooklyn, N.Y., Cantor Fitzgerald consultant, World Trade Center.',\n",
       " \"Evan Hunter Gillette, 40, New York City, Sandler O'Neill + Partners, World Trade Center.\",\n",
       " 'Ronald Lawrence Gilligan, 43, Cantor Fitzgerald, World Trade Center.',\n",
       " 'Rodney C. Gillis, 33, Brooklyn, N.Y., New York City Police Department, World Trade Center.',\n",
       " 'Laura Gilly, 32, Brooklyn, N.Y., Cantor Fitzgerald, World Trade Center.',\n",
       " 'John F. Ginley, 37, Warwick, N.Y., New York City Fire Department, World Trade Center.',\n",
       " 'Donna Marie Giordano, 44, Aon Corporation, World Trade Center.',\n",
       " 'Jeffrey John Giordano, 45, New York City Fire Department, World Trade Center.',\n",
       " 'John Giordano, 47, New York City Fire Department, World Trade Center.',\n",
       " 'Steven A. Giorgetti, 43, Manhasset, N.Y., Marsh&McLennan Companies, Inc., World Trade Center.',\n",
       " 'Martin Giovinazzo, 34, Marsh&McLennan Companies, Inc., World Trade Center.',\n",
       " 'Kum-Kum Girolamo, 41, Kew Gardens, N.Y., Aon Corporation, World Trade Center.',\n",
       " 'Salvatore Gitto, 44, Manalapan, N.J., Marsh&McLennan Companies, Inc., World Trade Center.',\n",
       " 'Cynthia Giugliano, 46, Nesconset, N.Y., Empire BlueCross BlueShield, World Trade Center.',\n",
       " 'Mon Gjonbalaj, 64, Bronx, N.Y., ABM Industries Inc., World Trade Center.',\n",
       " 'Dianne Gladstone, 55, Forest Hills, N.Y., New York State Department of Taxation and Finance, World Trade Center.',\n",
       " 'Keith Alexander Glascoe, 38, New York City Fire Department, World Trade Center.',\n",
       " \"Thomas Irwin Glasser, 40, Summit, N.J., Sandler O'Neill + Partners, World Trade Center.\",\n",
       " 'Edmund Glazer, 41, Passenger, United 11, World Trade Center.',\n",
       " 'Harry Glenn, 38, Piscataway, N.J., Marsh&McLennan Companies, Inc., World Trade Center.',\n",
       " 'Barry H. Glick, 55, Wayne, N.J., Port Authority of New York and New Jersey, World Trade Center.',\n",
       " 'Jeremy Logan Glick, 31, Hewitt, N.J., Passenger, United 93, Shanksville, Pa.',\n",
       " 'Steven Glick, 42, Risk Waters Group conference, World Trade Center.',\n",
       " 'John T. Gnazzo, 32, Cantor Fitzgerald, World Trade Center.',\n",
       " 'William Robert Godshalk, 35, New York City, Keefe, Bruyette&Woods, Inc., World Trade Center.',\n",
       " 'Michael Gogliormella, 43, New Providence, N.J., Cantor Fitzgerald, World Trade Center.',\n",
       " 'Brian F. Goldberg, 26, Union, N.J., Fiduciary Trust Company International, World Trade Center.',\n",
       " 'Jeffrey G. Goldflam, 48, Melville, N.Y., Cantor Fitzgerald, World Trade Center.',\n",
       " 'Michelle Goldstein, 31, New York City, Aon Corporation, World Trade Center.',\n",
       " 'Monica Goldstein, 25, Staten Island, N.Y., Cantor Fitzgerald, World Trade Center.',\n",
       " 'Steven Ian Goldstein, 35, Princeton, N.J., Cantor Fitzgerald, World Trade Center.',\n",
       " 'Ronald F. Golinski, 60, Columbia, Md., United States Army Civilian, Pentagon.',\n",
       " 'Andrew H. Golkin, 30, New York City, Cantor Fitzgerald, World Trade Center.',\n",
       " 'Dennis James Gomes, 40, Fiduciary Trust Company International, World Trade Center.',\n",
       " 'Enrique Antonio Gomez, 42, Windows on the World, World Trade Center.',\n",
       " 'Jose Bienvenido Gomez, 45, New York, Windows on the World, World Trade Center.',\n",
       " 'Manuel Gomez, Jr., 42, Fuji Bank, Ltd., World Trade Center.',\n",
       " 'Wilder Alfredo Gomez, 37, Windows on the World, World Trade Center.',\n",
       " ...]"
      ]
     },
     "metadata": {},
     "execution_count": 2
    }
   ],
   "source": [
    "grouped_lines = content.split('\\n')\n",
    "grouped_lines"
   ]
  },
  {
   "cell_type": "markdown",
   "metadata": {},
   "source": [
    "## Problem 2 -- Inspecting problem lines\n",
    "\n",
    "I have provided some examples of problems that can be found in this data set below.  Inspect the lines and determine one or more things that are problematic for each line."
   ]
  },
  {
   "cell_type": "code",
   "execution_count": 5,
   "metadata": {
    "scrolled": true
   },
   "outputs": [
    {
     "output_type": "execute_result",
     "data": {
      "text/plain": "[&quot;Gordon M. Aamoth, Jr., 32, Sandler O&#39;Neill + Partners, World Trade Center.&quot;,\n &#39;Godwin O. Ajala, 33, Summit Security Services, Inc., World Trade Center, died 9/15/01.&#39;,\n &#39;Mary Lynn Edwards Angell, 52, Cape Cod, Mass. and Pasadena, Calif., Passenger, United 11, World Trade Center.&#39;,\n &#39;Laura Angilletta, 23, Staten Island, N.Y., Cantor Fitzgerald, World Trade Center.&#39;,\n &#39;Lorraine G. Bay, 58, East Windsor, N.J., Flight Crew, United 93, Shanksville, Pa.&#39;,\n &#39;Canfield D. Boone, ??, United States Army, Pentagon.&#39;,\n &#39;Albert Gunnis Joseph, 79, New York City, Morgan Stanley, World Trade Center, died 1/2/02.&#39;,\n &#39;Ingeborg Joseph, 53, Marriott guest, World Trade Center, died 10/9/01.&#39;,\n &#39;Brenda Kegler, ??, Capitol Heights, Md., United States Army Civilian, Pentagon.&#39;]"
     },
     "metadata": {},
     "execution_count": 5
    }
   ],
   "source": [
    "example_idx = (0, 33, 75, 76, 150, 232, 1304, 1305, 1343)\n",
    "examples = [l for i, l in enumerate(grouped_lines) if i in example_idx]\n",
    "examples"
   ]
  },
  {
   "cell_type": "markdown",
   "metadata": {},
   "source": [
    "> Your answers here"
   ]
  },
  {
   "cell_type": "markdown",
   "metadata": {},
   "source": [
    "#### Key\n",
    "\n",
    "Some problems include\n",
    "\n",
    "1. Comma's in names, companies, location\n",
    "2. Missing ages (represented as `??`)\n",
    "3. Rows missing an entry for hometowns, passenger type, flight, and date of death.\n",
    "4. Non-uniform hometown/state entries.\n"
   ]
  },
  {
   "cell_type": "markdown",
   "metadata": {},
   "source": [
    "## General procedure\n",
    "\n",
    "1. Create the expression and test against positive case.\n",
    "2. Match/search against all example\n",
    "3. After you know it works, add the `groups` method for all examples.\n",
    "4. Look for any non-matches in the full data set.\n",
    "5. Test on the fill data set if all rows match."
   ]
  },
  {
   "cell_type": "markdown",
   "metadata": {},
   "source": [
    "## What's the big deal?\n",
    "\n",
    "So why are we being so careful to make sure everything matches? Turns out that if any row fails to match, adding `groups` will crash the code :/"
   ]
  },
  {
   "cell_type": "code",
   "execution_count": 6,
   "metadata": {},
   "outputs": [
    {
     "output_type": "execute_result",
     "data": {
      "text/plain": "[&lt;re.Match object; span=(21, 26), match=&#39;, 32,&#39;&gt;,\n &lt;re.Match object; span=(15, 20), match=&#39;, 33,&#39;&gt;,\n &lt;re.Match object; span=(24, 29), match=&#39;, 52,&#39;&gt;,\n &lt;re.Match object; span=(16, 21), match=&#39;, 23,&#39;&gt;,\n &lt;re.Match object; span=(15, 20), match=&#39;, 58,&#39;&gt;,\n None,\n &lt;re.Match object; span=(20, 25), match=&#39;, 79,&#39;&gt;,\n &lt;re.Match object; span=(15, 20), match=&#39;, 53,&#39;&gt;,\n None]"
     },
     "metadata": {},
     "execution_count": 6
    }
   ],
   "source": [
    "import re\n",
    "test = re.compile(', \\d\\d,')\n",
    "[test.search(l) for l in examples]"
   ]
  },
  {
   "source": [
    "re.compile(', \\d\\d,') is looking for a comma, then a space and then two of any digits followed by a comma"
   ],
   "cell_type": "markdown",
   "metadata": {}
  },
  {
   "cell_type": "code",
   "execution_count": 7,
   "metadata": {},
   "outputs": [
    {
     "output_type": "error",
     "ename": "AttributeError",
     "evalue": "&#39;NoneType&#39; object has no attribute &#39;groups&#39;",
     "traceback": [
      "\u001b[0;31m---------------------------------------------------------------------------\u001b[0m",
      "\u001b[0;31mAttributeError\u001b[0m                            Traceback (most recent call last)",
      "\u001b[0;32m&lt;ipython-input-7-7b9575f15afa&gt;\u001b[0m in \u001b[0;36m&lt;module&gt;\u001b[0;34m\u001b[0m\n\u001b[0;32m----&gt; 1\u001b[0;31m \u001b[0;34m[\u001b[0m\u001b[0mtest\u001b[0m\u001b[0;34m.\u001b[0m\u001b[0msearch\u001b[0m\u001b[0;34m(\u001b[0m\u001b[0ml\u001b[0m\u001b[0;34m)\u001b[0m\u001b[0;34m.\u001b[0m\u001b[0mgroups\u001b[0m\u001b[0;34m(\u001b[0m\u001b[0;34m)\u001b[0m \u001b[0;32mfor\u001b[0m \u001b[0ml\u001b[0m \u001b[0;32min\u001b[0m \u001b[0mexamples\u001b[0m\u001b[0;34m]\u001b[0m\u001b[0;34m\u001b[0m\u001b[0;34m\u001b[0m\u001b[0m\n\u001b[0m",
      "\u001b[0;32m&lt;ipython-input-7-7b9575f15afa&gt;\u001b[0m in \u001b[0;36m&lt;listcomp&gt;\u001b[0;34m(.0)\u001b[0m\n\u001b[0;32m----&gt; 1\u001b[0;31m \u001b[0;34m[\u001b[0m\u001b[0mtest\u001b[0m\u001b[0;34m.\u001b[0m\u001b[0msearch\u001b[0m\u001b[0;34m(\u001b[0m\u001b[0ml\u001b[0m\u001b[0;34m)\u001b[0m\u001b[0;34m.\u001b[0m\u001b[0mgroups\u001b[0m\u001b[0;34m(\u001b[0m\u001b[0;34m)\u001b[0m \u001b[0;32mfor\u001b[0m \u001b[0ml\u001b[0m \u001b[0;32min\u001b[0m \u001b[0mexamples\u001b[0m\u001b[0;34m]\u001b[0m\u001b[0;34m\u001b[0m\u001b[0;34m\u001b[0m\u001b[0m\n\u001b[0m",
      "\u001b[0;31mAttributeError\u001b[0m: &#39;NoneType&#39; object has no attribute &#39;groups&#39;"
     ]
    }
   ],
   "source": [
    "[test.search(l).groups() for l in examples]"
   ]
  },
  {
   "cell_type": "markdown",
   "metadata": {},
   "source": [
    "## Problem 3 -- Capturing the age field\n",
    "\n",
    "Notice that all victims have a passenger field that contains either their age or `??` if the age is unknown.\n",
    "\n",
    "In this problem, we will build a regular expression to match this field, which will ALSO allow us to capture the name field (even when there are problems with extra commas)."
   ]
  },
  {
   "cell_type": "markdown",
   "metadata": {},
   "source": [
    "#### Task 1 - Capture the age field.\n",
    "\n",
    "Write a regular expression that matches and captures the age field.  \n",
    "\n",
    "**Hints:** Remember that \n",
    "\n",
    "* Use `(pat)` to capture a pattern.\n",
    "* Use `\\d` to match digits\n",
    "* `(p1|p2)` allows you to match `p1` or `p2`.   "
   ]
  },
  {
   "cell_type": "code",
   "execution_count": 6,
   "metadata": {},
   "outputs": [],
   "source": [
    "# Your code here"
   ]
  },
  {
   "cell_type": "markdown",
   "metadata": {},
   "source": [
    "#### Key"
   ]
  },
  {
   "cell_type": "code",
   "execution_count": 8,
   "metadata": {},
   "outputs": [
    {
     "output_type": "execute_result",
     "data": {
      "text/plain": "re.Match"
     },
     "metadata": {},
     "execution_count": 8
    }
   ],
   "source": [
    "import re\n",
    "age = re.compile(', (\\?\\?|\\d{1,3}),')\n",
    "type(age.search(examples[0]))"
   ]
  },
  {
   "source": [
    "re.compile(', (\\?\\?|\\d{1,3}),') is looking for a comma, then a space, then either two question marks OR (|) 1, 2, or 3 numbers of digits followed by a comma. The question marks or the digits will be saved and be able to be retrieved with .group() function because they are in parenthesis"
   ],
   "cell_type": "markdown",
   "metadata": {}
  },
  {
   "cell_type": "code",
   "execution_count": 9,
   "metadata": {},
   "outputs": [
    {
     "output_type": "execute_result",
     "data": {
      "text/plain": "(&quot;Gordon M. Aamoth, Jr., 32, Sandler O&#39;Neill + Partners, World Trade Center.&quot;,\n (&#39;32&#39;,))"
     },
     "metadata": {},
     "execution_count": 9
    }
   ],
   "source": [
    "examples[0], age.search(examples[0]).groups()"
   ]
  },
  {
   "cell_type": "code",
   "execution_count": 10,
   "metadata": {},
   "outputs": [
    {
     "output_type": "execute_result",
     "data": {
      "text/plain": "[&lt;re.Match object; span=(21, 26), match=&#39;, 32,&#39;&gt;,\n &lt;re.Match object; span=(15, 20), match=&#39;, 33,&#39;&gt;,\n &lt;re.Match object; span=(24, 29), match=&#39;, 52,&#39;&gt;,\n &lt;re.Match object; span=(16, 21), match=&#39;, 23,&#39;&gt;,\n &lt;re.Match object; span=(15, 20), match=&#39;, 58,&#39;&gt;,\n &lt;re.Match object; span=(17, 22), match=&#39;, ??,&#39;&gt;,\n &lt;re.Match object; span=(20, 25), match=&#39;, 79,&#39;&gt;,\n &lt;re.Match object; span=(15, 20), match=&#39;, 53,&#39;&gt;,\n &lt;re.Match object; span=(13, 18), match=&#39;, ??,&#39;&gt;]"
     },
     "metadata": {},
     "execution_count": 10
    }
   ],
   "source": [
    "[age.search(l) for l in examples]"
   ]
  },
  {
   "cell_type": "code",
   "execution_count": 11,
   "metadata": {},
   "outputs": [
    {
     "output_type": "execute_result",
     "data": {
      "text/plain": "[(&#39;32&#39;,),\n (&#39;33&#39;,),\n (&#39;52&#39;,),\n (&#39;23&#39;,),\n (&#39;58&#39;,),\n (&#39;??&#39;,),\n (&#39;79&#39;,),\n (&#39;53&#39;,),\n (&#39;??&#39;,)]"
     },
     "metadata": {},
     "execution_count": 11
    }
   ],
   "source": [
    "[age.search(l).groups() for l in examples]"
   ]
  },
  {
   "cell_type": "code",
   "execution_count": 12,
   "metadata": {},
   "outputs": [
    {
     "output_type": "execute_result",
     "data": {
      "text/plain": "[(2977, &#39;&#39;)]"
     },
     "metadata": {},
     "execution_count": 12
    }
   ],
   "source": [
    "[(i, l) for i, l in enumerate(grouped_lines) if not age.search(l)]"
   ]
  },
  {
   "cell_type": "code",
   "execution_count": 13,
   "metadata": {},
   "outputs": [
    {
     "output_type": "error",
     "ename": "AttributeError",
     "evalue": "&#39;NoneType&#39; object has no attribute &#39;groups&#39;",
     "traceback": [
      "\u001b[0;31m---------------------------------------------------------------------------\u001b[0m",
      "\u001b[0;31mAttributeError\u001b[0m                            Traceback (most recent call last)",
      "\u001b[0;32m&lt;ipython-input-13-e43e442f9619&gt;\u001b[0m in \u001b[0;36m&lt;module&gt;\u001b[0;34m\u001b[0m\n\u001b[0;32m----&gt; 1\u001b[0;31m \u001b[0;34m[\u001b[0m\u001b[0mage\u001b[0m\u001b[0;34m.\u001b[0m\u001b[0msearch\u001b[0m\u001b[0;34m(\u001b[0m\u001b[0ml\u001b[0m\u001b[0;34m)\u001b[0m\u001b[0;34m.\u001b[0m\u001b[0mgroups\u001b[0m\u001b[0;34m(\u001b[0m\u001b[0;34m)\u001b[0m \u001b[0;32mfor\u001b[0m \u001b[0ml\u001b[0m \u001b[0;32min\u001b[0m \u001b[0mgrouped_lines\u001b[0m\u001b[0;34m]\u001b[0m\u001b[0;34m\u001b[0m\u001b[0;34m\u001b[0m\u001b[0m\n\u001b[0m",
      "\u001b[0;32m&lt;ipython-input-13-e43e442f9619&gt;\u001b[0m in \u001b[0;36m&lt;listcomp&gt;\u001b[0;34m(.0)\u001b[0m\n\u001b[0;32m----&gt; 1\u001b[0;31m \u001b[0;34m[\u001b[0m\u001b[0mage\u001b[0m\u001b[0;34m.\u001b[0m\u001b[0msearch\u001b[0m\u001b[0;34m(\u001b[0m\u001b[0ml\u001b[0m\u001b[0;34m)\u001b[0m\u001b[0;34m.\u001b[0m\u001b[0mgroups\u001b[0m\u001b[0;34m(\u001b[0m\u001b[0;34m)\u001b[0m \u001b[0;32mfor\u001b[0m \u001b[0ml\u001b[0m \u001b[0;32min\u001b[0m \u001b[0mgrouped_lines\u001b[0m\u001b[0;34m]\u001b[0m\u001b[0;34m\u001b[0m\u001b[0;34m\u001b[0m\u001b[0m\n\u001b[0m",
      "\u001b[0;31mAttributeError\u001b[0m: &#39;NoneType&#39; object has no attribute &#39;groups&#39;"
     ]
    }
   ],
   "source": [
    "[age.search(l).groups() for l in grouped_lines]"
   ]
  },
  {
   "cell_type": "markdown",
   "metadata": {},
   "source": [
    "#### Task 2 - Capture the age field, as well as everything before and after.\n",
    "\n",
    "Adapt your work from the last problem to not only capture the age field, but also everything before and after.\n",
    "\n",
    "**Hint:** Remember that \n",
    "\n",
    "* Use greedy wild-cards `.*` and/or `.+` to grab as much as possible.\n",
    "* Use comma's to anchor the three parts, e.g. `(pat1), (pat2), (pat3)`"
   ]
  },
  {
   "cell_type": "code",
   "execution_count": 14,
   "metadata": {},
   "outputs": [],
   "source": [
    "# Your code here"
   ]
  },
  {
   "cell_type": "markdown",
   "metadata": {},
   "source": [
    "#### Key"
   ]
  },
  {
   "cell_type": "code",
   "execution_count": 15,
   "metadata": {},
   "outputs": [],
   "source": [
    "import re\n",
    "age_plus = re.compile('(.+), (\\?\\?|\\d{1,3}), (.+)')"
   ]
  },
  {
   "source": [
    "re.compile('(.+), (\\?\\?|\\d{1,3}), (.+)') is one more of any character, comma and space, and then either 2 question marks OR 1,2, or 3 of any combination of digits then a comma, space and then one or more of any characters. each of the 'one or more characters' are being saved as well as the question marks or digits in between them."
   ],
   "cell_type": "markdown",
   "metadata": {}
  },
  {
   "cell_type": "code",
   "execution_count": 16,
   "metadata": {},
   "outputs": [
    {
     "output_type": "execute_result",
     "data": {
      "text/plain": "[&lt;re.Match object; span=(0, 74), match=&quot;Gordon M. Aamoth, Jr., 32, Sandler O&#39;Neill + Part&gt;,\n &lt;re.Match object; span=(0, 86), match=&#39;Godwin O. Ajala, 33, Summit Security Services, In&gt;,\n &lt;re.Match object; span=(0, 109), match=&#39;Mary Lynn Edwards Angell, 52, Cape Cod, Mass. and&gt;,\n &lt;re.Match object; span=(0, 81), match=&#39;Laura Angilletta, 23, Staten Island, N.Y., Cantor&gt;,\n &lt;re.Match object; span=(0, 81), match=&#39;Lorraine G. Bay, 58, East Windsor, N.J., Flight C&gt;,\n &lt;re.Match object; span=(0, 52), match=&#39;Canfield D. Boone, ??, United States Army, Pentag&gt;,\n &lt;re.Match object; span=(0, 89), match=&#39;Albert Gunnis Joseph, 79, New York City, Morgan S&gt;,\n &lt;re.Match object; span=(0, 70), match=&#39;Ingeborg Joseph, 53, Marriott guest, World Trade &gt;,\n &lt;re.Match object; span=(0, 79), match=&#39;Brenda Kegler, ??, Capitol Heights, Md., United S&gt;]"
     },
     "metadata": {},
     "execution_count": 16
    }
   ],
   "source": [
    "[age_plus.search(l) for l in examples]"
   ]
  },
  {
   "cell_type": "code",
   "execution_count": 17,
   "metadata": {},
   "outputs": [
    {
     "output_type": "execute_result",
     "data": {
      "text/plain": "[(&#39;Gordon M. Aamoth, Jr.&#39;,\n  &#39;32&#39;,\n  &quot;Sandler O&#39;Neill + Partners, World Trade Center.&quot;),\n (&#39;Godwin O. Ajala&#39;,\n  &#39;33&#39;,\n  &#39;Summit Security Services, Inc., World Trade Center, died 9/15/01.&#39;),\n (&#39;Mary Lynn Edwards Angell&#39;,\n  &#39;52&#39;,\n  &#39;Cape Cod, Mass. and Pasadena, Calif., Passenger, United 11, World Trade Center.&#39;),\n (&#39;Laura Angilletta&#39;,\n  &#39;23&#39;,\n  &#39;Staten Island, N.Y., Cantor Fitzgerald, World Trade Center.&#39;),\n (&#39;Lorraine G. Bay&#39;,\n  &#39;58&#39;,\n  &#39;East Windsor, N.J., Flight Crew, United 93, Shanksville, Pa.&#39;),\n (&#39;Canfield D. Boone&#39;, &#39;??&#39;, &#39;United States Army, Pentagon.&#39;),\n (&#39;Albert Gunnis Joseph&#39;,\n  &#39;79&#39;,\n  &#39;New York City, Morgan Stanley, World Trade Center, died 1/2/02.&#39;),\n (&#39;Ingeborg Joseph&#39;,\n  &#39;53&#39;,\n  &#39;Marriott guest, World Trade Center, died 10/9/01.&#39;),\n (&#39;Brenda Kegler&#39;,\n  &#39;??&#39;,\n  &#39;Capitol Heights, Md., United States Army Civilian, Pentagon.&#39;)]"
     },
     "metadata": {},
     "execution_count": 17
    }
   ],
   "source": [
    "[age_plus.search(l).groups() for l in examples]"
   ]
  },
  {
   "cell_type": "code",
   "execution_count": 18,
   "metadata": {},
   "outputs": [
    {
     "output_type": "execute_result",
     "data": {
      "text/plain": "[(2977, &#39;&#39;)]"
     },
     "metadata": {},
     "execution_count": 18
    }
   ],
   "source": [
    "[(i, l) for i, l in enumerate(grouped_lines) if not age_plus.search(l)]"
   ]
  },
  {
   "cell_type": "code",
   "execution_count": 19,
   "metadata": {},
   "outputs": [
    {
     "output_type": "error",
     "ename": "AttributeError",
     "evalue": "&#39;NoneType&#39; object has no attribute &#39;groups&#39;",
     "traceback": [
      "\u001b[0;31m---------------------------------------------------------------------------\u001b[0m",
      "\u001b[0;31mAttributeError\u001b[0m                            Traceback (most recent call last)",
      "\u001b[0;32m&lt;ipython-input-19-74b2cb93a713&gt;\u001b[0m in \u001b[0;36m&lt;module&gt;\u001b[0;34m\u001b[0m\n\u001b[0;32m----&gt; 1\u001b[0;31m \u001b[0;34m[\u001b[0m\u001b[0mage_plus\u001b[0m\u001b[0;34m.\u001b[0m\u001b[0msearch\u001b[0m\u001b[0;34m(\u001b[0m\u001b[0ml\u001b[0m\u001b[0;34m)\u001b[0m\u001b[0;34m.\u001b[0m\u001b[0mgroups\u001b[0m\u001b[0;34m(\u001b[0m\u001b[0;34m)\u001b[0m \u001b[0;32mfor\u001b[0m \u001b[0ml\u001b[0m \u001b[0;32min\u001b[0m \u001b[0mgrouped_lines\u001b[0m\u001b[0;34m]\u001b[0m\u001b[0;34m\u001b[0m\u001b[0;34m\u001b[0m\u001b[0m\n\u001b[0m",
      "\u001b[0;32m&lt;ipython-input-19-74b2cb93a713&gt;\u001b[0m in \u001b[0;36m&lt;listcomp&gt;\u001b[0;34m(.0)\u001b[0m\n\u001b[0;32m----&gt; 1\u001b[0;31m \u001b[0;34m[\u001b[0m\u001b[0mage_plus\u001b[0m\u001b[0;34m.\u001b[0m\u001b[0msearch\u001b[0m\u001b[0;34m(\u001b[0m\u001b[0ml\u001b[0m\u001b[0;34m)\u001b[0m\u001b[0;34m.\u001b[0m\u001b[0mgroups\u001b[0m\u001b[0;34m(\u001b[0m\u001b[0;34m)\u001b[0m \u001b[0;32mfor\u001b[0m \u001b[0ml\u001b[0m \u001b[0;32min\u001b[0m \u001b[0mgrouped_lines\u001b[0m\u001b[0;34m]\u001b[0m\u001b[0;34m\u001b[0m\u001b[0;34m\u001b[0m\u001b[0m\n\u001b[0m",
      "\u001b[0;31mAttributeError\u001b[0m: &#39;NoneType&#39; object has no attribute &#39;groups&#39;"
     ]
    }
   ],
   "source": [
    "[age_plus.search(l).groups() for l in grouped_lines]"
   ]
  },
  {
   "cell_type": "markdown",
   "metadata": {},
   "source": [
    "## Problem 4 -- Capturing the date of death\n",
    "\n",
    "While most victims of the attack died on 9/11, a few died at a later date.  Notice that those that those that died later have an additional field at the end of the line.\n",
    "\n",
    "In this problem, we will build a regular expression to match this field."
   ]
  },
  {
   "cell_type": "code",
   "execution_count": 20,
   "metadata": {},
   "outputs": [
    {
     "output_type": "execute_result",
     "data": {
      "text/plain": "&#39;Ingeborg Joseph, 53, Marriott guest, World Trade Center, died 10/9/01.&#39;"
     },
     "metadata": {},
     "execution_count": 20
    }
   ],
   "source": [
    "examples[-2]"
   ]
  },
  {
   "cell_type": "markdown",
   "metadata": {},
   "source": [
    "#### Task 1 - Capture the date of death field.\n",
    "  \n",
    "Write a regular expression that matches and captures the date of death (e.g. `10/9/01`).  This expression should return `None` when this field is missing.\n",
    "\n",
    "**Hints:** Remember that \n",
    "\n",
    "* Use `$` to match the end of the line.\n",
    "* Escape to match periods exactly, i.e. `\\.`\n",
    "* Use `\\d{n,m}` to match digits to match between `n` and `m` digits\n",
    "* `?` allows you to match optional patterns"
   ]
  },
  {
   "cell_type": "code",
   "execution_count": 21,
   "metadata": {},
   "outputs": [],
   "source": [
    "# Your code here\n",
    "import re\n",
    "dod = re.compile('(, died \\d{1,2}/\\d{1,2}/\\d{1,2})?(\\.)$')"
   ]
  },
  {
   "cell_type": "markdown",
   "metadata": {},
   "source": [
    "#### Key"
   ]
  },
  {
   "cell_type": "code",
   "execution_count": 22,
   "metadata": {},
   "outputs": [
    {
     "output_type": "execute_result",
     "data": {
      "text/plain": "(&#39;, died 10/9/01&#39;, &#39;.&#39;)"
     },
     "metadata": {},
     "execution_count": 22
    }
   ],
   "source": [
    "dod = re.compile('(, died \\d{1,2}/\\d{1,2}/\\d{1,2})?(\\.)?$')\n",
    "dod.search(examples[-2]).groups()"
   ]
  },
  {
   "cell_type": "code",
   "execution_count": 23,
   "metadata": {
    "scrolled": true
   },
   "outputs": [
    {
     "output_type": "execute_result",
     "data": {
      "text/plain": "[&lt;re.Match object; span=(73, 74), match=&#39;.&#39;&gt;,\n &lt;re.Match object; span=(71, 86), match=&#39;, died 9/15/01.&#39;&gt;,\n &lt;re.Match object; span=(108, 109), match=&#39;.&#39;&gt;,\n &lt;re.Match object; span=(80, 81), match=&#39;.&#39;&gt;,\n &lt;re.Match object; span=(80, 81), match=&#39;.&#39;&gt;,\n &lt;re.Match object; span=(51, 52), match=&#39;.&#39;&gt;,\n &lt;re.Match object; span=(75, 89), match=&#39;, died 1/2/02.&#39;&gt;,\n &lt;re.Match object; span=(55, 70), match=&#39;, died 10/9/01.&#39;&gt;,\n &lt;re.Match object; span=(78, 79), match=&#39;.&#39;&gt;]"
     },
     "metadata": {},
     "execution_count": 23
    }
   ],
   "source": [
    "[dod.search(l) for l in examples]"
   ]
  },
  {
   "cell_type": "code",
   "execution_count": 24,
   "metadata": {},
   "outputs": [
    {
     "output_type": "execute_result",
     "data": {
      "text/plain": "[(None, &#39;.&#39;),\n (&#39;, died 9/15/01&#39;, &#39;.&#39;),\n (None, &#39;.&#39;),\n (None, &#39;.&#39;),\n (None, &#39;.&#39;),\n (None, &#39;.&#39;),\n (&#39;, died 1/2/02&#39;, &#39;.&#39;),\n (&#39;, died 10/9/01&#39;, &#39;.&#39;),\n (None, &#39;.&#39;)]"
     },
     "metadata": {},
     "execution_count": 24
    }
   ],
   "source": [
    "[dod.search(l).groups() for l in examples]"
   ]
  },
  {
   "cell_type": "code",
   "execution_count": 25,
   "metadata": {},
   "outputs": [
    {
     "output_type": "execute_result",
     "data": {
      "text/plain": "[]"
     },
     "metadata": {},
     "execution_count": 25
    }
   ],
   "source": [
    "[(i, l) for i, l in enumerate(grouped_lines) if not dod.search(l)]"
   ]
  },
  {
   "cell_type": "code",
   "execution_count": 26,
   "metadata": {},
   "outputs": [
    {
     "output_type": "execute_result",
     "data": {
      "text/plain": "[(None, &#39;.&#39;),\n (None, &#39;.&#39;),\n (None, &#39;.&#39;),\n (None, &#39;.&#39;),\n (None, &#39;.&#39;),\n (None, &#39;.&#39;),\n (None, &#39;.&#39;),\n (None, &#39;.&#39;),\n (None, &#39;.&#39;),\n (None, &#39;.&#39;),\n (None, &#39;.&#39;),\n (None, &#39;.&#39;),\n (None, &#39;.&#39;),\n (None, &#39;.&#39;),\n (None, &#39;.&#39;),\n (None, &#39;.&#39;),\n (None, &#39;.&#39;),\n (None, &#39;.&#39;),\n (None, &#39;.&#39;),\n (None, &#39;.&#39;),\n (None, &#39;.&#39;),\n (None, &#39;.&#39;),\n (None, &#39;.&#39;),\n (None, &#39;.&#39;),\n (None, &#39;.&#39;),\n (None, &#39;.&#39;),\n (None, &#39;.&#39;),\n (None, &#39;.&#39;),\n (None, &#39;.&#39;),\n (None, &#39;.&#39;),\n (None, &#39;.&#39;),\n (None, &#39;.&#39;),\n (None, &#39;.&#39;),\n (&#39;, died 9/15/01&#39;, &#39;.&#39;),\n (None, &#39;.&#39;),\n (None, &#39;.&#39;),\n (None, &#39;.&#39;),\n (None, &#39;.&#39;),\n (None, &#39;.&#39;),\n (None, &#39;.&#39;),\n (None, &#39;.&#39;),\n (None, &#39;.&#39;),\n (None, &#39;.&#39;),\n (None, &#39;.&#39;),\n (None, &#39;.&#39;),\n (None, &#39;.&#39;),\n (None, &#39;.&#39;),\n (None, &#39;.&#39;),\n (None, &#39;.&#39;),\n (None, &#39;.&#39;),\n (None, &#39;.&#39;),\n (None, &#39;.&#39;),\n (None, &#39;.&#39;),\n (None, &#39;.&#39;),\n (None, &#39;.&#39;),\n (None, &#39;.&#39;),\n (None, &#39;.&#39;),\n (None, &#39;.&#39;),\n (None, &#39;.&#39;),\n (None, &#39;.&#39;),\n (None, &#39;.&#39;),\n (None, &#39;.&#39;),\n (None, &#39;.&#39;),\n (None, &#39;.&#39;),\n (None, &#39;.&#39;),\n (None, &#39;.&#39;),\n (None, &#39;.&#39;),\n (None, &#39;.&#39;),\n (None, &#39;.&#39;),\n (None, &#39;.&#39;),\n (None, &#39;.&#39;),\n (None, &#39;.&#39;),\n (None, &#39;.&#39;),\n (None, &#39;.&#39;),\n (None, &#39;.&#39;),\n (None, &#39;.&#39;),\n (None, &#39;.&#39;),\n (None, &#39;.&#39;),\n (None, &#39;.&#39;),\n (None, &#39;.&#39;),\n (None, &#39;.&#39;),\n (None, &#39;.&#39;),\n (None, &#39;.&#39;),\n (None, &#39;.&#39;),\n (None, &#39;.&#39;),\n (None, &#39;.&#39;),\n (None, &#39;.&#39;),\n (None, &#39;.&#39;),\n (None, &#39;.&#39;),\n (None, &#39;.&#39;),\n (None, &#39;.&#39;),\n (None, &#39;.&#39;),\n (None, &#39;.&#39;),\n (None, &#39;.&#39;),\n (None, &#39;.&#39;),\n (None, &#39;.&#39;),\n (None, &#39;.&#39;),\n (None, &#39;.&#39;),\n (None, &#39;.&#39;),\n (None, &#39;.&#39;),\n (None, &#39;.&#39;),\n (None, &#39;.&#39;),\n (None, &#39;.&#39;),\n (None, &#39;.&#39;),\n (None, &#39;.&#39;),\n (None, &#39;.&#39;),\n (None, &#39;.&#39;),\n (None, &#39;.&#39;),\n (None, &#39;.&#39;),\n (None, &#39;.&#39;),\n (None, &#39;.&#39;),\n (None, &#39;.&#39;),\n (None, &#39;.&#39;),\n (None, &#39;.&#39;),\n (None, &#39;.&#39;),\n (None, &#39;.&#39;),\n (None, &#39;.&#39;),\n (None, &#39;.&#39;),\n (None, &#39;.&#39;),\n (None, &#39;.&#39;),\n (None, &#39;.&#39;),\n (None, &#39;.&#39;),\n (None, &#39;.&#39;),\n (None, &#39;.&#39;),\n (None, &#39;.&#39;),\n (None, &#39;.&#39;),\n (None, &#39;.&#39;),\n (None, &#39;.&#39;),\n (None, &#39;.&#39;),\n (None, &#39;.&#39;),\n (None, &#39;.&#39;),\n (None, &#39;.&#39;),\n (None, &#39;.&#39;),\n (&#39;, died 10/14/01&#39;, &#39;.&#39;),\n (None, &#39;.&#39;),\n (None, &#39;.&#39;),\n (None, &#39;.&#39;),\n (None, &#39;.&#39;),\n (None, &#39;.&#39;),\n (None, &#39;.&#39;),\n (None, &#39;.&#39;),\n (None, &#39;.&#39;),\n (None, &#39;.&#39;),\n (None, &#39;.&#39;),\n (None, &#39;.&#39;),\n (None, &#39;.&#39;),\n (None, &#39;.&#39;),\n (None, &#39;.&#39;),\n (None, &#39;.&#39;),\n (None, &#39;.&#39;),\n (None, &#39;.&#39;),\n (None, &#39;.&#39;),\n (None, &#39;.&#39;),\n (None, &#39;.&#39;),\n (None, &#39;.&#39;),\n (None, &#39;.&#39;),\n (None, &#39;.&#39;),\n (None, &#39;.&#39;),\n (None, &#39;.&#39;),\n (None, &#39;.&#39;),\n (None, &#39;.&#39;),\n (None, &#39;.&#39;),\n (None, &#39;.&#39;),\n (None, &#39;.&#39;),\n (None, &#39;.&#39;),\n (None, &#39;.&#39;),\n (None, &#39;.&#39;),\n (None, &#39;.&#39;),\n (None, &#39;.&#39;),\n (None, &#39;.&#39;),\n (None, &#39;.&#39;),\n (None, &#39;.&#39;),\n (None, &#39;.&#39;),\n (None, &#39;.&#39;),\n (None, &#39;.&#39;),\n (None, &#39;.&#39;),\n (None, &#39;.&#39;),\n (None, &#39;.&#39;),\n (None, &#39;.&#39;),\n (None, &#39;.&#39;),\n (None, &#39;.&#39;),\n (&#39;, died 12/11/01&#39;, &#39;.&#39;),\n (None, &#39;.&#39;),\n (None, &#39;.&#39;),\n (None, &#39;.&#39;),\n (None, &#39;.&#39;),\n (None, &#39;.&#39;),\n (None, &#39;.&#39;),\n (None, &#39;.&#39;),\n (None, &#39;.&#39;),\n (None, &#39;.&#39;),\n (None, &#39;.&#39;),\n (None, &#39;.&#39;),\n (None, &#39;.&#39;),\n (None, &#39;.&#39;),\n (None, &#39;.&#39;),\n (None, &#39;.&#39;),\n (None, &#39;.&#39;),\n (None, &#39;.&#39;),\n (None, &#39;.&#39;),\n (None, &#39;.&#39;),\n (None, &#39;.&#39;),\n (None, &#39;.&#39;),\n (None, &#39;.&#39;),\n (None, &#39;.&#39;),\n (None, &#39;.&#39;),\n (None, &#39;.&#39;),\n (None, &#39;.&#39;),\n (None, &#39;.&#39;),\n (None, &#39;.&#39;),\n (None, &#39;.&#39;),\n (None, &#39;.&#39;),\n (None, &#39;.&#39;),\n (None, &#39;.&#39;),\n (None, &#39;.&#39;),\n (None, &#39;.&#39;),\n (None, &#39;.&#39;),\n (None, &#39;.&#39;),\n (None, &#39;.&#39;),\n (None, &#39;.&#39;),\n (None, &#39;.&#39;),\n (None, &#39;.&#39;),\n (None, &#39;.&#39;),\n (None, &#39;.&#39;),\n (None, &#39;.&#39;),\n (None, &#39;.&#39;),\n (None, &#39;.&#39;),\n (None, &#39;.&#39;),\n (None, &#39;.&#39;),\n (None, &#39;.&#39;),\n (None, &#39;.&#39;),\n (None, &#39;.&#39;),\n (None, &#39;.&#39;),\n (None, &#39;.&#39;),\n (None, &#39;.&#39;),\n (None, &#39;.&#39;),\n (&#39;, died 12/15/10&#39;, &#39;.&#39;),\n (None, &#39;.&#39;),\n (None, &#39;.&#39;),\n (None, &#39;.&#39;),\n (None, &#39;.&#39;),\n (None, &#39;.&#39;),\n (None, &#39;.&#39;),\n (None, &#39;.&#39;),\n (None, &#39;.&#39;),\n (None, &#39;.&#39;),\n (None, &#39;.&#39;),\n (None, &#39;.&#39;),\n (None, &#39;.&#39;),\n (None, &#39;.&#39;),\n (None, &#39;.&#39;),\n (None, &#39;.&#39;),\n (None, &#39;.&#39;),\n (None, &#39;.&#39;),\n (None, &#39;.&#39;),\n (None, &#39;.&#39;),\n (None, &#39;.&#39;),\n (None, &#39;.&#39;),\n (None, &#39;.&#39;),\n (None, &#39;.&#39;),\n (None, &#39;.&#39;),\n (None, &#39;.&#39;),\n (None, &#39;.&#39;),\n (None, &#39;.&#39;),\n (None, &#39;.&#39;),\n (None, &#39;.&#39;),\n (None, &#39;.&#39;),\n (None, &#39;.&#39;),\n (None, &#39;.&#39;),\n (None, &#39;.&#39;),\n (None, &#39;.&#39;),\n (None, &#39;.&#39;),\n (None, &#39;.&#39;),\n (None, &#39;.&#39;),\n (None, &#39;.&#39;),\n (None, &#39;.&#39;),\n (None, &#39;.&#39;),\n (None, &#39;.&#39;),\n (None, &#39;.&#39;),\n (None, &#39;.&#39;),\n (None, &#39;.&#39;),\n (None, &#39;.&#39;),\n (None, &#39;.&#39;),\n (None, &#39;.&#39;),\n (None, &#39;.&#39;),\n (None, &#39;.&#39;),\n (None, &#39;.&#39;),\n (None, &#39;.&#39;),\n (None, &#39;.&#39;),\n (None, &#39;.&#39;),\n (None, &#39;.&#39;),\n (None, &#39;.&#39;),\n (None, &#39;.&#39;),\n (None, &#39;.&#39;),\n (None, &#39;.&#39;),\n (None, &#39;.&#39;),\n (None, &#39;.&#39;),\n (None, &#39;.&#39;),\n (None, &#39;.&#39;),\n (None, &#39;.&#39;),\n (None, &#39;.&#39;),\n (None, &#39;.&#39;),\n (None, &#39;.&#39;),\n (None, &#39;.&#39;),\n (None, &#39;.&#39;),\n (None, &#39;.&#39;),\n (None, &#39;.&#39;),\n (None, &#39;.&#39;),\n (None, &#39;.&#39;),\n (None, &#39;.&#39;),\n (None, &#39;.&#39;),\n (None, &#39;.&#39;),\n (None, &#39;.&#39;),\n (None, &#39;.&#39;),\n (None, &#39;.&#39;),\n (None, &#39;.&#39;),\n (None, &#39;.&#39;),\n (None, &#39;.&#39;),\n (None, &#39;.&#39;),\n (None, &#39;.&#39;),\n (None, &#39;.&#39;),\n (None, &#39;.&#39;),\n (None, &#39;.&#39;),\n (None, &#39;.&#39;),\n (None, &#39;.&#39;),\n (None, &#39;.&#39;),\n (None, &#39;.&#39;),\n (None, &#39;.&#39;),\n (None, &#39;.&#39;),\n (None, &#39;.&#39;),\n (None, &#39;.&#39;),\n (None, &#39;.&#39;),\n (None, &#39;.&#39;),\n (None, &#39;.&#39;),\n (None, &#39;.&#39;),\n (None, &#39;.&#39;),\n (None, &#39;.&#39;),\n (None, &#39;.&#39;),\n (None, &#39;.&#39;),\n (None, &#39;.&#39;),\n (None, &#39;.&#39;),\n (None, &#39;.&#39;),\n (None, &#39;.&#39;),\n (None, &#39;.&#39;),\n (None, &#39;.&#39;),\n (None, &#39;.&#39;),\n (None, &#39;.&#39;),\n (None, &#39;.&#39;),\n (None, &#39;.&#39;),\n (None, &#39;.&#39;),\n (None, &#39;.&#39;),\n (None, &#39;.&#39;),\n (None, &#39;.&#39;),\n (None, &#39;.&#39;),\n (None, &#39;.&#39;),\n (None, &#39;.&#39;),\n (None, &#39;.&#39;),\n (None, &#39;.&#39;),\n (None, &#39;.&#39;),\n (None, &#39;.&#39;),\n (None, &#39;.&#39;),\n (None, &#39;.&#39;),\n (None, &#39;.&#39;),\n (None, &#39;.&#39;),\n (None, &#39;.&#39;),\n (None, &#39;.&#39;),\n (None, &#39;.&#39;),\n (None, &#39;.&#39;),\n (None, &#39;.&#39;),\n (None, &#39;.&#39;),\n (None, &#39;.&#39;),\n (None, &#39;.&#39;),\n (None, &#39;.&#39;),\n (None, &#39;.&#39;),\n (None, &#39;.&#39;),\n (None, &#39;.&#39;),\n (None, &#39;.&#39;),\n (None, &#39;.&#39;),\n (None, &#39;.&#39;),\n (None, &#39;.&#39;),\n (None, &#39;.&#39;),\n (None, &#39;.&#39;),\n (None, &#39;.&#39;),\n (None, &#39;.&#39;),\n (None, &#39;.&#39;),\n (None, &#39;.&#39;),\n (None, &#39;.&#39;),\n (None, &#39;.&#39;),\n (None, &#39;.&#39;),\n (None, &#39;.&#39;),\n (None, &#39;.&#39;),\n (None, &#39;.&#39;),\n (None, &#39;.&#39;),\n (None, &#39;.&#39;),\n (None, &#39;.&#39;),\n (None, &#39;.&#39;),\n (None, &#39;.&#39;),\n (None, &#39;.&#39;),\n (None, &#39;.&#39;),\n (None, &#39;.&#39;),\n (None, &#39;.&#39;),\n (None, &#39;.&#39;),\n (None, &#39;.&#39;),\n (None, &#39;.&#39;),\n (None, &#39;.&#39;),\n (None, &#39;.&#39;),\n (None, &#39;.&#39;),\n (None, &#39;.&#39;),\n (None, &#39;.&#39;),\n (None, &#39;.&#39;),\n (None, &#39;.&#39;),\n (None, &#39;.&#39;),\n (None, &#39;.&#39;),\n (None, &#39;.&#39;),\n (None, &#39;.&#39;),\n (None, &#39;.&#39;),\n (None, &#39;.&#39;),\n (None, &#39;.&#39;),\n (None, &#39;.&#39;),\n (None, &#39;.&#39;),\n (None, &#39;.&#39;),\n (None, &#39;.&#39;),\n (None, &#39;.&#39;),\n (None, &#39;.&#39;),\n (None, &#39;.&#39;),\n (None, &#39;.&#39;),\n (None, &#39;.&#39;),\n (None, &#39;.&#39;),\n (None, &#39;.&#39;),\n (None, &#39;.&#39;),\n (None, &#39;.&#39;),\n (None, &#39;.&#39;),\n (None, &#39;.&#39;),\n (None, &#39;.&#39;),\n (None, &#39;.&#39;),\n (None, &#39;.&#39;),\n (None, &#39;.&#39;),\n (None, &#39;.&#39;),\n (None, &#39;.&#39;),\n (None, &#39;.&#39;),\n (None, &#39;.&#39;),\n (None, &#39;.&#39;),\n (None, &#39;.&#39;),\n (None, &#39;.&#39;),\n (None, &#39;.&#39;),\n (None, &#39;.&#39;),\n (None, &#39;.&#39;),\n (None, &#39;.&#39;),\n (None, &#39;.&#39;),\n (None, &#39;.&#39;),\n (None, &#39;.&#39;),\n (None, &#39;.&#39;),\n (None, &#39;.&#39;),\n (None, &#39;.&#39;),\n (None, &#39;.&#39;),\n (None, &#39;.&#39;),\n (None, &#39;.&#39;),\n (None, &#39;.&#39;),\n (None, &#39;.&#39;),\n (None, &#39;.&#39;),\n (None, &#39;.&#39;),\n (None, &#39;.&#39;),\n (None, &#39;.&#39;),\n (None, &#39;.&#39;),\n (None, &#39;.&#39;),\n (None, &#39;.&#39;),\n (None, &#39;.&#39;),\n (None, &#39;.&#39;),\n (None, &#39;.&#39;),\n (None, &#39;.&#39;),\n (None, &#39;.&#39;),\n (None, &#39;.&#39;),\n (None, &#39;.&#39;),\n (None, &#39;.&#39;),\n (None, &#39;.&#39;),\n (None, &#39;.&#39;),\n (None, &#39;.&#39;),\n (None, &#39;.&#39;),\n (None, &#39;.&#39;),\n (None, &#39;.&#39;),\n (None, &#39;.&#39;),\n (None, &#39;.&#39;),\n (None, &#39;.&#39;),\n (None, &#39;.&#39;),\n (None, &#39;.&#39;),\n (None, &#39;.&#39;),\n (None, &#39;.&#39;),\n (None, &#39;.&#39;),\n (None, &#39;.&#39;),\n (None, &#39;.&#39;),\n (None, &#39;.&#39;),\n (None, &#39;.&#39;),\n (None, &#39;.&#39;),\n (None, &#39;.&#39;),\n (None, &#39;.&#39;),\n (None, &#39;.&#39;),\n (None, &#39;.&#39;),\n (None, &#39;.&#39;),\n (None, &#39;.&#39;),\n (None, &#39;.&#39;),\n (None, &#39;.&#39;),\n (None, &#39;.&#39;),\n (None, &#39;.&#39;),\n (None, &#39;.&#39;),\n (None, &#39;.&#39;),\n (None, &#39;.&#39;),\n (None, &#39;.&#39;),\n (None, &#39;.&#39;),\n (None, &#39;.&#39;),\n (None, &#39;.&#39;),\n (None, &#39;.&#39;),\n (None, &#39;.&#39;),\n (None, &#39;.&#39;),\n (None, &#39;.&#39;),\n (None, &#39;.&#39;),\n (None, &#39;.&#39;),\n (None, &#39;.&#39;),\n (None, &#39;.&#39;),\n (None, &#39;.&#39;),\n (None, &#39;.&#39;),\n (None, &#39;.&#39;),\n (None, &#39;.&#39;),\n (None, &#39;.&#39;),\n (None, &#39;.&#39;),\n (None, &#39;.&#39;),\n (None, &#39;.&#39;),\n (None, &#39;.&#39;),\n (None, &#39;.&#39;),\n (None, &#39;.&#39;),\n (None, &#39;.&#39;),\n (None, &#39;.&#39;),\n (None, &#39;.&#39;),\n (None, &#39;.&#39;),\n (None, &#39;.&#39;),\n (None, &#39;.&#39;),\n (None, &#39;.&#39;),\n (None, &#39;.&#39;),\n (None, &#39;.&#39;),\n (None, &#39;.&#39;),\n (None, &#39;.&#39;),\n (None, &#39;.&#39;),\n (None, &#39;.&#39;),\n (None, &#39;.&#39;),\n (None, &#39;.&#39;),\n (None, &#39;.&#39;),\n (None, &#39;.&#39;),\n (None, &#39;.&#39;),\n (None, &#39;.&#39;),\n (None, &#39;.&#39;),\n (None, &#39;.&#39;),\n (None, &#39;.&#39;),\n (None, &#39;.&#39;),\n (None, &#39;.&#39;),\n (None, &#39;.&#39;),\n (None, &#39;.&#39;),\n (None, &#39;.&#39;),\n (None, &#39;.&#39;),\n (None, &#39;.&#39;),\n (None, &#39;.&#39;),\n (None, &#39;.&#39;),\n (None, &#39;.&#39;),\n (None, &#39;.&#39;),\n (None, &#39;.&#39;),\n (None, &#39;.&#39;),\n (None, &#39;.&#39;),\n (None, &#39;.&#39;),\n (None, &#39;.&#39;),\n (None, &#39;.&#39;),\n (None, &#39;.&#39;),\n (None, &#39;.&#39;),\n (None, &#39;.&#39;),\n (None, &#39;.&#39;),\n (None, &#39;.&#39;),\n (None, &#39;.&#39;),\n (None, &#39;.&#39;),\n (None, &#39;.&#39;),\n (None, &#39;.&#39;),\n (None, &#39;.&#39;),\n (None, &#39;.&#39;),\n (None, &#39;.&#39;),\n (None, &#39;.&#39;),\n (None, &#39;.&#39;),\n (None, &#39;.&#39;),\n (None, &#39;.&#39;),\n (None, &#39;.&#39;),\n (None, &#39;.&#39;),\n (None, &#39;.&#39;),\n (None, &#39;.&#39;),\n (None, &#39;.&#39;),\n (None, &#39;.&#39;),\n (None, &#39;.&#39;),\n (None, &#39;.&#39;),\n (None, &#39;.&#39;),\n (None, &#39;.&#39;),\n (None, &#39;.&#39;),\n (None, &#39;.&#39;),\n (None, &#39;.&#39;),\n (None, &#39;.&#39;),\n (None, &#39;.&#39;),\n (None, &#39;.&#39;),\n (None, &#39;.&#39;),\n (None, &#39;.&#39;),\n (None, &#39;.&#39;),\n (None, &#39;.&#39;),\n (None, &#39;.&#39;),\n (None, &#39;.&#39;),\n (None, &#39;.&#39;),\n (None, &#39;.&#39;),\n (None, &#39;.&#39;),\n (None, &#39;.&#39;),\n (None, &#39;.&#39;),\n (None, &#39;.&#39;),\n (None, &#39;.&#39;),\n (None, &#39;.&#39;),\n (None, &#39;.&#39;),\n (None, &#39;.&#39;),\n (None, &#39;.&#39;),\n (None, &#39;.&#39;),\n (None, &#39;.&#39;),\n (None, &#39;.&#39;),\n (None, &#39;.&#39;),\n (None, &#39;.&#39;),\n (None, &#39;.&#39;),\n (None, &#39;.&#39;),\n (None, &#39;.&#39;),\n (None, &#39;.&#39;),\n (None, &#39;.&#39;),\n (None, &#39;.&#39;),\n (None, &#39;.&#39;),\n (None, &#39;.&#39;),\n (None, &#39;.&#39;),\n (None, &#39;.&#39;),\n (None, &#39;.&#39;),\n (None, &#39;.&#39;),\n (None, &#39;.&#39;),\n (None, &#39;.&#39;),\n (None, &#39;.&#39;),\n (None, &#39;.&#39;),\n (None, &#39;.&#39;),\n (None, &#39;.&#39;),\n (None, &#39;.&#39;),\n (None, &#39;.&#39;),\n (None, &#39;.&#39;),\n (None, &#39;.&#39;),\n (None, &#39;.&#39;),\n (None, &#39;.&#39;),\n (None, &#39;.&#39;),\n (None, &#39;.&#39;),\n (None, &#39;.&#39;),\n (None, &#39;.&#39;),\n (None, &#39;.&#39;),\n (&#39;, died 9/30/01&#39;, &#39;.&#39;),\n (None, &#39;.&#39;),\n (None, &#39;.&#39;),\n (None, &#39;.&#39;),\n (None, &#39;.&#39;),\n (None, &#39;.&#39;),\n (None, &#39;.&#39;),\n (None, &#39;.&#39;),\n (None, &#39;.&#39;),\n (None, &#39;.&#39;),\n (None, &#39;.&#39;),\n (None, &#39;.&#39;),\n (None, &#39;.&#39;),\n (None, &#39;.&#39;),\n (None, &#39;.&#39;),\n (None, &#39;.&#39;),\n (None, &#39;.&#39;),\n (None, &#39;.&#39;),\n (None, &#39;.&#39;),\n (None, &#39;.&#39;),\n (None, &#39;.&#39;),\n (None, &#39;.&#39;),\n (None, &#39;.&#39;),\n (None, &#39;.&#39;),\n (None, &#39;.&#39;),\n (None, &#39;.&#39;),\n (None, &#39;.&#39;),\n (None, &#39;.&#39;),\n (None, &#39;.&#39;),\n (None, &#39;.&#39;),\n (None, &#39;.&#39;),\n (None, &#39;.&#39;),\n (None, &#39;.&#39;),\n (None, &#39;.&#39;),\n (None, &#39;.&#39;),\n (None, &#39;.&#39;),\n (None, &#39;.&#39;),\n (None, &#39;.&#39;),\n (None, &#39;.&#39;),\n (None, &#39;.&#39;),\n (None, &#39;.&#39;),\n (None, &#39;.&#39;),\n (None, &#39;.&#39;),\n (None, &#39;.&#39;),\n (&#39;, died 9/22/01&#39;, &#39;.&#39;),\n (None, &#39;.&#39;),\n (None, &#39;.&#39;),\n (None, &#39;.&#39;),\n (None, &#39;.&#39;),\n (None, &#39;.&#39;),\n (None, &#39;.&#39;),\n (None, &#39;.&#39;),\n (None, &#39;.&#39;),\n (None, &#39;.&#39;),\n (None, &#39;.&#39;),\n (None, &#39;.&#39;),\n (None, &#39;.&#39;),\n (None, &#39;.&#39;),\n (&#39;, died 2/10/02&#39;, &#39;.&#39;),\n (None, &#39;.&#39;),\n (None, &#39;.&#39;),\n (None, &#39;.&#39;),\n (None, &#39;.&#39;),\n (None, &#39;.&#39;),\n (None, &#39;.&#39;),\n (None, &#39;.&#39;),\n (None, &#39;.&#39;),\n (None, &#39;.&#39;),\n (None, &#39;.&#39;),\n (None, &#39;.&#39;),\n (None, &#39;.&#39;),\n (None, &#39;.&#39;),\n (None, &#39;.&#39;),\n (None, &#39;.&#39;),\n (None, &#39;.&#39;),\n (None, &#39;.&#39;),\n (None, &#39;.&#39;),\n (None, &#39;.&#39;),\n (None, &#39;.&#39;),\n (None, &#39;.&#39;),\n (None, &#39;.&#39;),\n (None, &#39;.&#39;),\n (None, &#39;.&#39;),\n (None, &#39;.&#39;),\n (None, &#39;.&#39;),\n (None, &#39;.&#39;),\n (None, &#39;.&#39;),\n (None, &#39;.&#39;),\n (None, &#39;.&#39;),\n (None, &#39;.&#39;),\n (None, &#39;.&#39;),\n (None, &#39;.&#39;),\n (None, &#39;.&#39;),\n (None, &#39;.&#39;),\n (None, &#39;.&#39;),\n (None, &#39;.&#39;),\n (None, &#39;.&#39;),\n (None, &#39;.&#39;),\n (None, &#39;.&#39;),\n (None, &#39;.&#39;),\n (None, &#39;.&#39;),\n (None, &#39;.&#39;),\n (None, &#39;.&#39;),\n (None, &#39;.&#39;),\n (None, &#39;.&#39;),\n (None, &#39;.&#39;),\n (None, &#39;.&#39;),\n (None, &#39;.&#39;),\n (None, &#39;.&#39;),\n (None, &#39;.&#39;),\n (None, &#39;.&#39;),\n (None, &#39;.&#39;),\n (None, &#39;.&#39;),\n (None, &#39;.&#39;),\n (None, &#39;.&#39;),\n (None, &#39;.&#39;),\n (None, &#39;.&#39;),\n (None, &#39;.&#39;),\n (None, &#39;.&#39;),\n (None, &#39;.&#39;),\n (None, &#39;.&#39;),\n (None, &#39;.&#39;),\n (None, &#39;.&#39;),\n (None, &#39;.&#39;),\n (None, &#39;.&#39;),\n (None, &#39;.&#39;),\n (None, &#39;.&#39;),\n (None, &#39;.&#39;),\n (None, &#39;.&#39;),\n (None, &#39;.&#39;),\n (None, &#39;.&#39;),\n (None, &#39;.&#39;),\n (None, &#39;.&#39;),\n (None, &#39;.&#39;),\n (None, &#39;.&#39;),\n (None, &#39;.&#39;),\n (None, &#39;.&#39;),\n (None, &#39;.&#39;),\n (None, &#39;.&#39;),\n (None, &#39;.&#39;),\n (None, &#39;.&#39;),\n (None, &#39;.&#39;),\n (None, &#39;.&#39;),\n (None, &#39;.&#39;),\n (None, &#39;.&#39;),\n (None, &#39;.&#39;),\n (None, &#39;.&#39;),\n (None, &#39;.&#39;),\n (None, &#39;.&#39;),\n (None, &#39;.&#39;),\n (None, &#39;.&#39;),\n (None, &#39;.&#39;),\n (None, &#39;.&#39;),\n (None, &#39;.&#39;),\n (None, &#39;.&#39;),\n (None, &#39;.&#39;),\n (None, &#39;.&#39;),\n (None, &#39;.&#39;),\n (None, &#39;.&#39;),\n (None, &#39;.&#39;),\n (None, &#39;.&#39;),\n (None, &#39;.&#39;),\n (None, &#39;.&#39;),\n (None, &#39;.&#39;),\n (None, &#39;.&#39;),\n (None, &#39;.&#39;),\n (None, &#39;.&#39;),\n (None, &#39;.&#39;),\n (None, &#39;.&#39;),\n (None, &#39;.&#39;),\n (None, &#39;.&#39;),\n (None, &#39;.&#39;),\n (None, &#39;.&#39;),\n (None, &#39;.&#39;),\n (None, &#39;.&#39;),\n (None, &#39;.&#39;),\n (None, &#39;.&#39;),\n (None, &#39;.&#39;),\n (None, &#39;.&#39;),\n (None, &#39;.&#39;),\n (None, &#39;.&#39;),\n (None, &#39;.&#39;),\n (None, &#39;.&#39;),\n (None, &#39;.&#39;),\n (None, &#39;.&#39;),\n (None, &#39;.&#39;),\n (None, &#39;.&#39;),\n (None, &#39;.&#39;),\n (None, &#39;.&#39;),\n (None, &#39;.&#39;),\n (None, &#39;.&#39;),\n (None, &#39;.&#39;),\n (None, &#39;.&#39;),\n (None, &#39;.&#39;),\n (None, &#39;.&#39;),\n (None, &#39;.&#39;),\n (None, &#39;.&#39;),\n (None, &#39;.&#39;),\n (None, &#39;.&#39;),\n (None, &#39;.&#39;),\n (None, &#39;.&#39;),\n (None, &#39;.&#39;),\n (None, &#39;.&#39;),\n (None, &#39;.&#39;),\n (None, &#39;.&#39;),\n (None, &#39;.&#39;),\n (None, &#39;.&#39;),\n (None, &#39;.&#39;),\n (None, &#39;.&#39;),\n (None, &#39;.&#39;),\n (None, &#39;.&#39;),\n (None, &#39;.&#39;),\n (None, &#39;.&#39;),\n (None, &#39;.&#39;),\n (None, &#39;.&#39;),\n (None, &#39;.&#39;),\n (None, &#39;.&#39;),\n (None, &#39;.&#39;),\n (None, &#39;.&#39;),\n (None, &#39;.&#39;),\n (None, &#39;.&#39;),\n (None, &#39;.&#39;),\n (None, &#39;.&#39;),\n (None, &#39;.&#39;),\n (None, &#39;.&#39;),\n (None, &#39;.&#39;),\n (None, &#39;.&#39;),\n (None, &#39;.&#39;),\n (None, &#39;.&#39;),\n (None, &#39;.&#39;),\n (None, &#39;.&#39;),\n (None, &#39;.&#39;),\n (None, &#39;.&#39;),\n (None, &#39;.&#39;),\n (None, &#39;.&#39;),\n (None, &#39;.&#39;),\n (None, &#39;.&#39;),\n (None, &#39;.&#39;),\n (None, &#39;.&#39;),\n (None, &#39;.&#39;),\n (None, &#39;.&#39;),\n (None, &#39;.&#39;),\n (None, &#39;.&#39;),\n (None, &#39;.&#39;),\n (None, &#39;.&#39;),\n (None, &#39;.&#39;),\n (None, &#39;.&#39;),\n (None, &#39;.&#39;),\n (None, &#39;.&#39;),\n (None, &#39;.&#39;),\n (None, &#39;.&#39;),\n (None, &#39;.&#39;),\n (None, &#39;.&#39;),\n (None, &#39;.&#39;),\n (None, &#39;.&#39;),\n (None, &#39;.&#39;),\n (None, &#39;.&#39;),\n (None, &#39;.&#39;),\n (None, &#39;.&#39;),\n (None, &#39;.&#39;),\n (None, &#39;.&#39;),\n (None, &#39;.&#39;),\n (None, &#39;.&#39;),\n (None, &#39;.&#39;),\n (None, &#39;.&#39;),\n (None, &#39;.&#39;),\n (None, &#39;.&#39;),\n (None, &#39;.&#39;),\n (None, &#39;.&#39;),\n (None, &#39;.&#39;),\n (None, &#39;.&#39;),\n (None, &#39;.&#39;),\n (None, &#39;.&#39;),\n (None, &#39;.&#39;),\n (None, &#39;.&#39;),\n (None, &#39;.&#39;),\n (None, &#39;.&#39;),\n (None, &#39;.&#39;),\n (None, &#39;.&#39;),\n (None, &#39;.&#39;),\n (None, &#39;.&#39;),\n (None, &#39;.&#39;),\n (None, &#39;.&#39;),\n (None, &#39;.&#39;),\n (None, &#39;.&#39;),\n (None, &#39;.&#39;),\n (None, &#39;.&#39;),\n (None, &#39;.&#39;),\n (None, &#39;.&#39;),\n (None, &#39;.&#39;),\n (None, &#39;.&#39;),\n (None, &#39;.&#39;),\n (None, &#39;.&#39;),\n (None, &#39;.&#39;),\n (None, &#39;.&#39;),\n (None, &#39;.&#39;),\n (None, &#39;.&#39;),\n (None, &#39;.&#39;),\n (None, &#39;.&#39;),\n (None, &#39;.&#39;),\n (None, &#39;.&#39;),\n (None, &#39;.&#39;),\n (None, &#39;.&#39;),\n (None, &#39;.&#39;),\n (None, &#39;.&#39;),\n (None, &#39;.&#39;),\n (None, &#39;.&#39;),\n (None, &#39;.&#39;),\n (None, &#39;.&#39;),\n (None, &#39;.&#39;),\n (None, &#39;.&#39;),\n (None, &#39;.&#39;),\n (None, &#39;.&#39;),\n (None, &#39;.&#39;),\n (None, &#39;.&#39;),\n (None, &#39;.&#39;),\n (None, &#39;.&#39;),\n (None, &#39;.&#39;),\n (None, &#39;.&#39;),\n (None, &#39;.&#39;),\n (None, &#39;.&#39;),\n (None, &#39;.&#39;),\n (None, &#39;.&#39;),\n (None, &#39;.&#39;),\n (None, &#39;.&#39;),\n (None, &#39;.&#39;),\n (None, &#39;.&#39;),\n (None, &#39;.&#39;),\n (None, &#39;.&#39;),\n (None, &#39;.&#39;),\n (None, &#39;.&#39;),\n (None, &#39;.&#39;),\n (None, &#39;.&#39;),\n (None, &#39;.&#39;),\n (None, &#39;.&#39;),\n (None, &#39;.&#39;),\n (None, &#39;.&#39;),\n (None, &#39;.&#39;),\n (None, &#39;.&#39;),\n (None, &#39;.&#39;),\n (None, &#39;.&#39;),\n (None, &#39;.&#39;),\n (None, &#39;.&#39;),\n (None, &#39;.&#39;),\n (None, &#39;.&#39;),\n (None, &#39;.&#39;),\n (None, &#39;.&#39;),\n (None, &#39;.&#39;),\n (None, &#39;.&#39;),\n ...]"
     },
     "metadata": {},
     "execution_count": 26
    }
   ],
   "source": [
    "[dod.search(l).groups() for l in grouped_lines]"
   ]
  },
  {
   "cell_type": "markdown",
   "metadata": {},
   "source": [
    "#### Task 2 - Capture the age field, as well as everything before and after.\n",
    "\n",
    "Adapt your work from the last problem to not only capture the data of death field, but also everything before.\n",
    "\n",
    "**Hint:** Remember that \n",
    "\n",
    "* Use greedy wild-cards `.*` and/or `.+` to grab as much as possible.\n",
    "* Use comma's to anchor the three parts, e.g. `(pat1), (pat2), (pat3)`"
   ]
  },
  {
   "cell_type": "code",
   "execution_count": 27,
   "metadata": {},
   "outputs": [
    {
     "output_type": "execute_result",
     "data": {
      "text/plain": "[&quot;Gordon M. Aamoth, Jr., 32, Sandler O&#39;Neill + Partners, World Trade Center.&quot;,\n &#39;Godwin O. Ajala, 33, Summit Security Services, Inc., World Trade Center, died 9/15/01.&#39;,\n &#39;Mary Lynn Edwards Angell, 52, Cape Cod, Mass. and Pasadena, Calif., Passenger, United 11, World Trade Center.&#39;,\n &#39;Laura Angilletta, 23, Staten Island, N.Y., Cantor Fitzgerald, World Trade Center.&#39;,\n &#39;Lorraine G. Bay, 58, East Windsor, N.J., Flight Crew, United 93, Shanksville, Pa.&#39;,\n &#39;Canfield D. Boone, ??, United States Army, Pentagon.&#39;,\n &#39;Albert Gunnis Joseph, 79, New York City, Morgan Stanley, World Trade Center, died 1/2/02.&#39;,\n &#39;Ingeborg Joseph, 53, Marriott guest, World Trade Center, died 10/9/01.&#39;,\n &#39;Brenda Kegler, ??, Capitol Heights, Md., United States Army Civilian, Pentagon.&#39;]"
     },
     "metadata": {},
     "execution_count": 27
    }
   ],
   "source": [
    "examples"
   ]
  },
  {
   "cell_type": "code",
   "execution_count": 28,
   "metadata": {},
   "outputs": [
    {
     "output_type": "execute_result",
     "data": {
      "text/plain": "((&quot;Gordon M. Aamoth, Jr., 32, Sandler O&#39;Neill + Partners, World Trade Center&quot;,\n  None,\n  &#39;.&#39;),\n &#39;Godwin O. Ajala, 33, Summit Security Services, Inc., World Trade Center, died 9/15/01.&#39;)"
     },
     "metadata": {},
     "execution_count": 28
    }
   ],
   "source": [
    "# Your code here\n",
    "everything = re.compile('^(.*?)(, died \\d{1,2}/\\d{1,2}/\\d{1,2})?(\\.)?$')\n",
    "#[everything.search(l).groups() for l in examples]\n",
    "everything.search(examples[0]).groups(), examples[1]"
   ]
  },
  {
   "cell_type": "code",
   "execution_count": 29,
   "metadata": {},
   "outputs": [
    {
     "output_type": "execute_result",
     "data": {
      "text/plain": "[(&quot;Gordon M. Aamoth, Jr., 32, Sandler O&#39;Neill + Partners, World Trade Center&quot;,\n  None,\n  &#39;.&#39;),\n (&#39;Godwin O. Ajala, 33, Summit Security Services, Inc., World Trade Center&#39;,\n  &#39;, died 9/15/01&#39;,\n  &#39;.&#39;),\n (&#39;Mary Lynn Edwards Angell, 52, Cape Cod, Mass. and Pasadena, Calif., Passenger, United 11, World Trade Center&#39;,\n  None,\n  &#39;.&#39;),\n (&#39;Laura Angilletta, 23, Staten Island, N.Y., Cantor Fitzgerald, World Trade Center&#39;,\n  None,\n  &#39;.&#39;),\n (&#39;Lorraine G. Bay, 58, East Windsor, N.J., Flight Crew, United 93, Shanksville, Pa&#39;,\n  None,\n  &#39;.&#39;),\n (&#39;Canfield D. Boone, ??, United States Army, Pentagon&#39;, None, &#39;.&#39;),\n (&#39;Albert Gunnis Joseph, 79, New York City, Morgan Stanley, World Trade Center&#39;,\n  &#39;, died 1/2/02&#39;,\n  &#39;.&#39;),\n (&#39;Ingeborg Joseph, 53, Marriott guest, World Trade Center&#39;,\n  &#39;, died 10/9/01&#39;,\n  &#39;.&#39;),\n (&#39;Brenda Kegler, ??, Capitol Heights, Md., United States Army Civilian, Pentagon&#39;,\n  None,\n  &#39;.&#39;)]"
     },
     "metadata": {},
     "execution_count": 29
    }
   ],
   "source": [
    "[everything.search(l).groups() for l in examples]"
   ]
  },
  {
   "cell_type": "code",
   "execution_count": 30,
   "metadata": {},
   "outputs": [
    {
     "output_type": "execute_result",
     "data": {
      "text/plain": "ssenger, United 175, World Trade Center.&#39;,\n &#39;Gerald Francis Hardacre, 61, Carlsbad, Calif., Passenger, United 175, World Trade Center.&#39;,\n &#39;Eric Hartono, 19, Passenger, United 175, World Trade Center.&#39;,\n &#39;Peter Paul Hashem, 40, Passenger, United 11, World Trade Center.&#39;,\n &#39;James Edward Hayden, 47, Passenger, United 175, World Trade Center.&#39;,\n &#39;Robert Jay Hayes, 37, Amerbury, Mass., Passenger, United 11, World Trade Center.&#39;,\n &#39;Michele M. Heidenberger, 57, Chevy Chase, Md., Flight Crew, American 77, Pentagon.&#39;,\n &#39;Sheila M.S. Hein, 51, University Park, Md., United States Army Civilian, Pentagon.&#39;,\n &#39;Ronald John Hemenway, 37, Washington, D.C., United States Navy, Pentagon.&#39;,\n &#39;Edward R. Hennessy, Jr., 35, Passenger, United 11, World Trade Center.&#39;,\n &#39;John A. Hofer, 45, Passenger, United 11, World Trade Center.&#39;,\n &#39;Wallace Cole Hogan, Jr., ??, United States Army, Pentagon.&#39;,\n &#39;Cora Hidalgo Holland, 52, Passenger, United 11, World Trade Center.&#39;,\n &#39;Jimmie I. Holley, 54, Lanham, Md., United States Army Civilian, Pentagon.&#39;,\n &#39;Herbert Wilson Homer, 48, Milford, Mass., Passenger, United 175, World Trade Center.&#39;,\n &#39;LeRoy W. Homer, Jr., 36, Marlton, N.J., Flight Crew, United 93, Shanksville, Pa.&#39;,\n &#39;Michael Robert Horrocks, 38, Glen Mills, Pa., Flight Crew, United 175, World Trade Center.&#39;,\n &#39;Angela M. Houtz, 27, Rockville, Md., United States Navy Civilian, Pentagon.&#39;,\n &#39;Brady Kay Howell, 26, Arlington, Va., United States Navy Civilian, Pentagon.&#39;,\n &#39;John Nicholas Humber, Jr., 60, Passenger, United 11, World Trade Center.&#39;,\n &#39;Peggie M. Hurt, 36, Springfield, Va., United States Army Civilian, Pentagon.&#39;,\n &#39;Stephen N. Hyland, Jr., 46, Burke, Va., United States Army, Pentagon.&#39;,\n &#39;Waleed Joseph Iskandar, 34, London, England, United Kingdom, Passenger, United 11, World Trade Center.&#39;,\n &#39;Lacey Bernard Ivory, 42, Woodbridge, Va., United States Army, Pentagon.&#39;,\n &#39;Bryan C. Jack, 48, Alexandria, Va. and New York City, Passenger, American 77, Pentagon.&#39;,\n &#39;Steven D. Jacoby, 43, Alexandria, Va., Passenger, American 77, Pentagon.&#39;,\n &#39;Robert Adrien Jalbert, 61, Swampscott, Mass., Passenger, United 175, World Trade Center.&#39;,\n &#39;Amy Nicole Jarret, 28, North Smithfield, R.I., Flight Crew, United 175, World Trade Center.&#39;,\n &#39;John Charles Jenkins, 45, Passenger, United 11, World Trade Center.&#39;,\n &#39;Dennis M. Johnson, 48, Virginia, United States Army, Pentagon.&#39;,\n &#39;Charles Edward Jones, 48, Bedford, Mass., Passenger, United 11, World Trade Center.&#39;,\n &#39;Judith Lawter Jones, 53, Woodbridge, Va., United States Navy Civilian, Pentagon.&#39;,\n &#39;Ann C. Judge, 49, Great Falls, Va., Flight 77, Passenger, American 77, Pentagon.&#39;,\n &#39;Robin Lynne Kaplan, 33, Westboro, Mass., , Passenger, United 11, World Trade Center.&#39;,\n &#39;Lisa Yvonne Kearney-Griffin, 35, Marsh&amp;McLennan consultant from American Express, World Trade Center.&#39;,\n &#39;Barbara A. Keating, 72, Palm Springs, Calif., , Passenger, United 11, World Trade Center.&#39;,\n &#39;Brenda Kegler, ??, Capitol Heights, Md., United States Army Civilian, Pentagon.&#39;,\n &#39;Chandler Raymond Keller, 29, Manhattan Beach, Calif., Flight 77, Passenger, American 77, Pentagon.&#39;,\n &#39;Yvonne E. Kennedy, 62, Westmead, New South Wales, Australia, Flight 77, Passenger, American 77, Pentagon.&#39;,\n &#39;Ralph Francis Kershaw, 52, Manchester, Mass., Passenger, United 175, World Trade Center.&#39;,\n &#39;Norma Cruz Khan, 45, Reston, Va., Flight 77, Passenger, American 77, Pentagon.&#39;,\n &#39;Heinrich Kimmig, 43, Germany, Passenger, United 175, World Trade Center.&#39;,\n &#39;Karen Ann Kincaid, 40, Flight 77, Passenger, American 77, Pentagon.&#39;,\n &#39;Amy R. King, 29, Stafford Springs, Conn., Flight Crew, United 175, World Trade Center.&#39;,\n &#39;Brian K. Kinney, 28, Lowell, Mass., Passenger, United 175, World Trade Center.&#39;,\n &#39;Chris Michael Kirby, 21, Bronx, N.Y., Aon Corporation contractor from United Brotherhood of Carpenters and Joiners of America, World Trade Center.&#39;,\n &#39;David P. Kovalcin, 42, New Hampshire, Passenger, United 11, World Trade Center.&#39;,\n &#39;Toshiya Kuge, 20, Tokyo, Japan, Passenger, United 93, Shanksville, Pa.&#39;,\n &#39;Kathryn L. LaBorie, 44, Providence, R.I., , Flight Crew, United 175, World Trade Center.&#39;,\n &#39;Michael S. Lamana, ??, United States Navy, Pentagon.&#39;,\n &#39;Judith Camilla Larocque, 50, Framingham, Mass., Passenger, United 11, World Trade Center.&#39;,\n &#39;Natalie Janis Lasden, 46, Peabody, Mass., Passenger, United 11, World Trade Center.&#39;,\n &#39;David W. Laychak, 40, Manassas, Va., United States Army Civilian, Pentagon.&#39;,\n &#39;Robert G. LeBlanc, 70, Lee, N.H., , Passenger, United 175, World Trade Center.&#39;,\n &#39;Daniel John Lee, 33, Van Nuys, Calif., Passenger, United 11, World Trade Center.&#39;,\n &#39;Dong Chul Lee, ??, Leesburg, Va., Passenger, American 77, Pentagon.&#39;,\n &#39;Daniel M. Lewin, 31, Passenger, United 11, World Trade Center.&#39;,\n &#39;Jennifer Lewis, 37, Culpeper, Va., Flight Crew, American 77, Pentagon.&#39;,\n &#39;Kenneth E. Lewis, 49, Culpeper, Va., Flight Crew, American 77, Pentagon.&#39;,\n &#39;Samantha L. Lightbourn-Allen, 36, Forestville, Md., United States Army Civilian, Pentagon.&#39;,\n &#39;Stephen V. Long, 39, United States Army, Pentagon.&#39;,\n &#39;Maclovio Lopez, Jr., 41, Passenger, United 175, World Trade Center.&#39;,\n &#39;Sara Elizabeth Low, 28, Boston, Mass., Flight Crew, United 11, World Trade Center.&#39;,\n &#39;CeeCee Lyles, 33, Flight Crew, United 93, Shanksville, Pa.&#39;,\n &#39;James T. Lynch, Jr., 55, Manassas, Va., United States Navy Civilian, Pentagon.&#39;,\n &#39;Terence M. Lynch, 49, Alexandria, Va., United States Army contractor, Pentagon.&#39;,\n &#39;Nehamon Lyons IV, 30, United States Navy, Pentagon.&#39;,\n &#39;Marianne MacFarlane, 34, Revere, Mass., Flight Crew, United 175, World Trade Center.&#39;,\n &#39;Susan A. Mackay, 44, Westford, Mass., Passenger, United 11, World Trade Center.&#39;,\n &#39;Alfred Gilles Padre Joseph Marchand, 44, Alamogordo, N.M., Flight Crew, United 175, World Trade Center.&#39;,\n &#39;Hilda Marcin, 79, Mount Olive Township, N.J., Passenger, United 93, Shanksville, Pa.&#39;,\n &#39;Louis Neil Mariani, 58, Passenger, United 175, World Trade Center.&#39;,\n &#39;Karen Ann Martin, 40, Danvers, Mass., Flight Crew, United 11, World Trade Center.&#39;,\n &#39;Teresa M. Martin, 45, United States Army Civilian, Pentagon.&#39;,\n &#39;Waleska Martinez, 37, Jersey City, N.J., Passenger, United 93, Shanksville, Pa.&#39;,\n &#39;Ada L. Mason-Acker, ??, United States Army Civilian, Pentagon.&#39;,\n &#39;Dean E. Mattson, 57, United States Army, Pentagon.&#39;,\n &#39;Timothy J. Maude, 53, Ft. Myers, Va., United States Army, Pentagon.&#39;,\n &#39;Robert J. Maxwell, 53, United States Army Civilian, Pentagon.&#39;,\n &#39;Renée A. May and her unborn child, 39, Baltimore, Md., , Flight Crew, American 77, Pentagon.&#39;,\n &#39;Juliana Valentine McCourt, 4, New London, Conn., Passenger, United 175, World Trade Center.&#39;,\n &#39;Ruth Magdaline McCourt, 45, New London, Conn., Passenger, United 175, World Trade Center.&#39;,\n &#39;Thomas F. McGuinness, Jr., 42, Flight Crew, United 11, World Trade Center.&#39;,\n &#39;Molly L. McKenzie, 38, United States Army Civilian, Pentagon.&#39;,\n &#39;Christine Sheila McNulty, 42, Peterborough, England, United Kingdom, Risk Waters Group conference attendee from Accenture, World Trade Center.&#39;,\n &#39;Christopher D. Mello, 25, Boston, Mass., Passenger, United 11, World Trade Center.&#39;,\n &#39;Dora Marie Menchaca, ??, Passenger, American 77, Pentagon.&#39;,\n &#39;Wolfgang Peter Menzel, 59, Wilhelmshaven, Germany, Passenger, United 175, World Trade Center.&#39;,\n &#39;Martin Paul Michelstein, 57, Morristown, N.J., Aon Corporation visitor from American International Group, Inc., World Trade Center.&#39;,\n &#39;Ronald D. Milam, 33, Brandywine, Md., United States Army, Pentagon.&#39;,\n &#39;Craig J. Miller, 29, United States Secret Service, World Trade Center.&#39;,\n &#39;Nicole Carol Miller, 21, San Jose, Calif., , Passenger, United 93, Shanksville, Pa.&#39;,\n &#39;Jeffrey Peter Mladenik, 43, Passenger, United 11, World Trade Center.&#39;,\n &#39;Brian Patrick Monaghan, 21, New York City, Aon Corporation contractor from United Brotherhood of Carpenters and Joiners of America, World Trade Center.&#39;,\n &#39;Carlos Alberto Montoya, 36, Belmont, Mass., Passenger, United 11, World Trade Center.&#39;,\n &#39;Antonio De Jesus Montoya Valdes, 47, Boston, Mass., Passenger, United 11, World Trade Center.&#39;,\n &#39;Sonia Mercedes Morales Puopolo, 62, Dover, Mass., Passenger, United 11, World Trade Center.&#39;,\n &#39;Gerard P. Moran, Jr., ??, United States Navy contractor, Pentagon.&#39;,\n &#39;John Christopher Moran, 38, Surrey, England, United Kingdom, Risk Waters Group conference attendee from Accenture, World Trade Center.&#39;,\n &#39;Odessa V. Morris, 54, Upper Marlboro, Md., United States Army Civilian, Pentagon.&#39;,\n &#39;Brian A. Moss, 34, United States Navy, Pentagon.&#39;,\n &#39;Teddington H. Moy, 48, Silver Spring, Md., United States Army Civilian, Pentagon.&#39;,\n &#39;Patrick Jude Murphy, 38, Berkeley Heights, N.J., United States Naval Reserve, Pentagon.&#39;,\n &#39;Louis J. Nacke II, 42, Passenger, United 93, Shanksville, Pa.&#39;,\n &#39;Mildred Rose Naiman, 81, Andover, Mass., Passenger, United 11, World Trade Center.&#39;,\n &#39;Shawn M. Nassaney, 25, Pawtucket, R.I., Passenger, United 175, World Trade Center.&#39;,\n &#39;Laurie Ann Neira, 48, Passenger, United 11, World Trade Center.&#39;,\n &#39;Renee Tetreault Newell, 37, Cranston, R.I., Passenger, United 11, World Trade Center.&#39;,\n &#39;Christopher C. Newton, 38, Ashburn, Va., Passenger, American 77, Pentagon.&#39;,\n &#39;Khang Ngoc Nguyen, 41, Fairfax, Va., United States Navy contractor, Pentagon.&#39;,\n &#39;Kathleen Ann Nicosia, 54, Winthrop, Mass., Flight Crew, United 11, World Trade Center.&#39;,\n &#39;Michael A. Noeth, 30, Fort Myer, Va., United States Navy, Pentagon.&#39;,\n &#39;Jacqueline June Norton, 61, Passenger, United 11, World Trade Center.&#39;,\n &#39;Robert Grant Norton, 85, Passenger, United 11, World Trade Center.&#39;,\n &#39;John A. Ogonowski, 50, Flight Crew, United 11, World Trade Center.&#39;,\n &#39;Barbara K. Olson, ??, Passenger, American 77, Pentagon.&#39;,\n &#39;Betty Ann Ong, 45, Andover, Mass., Flight Crew, United 11, World Trade Center.&#39;,\n &#39;Ruben S. Ornedo, 39, Los Angeles, Calif., Passenger, American 77, Pentagon.&#39;,\n &#39;Jane Marie Orth, 49, Haverhill, Mass., Passenger, United 11, World Trade Center.&#39;,\n &#39;Diana B. Padro, 55, Woodbridge, Va., United States Army Civilian, Pentagon.&#39;,\n &#39;Jonas Martin Panik, 26, United States Naval Reserve, Pentagon.&#39;,\n &#39;Marie Pappalardo, 53, Passenger, United 175, World Trade Center.&#39;,\n &#39;Clifford L. Patterson, Jr., 33, Alexandria, Va., United States Army, Pentagon.&#39;,\n &#39;Thomas Nicholas Pecorelli, 30, Topanga Canyon, Calif., Passenger, United 11, World Trade Center.&#39;,\n &#39;Robert Penninger, 63, Poway, Calif., Passenger, American 77, Pentagon.&#39;,\n &#39;Berry Berenson Perkins, 53, Passenger, United 11, World Trade Center.&#39;,\n &#39;Donald Arthur Peterson, 66, Spring Lake, N.J., Passenger, United 93, Shanksville, Pa.&#39;,\n &#39;Jean Hoadley Peterson, 55, Passenger, United 93, Shanksville, Pa.&#39;,\n &#39;Robert R. Ploger III, 59, Annandale, Va., Passenger, American 77, Pentagon.&#39;,\n &#39;Zandra F. Ploger, 48, Annandale, Va., Passenger, American 77, Pentagon.&#39;,\n &#39;Darin H. Pontell, 26, Gaithersburg, Md., United States Naval Reserve, Pentagon.&#39;,\n &#39;Scott Alan Powell, 35, Silver Spring, Md., United States Army contractor, Pentagon.&#39;,\n &#39;Jack D. Punches, 50, Clifton, Va., United States Navy Civilian, Pentagon.&#39;,\n &#39;Joseph J. Pycior, Jr., ??, United States Navy, Pentagon.&#39;,\n &#39;Patrick J. Quigley IV, 40, Wellesley, Mass., Passenger, United 175, World Trade Center.&#39;,\n &#39;Lisa J. Raines, 42, Great Falls, Va., Passenger, American 77, Pentagon.&#39;,\n &#39;Deborah A. Ramsaur, 45, Annandale, Va., United States Army Civilian, Pentagon.&#39;,\n &#39;Anne T. Ransom, 45, Marsh&amp;McLennan consultant from American Express, World Trade Center.&#39;,\n &#39;Rhonda Sue Rasmussen, 44, United States Army Civilian, Pentagon.&#39;,\n &#39;Marsha D. Ratchford, 34, United States Navy, Pentagon.&#39;,\n &#39;Karen Renda, 52, Marsh&amp;McLennan consultant from American Express, World Trade Center.&#39;,\n &#39;Martha M. Reszke, 56, Stafford, Va., United States Army Civilian, Pentagon.&#39;,\n &#39;David E. Retik, 33, Needham, Mass., Passenger, United 11, World Trade Center.&#39;,\n &#39;Todd H. Reuben, 40, Potomac, Md., Passenger, American 77, Pentagon.&#39;,\n &#39;CeCelia E. Richard, 41, Fort Washington, Md., United States Army Civilian, Pentagon.&#39;,\n &#39;Frederick Charles Rimmele III, 32, Marblehead, Mass., Passenger, United 175, World Trade Center.&#39;,\n &#39;John Frank Rizzo, 50, Brooklyn, N.Y., Aon Corporation contractor from United Brotherhood of Carpenters and Joiners of America, World Trade Center.&#39;,\n &#39;Jean Destrehan Rogér, 24, Longmeadow, Mass., Flight Crew, United 11, World Trade Center.&#39;,\n &#39;Karlie Rogers, 26, London, England, United Kingdom, Risk Waters Group, World Trade Center.&#39;,\n &#39;Philip Martin Rosenzweig, 47, Acton, Mass., Passenger, United 11, World Trade Center.&#39;,\n &#39;Richard Barry Ross, 58, Newton, Mass., Passenger, United 11, World Trade Center.&#39;,\n &#39;Mark David Rothenberg, 52, Scotch Plains, N.Y., Passenger, United 93, Shanksville, Pa.&#39;,\n &#39;James Michael Roux, 43, Portland, Maine, Passenger, United 175, World Trade Center.&#39;,\n &#39;Edward V. Rowenhorst, 32, Lake Ridge, Va., United States Army Civilian, Pentagon.&#39;,\n &#39;Judy Rowlett, 44, United States Army Civilian, Pentagon.&#39;,\n &#39;Robert E. Russell, 52, United States Army Civilian, Pentagon.&#39;,\n &#39;William R. Ruth, 57, United States Army Reserve, Pentagon.&#39;,\n &#39;Jessica Leigh Sachs, 23, Billerica, Mass., Passenger, United 11, World Trade Center.&#39;,\n &#39;Marjorie C. Salamone, 53, Springfield, Va., United States Army Civilian, Pentagon.&#39;,\n &#39;Rahma Salie and her unborn child, 28, Boston, Mass., , Passenger, United 11, World Trade Center.&#39;,\n &#39;John P. Sammartino, 37, Annandale, Va., Passenger, American 77, Pentagon.&#39;,\n &#39;Jesus Sanchez, 45, Flight Crew, United 175, World Trade Center.&#39;,\n &#39;Victor J. Saracini, 51, Flight Crew, United 175, World Trade Center.&#39;,\n &#39;David M. Scales, 44, Arlington, Va., United States Army, Pentagon.&#39;,\n &#39;Robert A. Schlegel, 38, United States Navy, Pentagon.&#39;,\n &#39;Janice M. Scott, 46, North Springfield, Va., United States Army Civilian, Pentagon.&#39;,\n &#39;Michael L. Selves, 53, Fairfax, Va., United States Army Civilian, Pentagon.&#39;,\n &#39;Marian H. Serva, 47, Stafford, Va., United States Army Civilian, Pentagon.&#39;,\n &#39;Dan F. Shanower, 40, Arlington, Va., United States Navy, Pentagon.&#39;,\n &#39;Kathleen Shearer, 61, Dover, N.H., Passenger, United 175, World Trade Center.&#39;,\n &#39;Robert M. Shearer, 63, Dover, N.H., Passenger, United 175, World Trade Center.&#39;,\n &#39;Antionette M. Sherman, 35, United States Army Civilian, Pentagon.&#39;,\n &#39;Diane M. Simmons, 52, Great Falls, Va., Passenger, American 77, Pentagon.&#39;,\n &#39;Donald D. Simmons, 58, Dumfries, Va., United States Army Civilian, Pentagon.&#39;,\n &#39;George W. Simmons, 57, Great Falls, Va., Passenger, American 77, Pentagon.&#39;,\n &#39;Jane Louise Simpkin, 36, Wayland, Mass., Passenger, United 175, World Trade Center.&#39;,\n &#39;Cheryle D. Sincock, 53, United States Army Civilian, Pentagon.&#39;,\n &#39;Gregg H. Smallwood, 44, Woodbridge, Va., United States Navy, Pentagon.&#39;,\n &#39;Gary F. Smith, 55, Alexandria, Va., United States Army Civilian, Pentagon.&#39;,\n &#39;Heather Lee Smith, 30, Passenger, United 11, World Trade Center.&#39;,\n &#39;Christine Ann Snyder, 32, Kailua, Hawaii, Passenger, United 93, Shanksville, Pa.&#39;,\n &#39;Dianne Bullis Snyder, 42, Westport Point, Mass., Flight Crew, United 11, World Trade Center.&#39;,\n &#39;Mari-Rae Sopper, 35, Washington, D.C., Passenger, American 77, Pentagon.&#39;,\n &#39;Robert Speisman, 48, Irvington, N.Y., Passenger, American 77, Pentagon.&#39;,\n &#39;Patricia J. Statz, 41, United States Army Civilian, Pentagon.&#39;,\n &#39;Edna L. Stephens, 53, Capitol Heights, Md., United States Army Civilian, Pentagon.&#39;,\n &#39;Norma Lang Steuerle, 54, Alexandria, Va., Passenger, American 77, Pentagon.&#39;,\n &#39;Douglas Joel Stone, 54, Passenger, United 11, World Trade Center.&#39;,\n &#39;Larry L. Strickland, 52, United States Army, Pentagon.&#39;,\n &#39;Dino Xavier Suarez Ramirez, 41, Chino Hills, Calif., Passenger, United 11, World Trade Center.&#39;,\n &#39;Brian David Sweeney, 38, Barnstable, Mass., Passenger, United 175, World Trade Center.&#39;,\n &#39;Madeline Amy Sweeney, 35, Acton, Mass., Flight Crew, United 11, World Trade Center.&#39;,\n &#39;John Talignani, 74, New Port Richey, Fla. and Staten Island, N.Y., Passenger, United 93, Shanksville, Pa.&#39;,\n &#39;Michael C. Tarrou, 38, Flight Crew, United 175, World Trade Center.&#39;,\n &#39;Deborah Tavolarella, 46, Dedham, Mass., Passenger, United 175, World Trade Center.&#39;,\n &#39;Hilda E. Taylor, 58, Forestville, Md., Passenger, American 77, Pentagon.&#39;,\n &#39;Kip P. Taylor, 38, United States Army, Pentagon.&#39;,\n &#39;Leonard E. Taylor, ??, Passenger, American 77, Pentagon.&#39;,\n &#39;Sandra C. Taylor, 50, Alexandria, Va., United States Army Civilian, Pentagon.&#39;,\n &#39;Sandra Dawn Teague, 31, Fairfax, Va., Passenger, American 77, Pentagon.&#39;,\n &#39;Michael Theodoridis, 32, Passenger, United 11, World Trade Center.&#39;,\n &#39;Tamara C. Thurman, ??, United States Army, Pentagon.&#39;,\n &#39;Alicia Nicole Titus, 28, San Francisco, Calif., Flight Crew, United 175, World Trade Center.&#39;,\n &#39;Otis V. Tolbert, 38, United States Navy, Pentagon.&#39;,\n &#39;James Anthony Trentini, 65, Rowley, Mass., Passenger, United 11, World Trade Center.&#39;,\n &#39;Mary Barbara Trentini, 67, Rowley, Mass., Passenger, United 11, World Trade Center.&#39;,\n &#39;Willie Q. Troy, 51, United States Army Civilian, Pentagon.&#39;,\n &#39;Simon James Turner, 39, London, England, United Kingdom, Risk Waters Group, World Trade Center.&#39;,\n &#39;Benito Valentin, 33, Marsh&amp;McLennan consultant from American Express, World Trade Center.&#39;,\n &#39;Pendyala Vamsikrishna, 30, Passenger, United 11, World Trade Center.&#39;,\n &#39;Ronald J. Vauk, 37, Mount Airy, Md., United States Naval Reserve, Pentagon.&#39;,\n &#39;Loretta Ann Vero, 51, Nanuet, N.Y., Marsh&amp;McLennan consultant from American Express, World Trade Center.&#39;,\n &#39;Karen J. Wagner, 40, Richmond, Va., United States Army, Pentagon.&#39;,\n &#39;Mary Alice Wahlstrom, 78, Kaysville, Utah, Passenger, United 11, World Trade Center.&#39;,\n &#39;Honor Elizabeth Wainio, 27, Watchung, N.J., Passenger, United 93, Shanksville, Pa.&#39;,\n &#39;Kenneth E. Waldie, 46, Methuen, Mass., Passenger, United 11, World Trade Center.&#39;,\n &#39;Meta L. Waller, ??, United States Army Civilian, Pentagon.&#39;,\n &#39;Timothy Ray Ward, 38, San Diego, Calif., Passenger, United 175, World Trade Center.&#39;,\n &#39;William Michael Weems, 46, Marblehead, Mass., Passenger, United 175, World Trade Center.&#39;,\n &#39;Chin Sun Pak Wells, 24, Woodbridge, Va., United States Army, Pentagon.&#39;,\n &#39;Vincent Michael Wells, 22, Essex, England, United Kingdom, Cantor Fitzgerald, World Trade Center.&#39;,\n &#39;Deborah Jacobs Welsh, 49, New York City, Flight Crew, United 93, Shanksville, Pa.&#39;,\n &#39;John Joseph Wenckus, 46, Torrance, Calif., Passenger, United 11, World Trade Center.&#39;,\n &#39;Maudlyn A. White, 38, United States Army, Pentagon.&#39;,\n &#39;Sandra L. White, 44, Montclair, Va., United States Army Civilian, Pentagon.&#39;,\n &#39;Leslie A. Whittington, 45, University Park, Md., Passenger, American 77, Pentagon.&#39;,\n &#39;Ernest M. Willcher, 62, North Potomac, Md., United States Army contractor, Pentagon.&#39;,\n &#39;Candace Lee Williams, 20, Dorchester, Mass., Passenger, United 11, World Trade Center.&#39;,\n &#39;David Lucian Williams, 32, Springfield, Va., United States Navy, Pentagon.&#39;,\n &#39;Dwayne Williams, 40, Lorton, Va., United States Army, Pentagon.&#39;,\n &#39;Sigrid Charlotte Wiswe, 41, New York City, Marsh&amp;McLennan consultant from American Express, World Trade Center.&#39;,\n &#39;Marvin Roger Woods, 57, United States Navy Civilian, Pentagon.&#39;,\n &#39;Patrick J. Woods, 36, Staten Island, N.Y., Aon Corporation contractor from United Brotherhood of Carpenters and Joiners of America, World Trade Center.&#39;,\n &#39;John D. Yamnicky, Sr., 71, Waldorf, Md., , Passenger, American 77, Pentagon.&#39;,\n &#39;Vicki Yancey, 44, Springfield, Va., Passenger, American 77, Pentagon.&#39;,\n &#39;Shuyin Yang, ??, Passenger, American 77, Pentagon.&#39;,\n &#39;Kevin W. Yokum, 27, Washington, D.C., United States Navy, Pentagon.&#39;,\n &#39;Donald McArthur Young, 41, Virginia Beach, Va., United States Navy, Pentagon.&#39;,\n &#39;Edmond G. Young, Jr., 22, Owings, Md., United States Army contractor, Pentagon.&#39;,\n &#39;Lisa L. Young, 37, United States Army Civilian, Pentagon.&#39;,\n &#39;Christopher R. Zarba, Jr., 47, Hopkinton, Mass., Passenger, United 11, World Trade Center.&#39;,\n &#39;Yuguang Zheng, ??, Passenger, American 77, Pentagon.&#39;,\n &#39;Prokopios Paul Zois, 46, Lynbrook, N.Y., Marsh&amp;McLennan consultant from American Express, World Trade Center.&#39;]"
     },
     "metadata": {},
     "execution_count": 30
    }
   ],
   "source": [
    "[l for l in grouped_lines if \"United\" in l or \"American\" in l]"
   ]
  },
  {
   "cell_type": "markdown",
   "metadata": {},
   "source": [
    "## Problem 5 -- Working with passenger data\n",
    "\n",
    "Notice that \n",
    "\n",
    "1. Passengers on the flights have two extra fields: passenger status and flight\n",
    "2. Other victim are missing these fields.\n",
    "\n",
    "In this problem, we will build a regular expression to match these fields and use this expression to split the data.  In the process, we will be able to add the missing fields to the other rows."
   ]
  },
  {
   "cell_type": "markdown",
   "metadata": {},
   "source": [
    "#### Task 1 - Make an expression that matches the passenger status.\n",
    "\n",
    "Make a regular expression that matches and extracts the passenger status field.  This expression should match all lines, returning `None` for the other rows.\n",
    "\n",
    "**Hint:** Remember that \n",
    "\n",
    "* `(p1|p2)` allows you to match `p1` or `p2`.   \n",
    "* `?` allows you to match optional patterns"
   ]
  },
  {
   "cell_type": "code",
   "execution_count": 31,
   "metadata": {},
   "outputs": [
    {
     "output_type": "execute_result",
     "data": {
      "text/plain": "[(&quot;Gordon M. Aamoth, Jr., 32, Sandler O&#39;Neill + Partners,&quot;,\n  None,\n  None,\n  &#39;World Trade Center&#39;,\n  &#39;.&#39;),\n (&#39;Godwin O. Ajala, 33, Summit Security Services, Inc.,&#39;,\n  None,\n  None,\n  &#39;World Trade Center&#39;,\n  &#39;, died 9/15/01.&#39;),\n (&#39;Mary Lynn Edwards Angell, 52, Cape Cod, Mass. and Pasadena, Calif.&#39;,\n  &#39;, Passenger,&#39;,\n  &#39; United 11,&#39;,\n  &#39;World Trade Center&#39;,\n  &#39;.&#39;),\n (&#39;Laura Angilletta, 23, Staten Island, N.Y., Cantor Fitzgerald,&#39;,\n  None,\n  None,\n  &#39;World Trade Center&#39;,\n  &#39;.&#39;),\n (&#39;Lorraine G. Bay, 58, East Windsor, N.J.&#39;,\n  &#39;, Flight Crew,&#39;,\n  &#39; United 93,&#39;,\n  &#39;Shanksville, Pa&#39;,\n  &#39;.&#39;),\n (&#39;Canfield D. Boone, ??, United States Army,&#39;, None, None, &#39;Pentagon&#39;, &#39;.&#39;),\n (&#39;Albert Gunnis Joseph, 79, New York City, Morgan Stanley,&#39;,\n  None,\n  None,\n  &#39;World Trade Center&#39;,\n  &#39;, died 1/2/02.&#39;),\n (&#39;Ingeborg Joseph, 53, Marriott guest,&#39;,\n  None,\n  None,\n  &#39;World Trade Center&#39;,\n  &#39;, died 10/9/01.&#39;),\n (&#39;Brenda Kegler, ??, Capitol Heights, Md., United States Army Civilian,&#39;,\n  None,\n  None,\n  &#39;Pentagon&#39;,\n  &#39;.&#39;)]"
     },
     "metadata": {},
     "execution_count": 31
    }
   ],
   "source": [
    "# Your code here.\n",
    "passengerstatus = re.compile('^(.*?)(, Passenger,|, Flight Crew,)?( United \\d{2,3},| American \\d{2,3},)? (World Trade Center|Shanksville, Pa|Pentagon)(.*?)$')\n",
    "[passengerstatus.search(l).groups() for l in examples]"
   ]
  },
  {
   "cell_type": "code",
   "execution_count": 32,
   "metadata": {},
   "outputs": [
    {
     "output_type": "execute_result",
     "data": {
      "text/plain": "[&quot;Gordon M. Aamoth, Jr., 32, Sandler O&#39;Neill + Partners, World Trade Center.&quot;,\n &#39;Godwin O. Ajala, 33, Summit Security Services, Inc., World Trade Center, died 9/15/01.&#39;,\n &#39;Mary Lynn Edwards Angell, 52, Cape Cod, Mass. and Pasadena, Calif., Passenger, United 11, World Trade Center.&#39;,\n &#39;Laura Angilletta, 23, Staten Island, N.Y., Cantor Fitzgerald, World Trade Center.&#39;,\n &#39;Lorraine G. Bay, 58, East Windsor, N.J., Flight Crew, United 93, Shanksville, Pa.&#39;,\n &#39;Canfield D. Boone, ??, United States Army, Pentagon.&#39;,\n &#39;Albert Gunnis Joseph, 79, New York City, Morgan Stanley, World Trade Center, died 1/2/02.&#39;,\n &#39;Ingeborg Joseph, 53, Marriott guest, World Trade Center, died 10/9/01.&#39;,\n &#39;Brenda Kegler, ??, Capitol Heights, Md., United States Army Civilian, Pentagon.&#39;]"
     },
     "metadata": {},
     "execution_count": 32
    }
   ],
   "source": [
    "examples"
   ]
  },
  {
   "cell_type": "code",
   "execution_count": null,
   "metadata": {},
   "outputs": [],
   "source": []
  },
  {
   "cell_type": "markdown",
   "metadata": {},
   "source": [
    "#### Task 2 - Capture the flight field\n",
    "\n",
    "Make a regular expression that matches and extracts the flight field.  This expression should match all lines, returning `None` for the other rows.\n",
    "\n",
    "**Hint:** Remember that \n",
    "\n",
    "* Look through the data file to identify the airlines.\n",
    "* Use `\\d` to match digits\n",
    "* `(p1|p2)` allows you to match `p1` or `p2`.   \n",
    "* `?` allows you to match optional patterns"
   ]
  },
  {
   "cell_type": "code",
   "execution_count": 33,
   "metadata": {},
   "outputs": [],
   "source": [
    "# Your code here.\n",
    "# see Task 1\n"
   ]
  },
  {
   "cell_type": "markdown",
   "metadata": {},
   "source": [
    "#### Task 3 - Combine the last two expression\n",
    "\n",
    "Now combine the last two expressions to capture the two flight fields, but also all content before and after these fields."
   ]
  },
  {
   "cell_type": "code",
   "execution_count": 34,
   "metadata": {},
   "outputs": [],
   "source": [
    "# Your code here.\n",
    "# see Task 1"
   ]
  }
 ],
 "metadata": {
  "kernelspec": {
   "display_name": "Python 3",
   "language": "python",
   "name": "python3"
  },
  "language_info": {
   "codemirror_mode": {
    "name": "ipython",
    "version": 3
   },
   "file_extension": ".py",
   "mimetype": "text/x-python",
   "name": "python",
   "nbconvert_exporter": "python",
   "pygments_lexer": "ipython3",
   "version": "3.7.6-final"
  }
 },
 "nbformat": 4,
 "nbformat_minor": 2
}