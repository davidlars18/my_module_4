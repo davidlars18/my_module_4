{
 "cells": [
  {
   "cell_type": "markdown",
   "metadata": {},
   "source": [
    "# Lab 4.1 -  Grouping blocks of data \n",
    "\n",
    "In this lab, we will practice some of the techniques that you learned in the last few week, namely grouping blocks of data lines using the unfold technique."
   ]
  },
  {
   "cell_type": "markdown",
   "metadata": {},
   "source": [
    "## Reading in current progress"
   ]
  },
  {
   "cell_type": "code",
   "execution_count": 4,
   "metadata": {},
   "outputs": [
    {
     "output_type": "execute_result",
     "data": {
      "text/plain": "&quot;Gordon M. Aamoth, Jr.\\n 32\\n Sandler O&#39;Neill + Partners, World Trade Center.\\nEdelmiro Abad\\n 54\\n Brooklyn, N.Y., Fiduciary Trust Company International, World Trade Center.\\nMarie Rose Abad\\n 49\\n Keefe, Bruyette&amp;Woods, Inc., World Trade Center.\\nAndrew Anthony Abate\\n 37\\n Melville, N.Y., Cantor Fitzgerald, World Trade Center.\\nVincent Paul Abate\\n 40\\n Brooklyn, N.Y., Cantor Fitzgerald, World Trade Center.\\nLaurence Christopher Abel\\n 37\\n New York City, Cantor Fitzgerald, World Trade Center.\\nAlona Abraham\\n 3&quot;"
     },
     "metadata": {},
     "execution_count": 4
    }
   ],
   "source": [
    "with open('911_deaths_extra_removed.csv') as f:\n",
    "    content = f.read()\n",
    "content[:500]"
   ]
  },
  {
   "cell_type": "code",
   "execution_count": 5,
   "metadata": {},
   "outputs": [
    {
     "output_type": "execute_result",
     "data": {
      "text/plain": "rbaro&#39;,\n &#39; 35&#39;,\n &#39; Holmdel, N.J., Cantor Fitzgerald, World Trade Center.&#39;,\n &#39;James William Barbella&#39;,\n &#39; 53&#39;,\n &#39; Oceanside, N.Y., Port Authority of New York and New Jersey first responders, World Trade Center.&#39;,\n &#39;Victor Daniel Barbosa&#39;,\n &#39; 23&#39;,\n &#39; Bronx, N.Y., Top of the World, World Trade Center.&#39;,\n &#39;Christine Johnna Barbuto&#39;,\n &#39; 32&#39;,\n &#39; Brookline, Mass., Passenger, United 11, World Trade Center.&#39;,\n &#39;Colleen Ann Barkow&#39;,\n &#39; 26&#39;,\n &#39; Cantor Fitzgerald, World Trade Center.&#39;,\n &#39;David Michael Barkway&#39;,\n &#39; 34&#39;,\n &#39; Cantor Fitzgerald visitor, World Trade Center.&#39;,\n &#39;Matthew Barnes&#39;,\n &#39; 37&#39;,\n &#39; Monroe, N.Y., New York City Fire Department, World Trade Center.&#39;,\n &#39;Melissa Rose Barnes&#39;,\n &#39; 27&#39;,\n &#39; Virginia, United States Navy, Pentagon.&#39;,\n &#39;Sheila Patricia Barnes&#39;,\n &#39; 55&#39;,\n &#39; Aon Corporation, World Trade Center.&#39;,\n &#39;Evan Jay Baron&#39;,\n &#39; 38&#39;,\n &#39; Bridgewater, N.J., Carr Futures, Inc., World Trade Center.&#39;,\n &#39;Renee Barrett-Arjune&#39;,\n &#39; 41&#39;,\n &#39; Cantor Fitzgerald, World Trade Center, died 10/14/01.&#39;,\n &#39;Arthur Thaddeus Barry&#39;,\n &#39; 35&#39;,\n &#39; Staten Island, N.Y., New York City Fire Department, World Trade Center.&#39;,\n &#39;Diane G. Barry&#39;,\n &#39; 60&#39;,\n &#39; Staten Island, N.Y., Aon Corporation, World Trade Center.&#39;,\n &#39;Maurice Vincent Barry&#39;,\n &#39; 48&#39;,\n &#39; Rutherford, N.J., Port Authority Police Department, World Trade Center.&#39;,\n &#39;Scott D. Bart&#39;,\n &#39; 28&#39;,\n &#39; Malverne, N.Y., Marsh&amp;McLennan Companies, Inc., World Trade Center.&#39;,\n &#39;Carlton W. Bartels&#39;,\n &#39; 44&#39;,\n &#39; Staten Island, N.Y., Cantor Fitzgerald, World Trade Center.&#39;,\n &#39;Guy Barzvi&#39;,\n &#39; 29&#39;,\n &#39; Forest Hills, N.Y., Cantor Fitzgerald, World Trade Center.&#39;,\n &#39;Inna B. Basina&#39;,\n &#39; 43&#39;,\n &#39; Brooklyn, N.Y., Cantor Fitzgerald, World Trade Center.&#39;,\n &#39;Alysia Christine Burton Basmajian&#39;,\n &#39; 23&#39;,\n &#39; Bayonne, N.J., Cantor Fitzgerald, World Trade Center.&#39;,\n &#39;Kenneth William Basnicki&#39;,\n &#39; 48&#39;,\n &#39; Risk Waters Group conference attendee from BEA Systems, Inc., World Trade Center.&#39;,\n &#39;Steven Joseph Bates&#39;,\n &#39; 42&#39;,\n &#39; Glendale, N.Y., New York City Fire Department, World Trade Center.&#39;,\n &#39;Paul James Battaglia&#39;,\n &#39; 22&#39;,\n &#39; Brooklyn, N.Y., Marsh&amp;McLennan Companies, Inc., World Trade Center.&#39;,\n &#39;W. David Bauer&#39;,\n &#39; 45&#39;,\n &#39; Rumson, N.J., Cantor Fitzgerald, World Trade Center.&#39;,\n &#39;Ivhan Luis Carpio Bautista&#39;,\n &#39; 24&#39;,\n &#39; Windows on the World, World Trade Center.&#39;,\n &#39;Marlyn Capito Bautista&#39;,\n &#39; 46&#39;,\n &#39; Iselin, N.J., Marsh&amp;McLennan Companies, Inc., World Trade Center.&#39;,\n &#39;Mark Lawrence Bavis&#39;,\n &#39; 31&#39;,\n &#39; Roslindale, Mass., Passenger, United 175, World Trade Center.&#39;,\n &#39;Jasper Baxter&#39;,\n &#39; 45&#39;,\n &#39; Lee Hecht Harrison, World Trade Center.&#39;,\n &#39;Lorraine G. Bay&#39;,\n &#39; 58&#39;,\n &#39; East Windsor, N.J., Flight Crew, United 93, Shanksville, Pa.&#39;,\n &#39;Michele Beale&#39;,\n &#39; 38&#39;,\n &#39; Essex, England, United Kingdom, Risk Waters Group, World Trade Center.&#39;,\n &#39;Todd M. Beamer&#39;,\n &#39; 32&#39;,\n &#39; Cranbury, N.J., Passenger, United 93, Shanksville, Pa.&#39;,\n &#39;Paul Frederick Beatini&#39;,\n &#39; 40&#39;,\n &#39; Park Ridge, N.J., Aon Corporation visitor, World Trade Center.&#39;,\n &#39;Jane S. Beatty&#39;,\n &#39; 53&#39;,\n &#39; Marsh&amp;McLennan Companies, Inc., World Trade Center.&#39;,\n &#39;Alan Anthony Beaven&#39;,\n &#39; 48&#39;,\n &#39; Oakland, Calif., Passenger, United 93, Shanksville, Pa.&#39;,\n &#39;Lawrence Ira Beck&#39;,\n &#39; 38&#39;,\n &#39; Bellmore, N.Y., Cantor Fitzgerald, World Trade Center.&#39;,\n &#39;Manette Marie Beckles&#39;,\n &#39; 43&#39;,\n &#39; Fiduciary Trust Company International, World Trade Center.&#39;,\n &#39;Carl John Bedigian&#39;,\n &#39; 35&#39;,\n &#39; College Point, N.Y., New York City Fire Department, World Trade Center.&#39;,\n &#39;Michael Ernest Beekman&#39;,\n &#39; 39&#39;,\n &#39; Staten Island, N.Y., New York Stock Exchange, World Trade Center.&#39;,\n &#39;Maria A. Behr&#39;,\n &#39; 41&#39;,\n &#39; Milford, N.J., Cantor Fitzgerald, World Trade Center.&#39;,\n &#39;Max J. Beilke&#39;,\n &#39; 69&#39;,\n &#39; Laurel, Md., United States Army Civilian, Pentagon.&#39;,\n &#39;Yelena Belilovsky&#39;,\n &#39; 38&#39;,\n &#39; Mamaroneck, N.Y., Fred Alger Management, Inc., World Trade Center.&#39;,\n &#39;Nina Patrice Bell&#39;,\n &#39; 39&#39;,\n &#39; New York City, Marsh&amp;McLennan Companies, Inc., World Trade Center.&#39;,\n &#39;Debbie S. Bellows&#39;,\n &#39; 31&#39;,\n &#39; East Windsor, N.J., Cantor Fitzgerald, World Trade Center.&#39;,\n &#39;Stephen Elliot Belson&#39;,\n &#39; 51&#39;,\n &#39; Rockaway Beach, N.Y., New York City Fire Department, World Trade Center.&#39;,\n &#39;Paul M. Benedetti&#39;,\n &#39; 32&#39;,\n &#39; Aon Corporation, World Trade Center.&#39;,\n &#39;Denise Lenore Benedetto&#39;,\n &#39; 40&#39;,\n &#39; Aon Corporation, World Trade Center.&#39;,\n &#39;Bryan Craig Bennett&#39;,\n &#39; 25&#39;,\n &#39; New York City, Cantor Fitzgerald, World Trade Center.&#39;,\n &#39;Eric L. Bennett&#39;,\n &#39; 29&#39;,\n &#39; Alliance Consulting Group, World Trade Center.&#39;,\n &#39;Oliver Bennett&#39;,\n &#39; 29&#39;,\n &#39; New York, Risk Waters Group, World Trade Center.&#39;,\n &#39;Margaret L. Benson&#39;,\n &#39; 52&#39;,\n &#39; Rockaway, N.J., Port Authority of New York and New Jersey, World Trade Center.&#39;,\n &#39;Dominick J. Berardi&#39;,\n &#39; 25&#39;,\n &#39; Cantor Fitzgerald, World Trade Center.&#39;,\n &#39;James Patrick Berger&#39;,\n &#39; 44&#39;,\n &#39; Yardley, Pa., Aon Corporation, World Trade Center.&#39;,\n &#39;Steven Howard Berger&#39;,\n &#39; 45&#39;,\n &#39; Manalapan, N.J., New York State Department of Taxation and Finance, World Trade Center.&#39;,\n &#39;John P. Bergin&#39;,\n &#39; 39&#39;,\n &#39; Staten Island, N.Y., New York City Fire Department, World Trade Center.&#39;,\n &#39;Alvin Bergsohn&#39;,\n &#39; 48&#39;,\n &#39; Baldwin Harbor, N.Y., Cantor Fitzgerald, World Trade Center.&#39;,\n &#39;Daniel David Bergstein&#39;,\n &#39; 38&#39;,\n &#39; Teaneck, N.J., Port Authority of New York and New Jersey, World Trade Center.&#39;,\n &#39;Graham Andrew Berkeley&#39;,\n &#39; 37&#39;,\n &#39; Boston, Mass., Passenger, United 175, World Trade Center.&#39;,\n &#39;Michael J. Berkeley&#39;,\n &#39; 38&#39;,\n &#39; International Office Centers Corporation, World Trade Center.&#39;,\n &#39;Donna M. Bernaerts&#39;,\n &#39; 44&#39;,\n &#39; Marsh&amp;McLennan consultant, World Trade Center.&#39;,\n &#39;David W. Bernard&#39;,\n &#39; 57&#39;,\n &#39; Chelmsford, Mass., World Trade Center, died 12/11/01.&#39;,\n &#39;William H. Bernstein&#39;,\n &#39; 44&#39;,\n &#39; Brooklyn, N.Y., Cantor Fitzgerald, World Trade Center.&#39;,\n &#39;David M. Berray&#39;,\n &#39; 39&#39;,\n &#39; New York City, Risk Waters Group conference, World Trade Center.&#39;,\n &#39;David Shelby Berry&#39;,\n &#39; 43&#39;,\n &#39; Keefe, Bruyette&amp;Woods, Inc., World Trade Center.&#39;,\n &#39;Joseph John Berry&#39;,\n &#39; 55&#39;,\n &#39; Saddle River, N.J., Keefe, Bruyette&amp;Woods, Inc., World Trade Center.&#39;,\n &#39;William Reed Bethke&#39;,\n &#39; 36&#39;,\n &#39; Marsh&amp;McLennan Companies, Inc., World Trade Center.&#39;,\n &#39;Yeneneh Betru&#39;,\n &#39; 35&#39;,\n &#39; Burbank, Calif., Passenger, American 77, Pentagon.&#39;,\n &#39;Timothy D. Betterly&#39;,\n &#39; 42&#39;,\n &#39; Little Silver, N.J., Cantor Fitzgerald, World Trade Center.&#39;,\n &#39;Carolyn Mayer Beug&#39;,\n &#39; 48&#39;,\n &#39; Santa Monica, Calif., Passenger, United 11, World Trade Center.&#39;,\n &#39;Edward Frank Beyea&#39;,\n &#39; 42&#39;,\n &#39; Empire BlueCross BlueShield, World Trade Center.&#39;,\n &#39;Paul Michael Beyer&#39;,\n &#39; 37&#39;,\n &#39; Staten Island, N.Y., New York City Fire Department, World Trade Center.&#39;,\n &#39;Anil Tahilram Bharvaney&#39;,\n &#39; 41&#39;,\n &#39; New Jersey, Risk Waters Group conference attendee from Instinet, Inc., World Trade Center.&#39;,\n &#39;Bella J. Bhukhan&#39;,\n &#39; 24&#39;,\n &#39; Union, N.J., Cantor Fitzgerald, World Trade Center.&#39;,\n &#39;Shimmy D. Biegeleisen&#39;,\n &#39; 42&#39;,\n &#39; Brooklyn, N.Y., Fiduciary Trust Company International, World Trade Center.&#39;,\n &#39;Peter Alexander Bielfeld&#39;,\n &#39; 44&#39;,\n &#39; Bronx, N.Y., New York City Fire Department, World Trade Center.&#39;,\n &#39;William G. Biggart&#39;,\n &#39; 54&#39;,\n &#39; New York City, World Trade Center.&#39;,\n &#39;Brian Eugene Bilcher&#39;,\n &#39; 37&#39;,\n &#39; Staten Island, N.Y., New York City Fire Department, World Trade Center.&#39;,\n &#39;Mark Bingham&#39;,\n &#39; 31&#39;,\n &#39; New York City, Passenger, United 93, Shanksville, Pa.&#39;,\n &#39;Carl Vincent Bini&#39;,\n &#39; 44&#39;,\n &#39; Staten Island, N.Y., New York City Fire Department, World Trade Center.&#39;,\n &#39;Gary Eugene Bird&#39;,\n &#39; 51&#39;,\n &#39; Tempe, Ariz., Marsh&amp;McLennan Companies, Inc., World Trade Center.&#39;,\n &#39;Joshua David Birnbaum&#39;,\n &#39; 24&#39;,\n &#39; New York City, Cantor Fitzgerald, World Trade Center.&#39;,\n &#39;George John Bishop&#39;,\n &#39; 52&#39;,\n &#39; Aon Corporation, World Trade Center.&#39;,\n &#39;Kris Romeo Bishundat&#39;,\n &#39; 23&#39;,\n &#39; Waldorf, Md., United States Navy, Pentagon.&#39;,\n &#39;Jeffrey Donald Bittner&#39;,\n &#39; 27&#39;,\n &#39; New York City, Keefe, Bruyette&amp;Woods, Inc., World Trade Center.&#39;,\n &#39;Albert Balewa Blackman, Jr.&#39;,\n &#39; 26&#39;,\n &#39; Brooklyn, N.Y., Cantor Fitzgerald, World Trade Center.&#39;,\n &#39;Christopher Joseph Blackwell&#39;,\n &#39; 42&#39;,\n &#39; Patterson, N.Y., New York City Fire Department, World Trade Center.&#39;,\n &#39;Carrie Rosetta Blagburn&#39;,\n &#39; 48&#39;,\n &#39; Temple Hills, Md., United States Army Civilian, Pentagon.&#39;,\n &#39;Susan Leigh Blair&#39;,\n &#39; 35&#39;,\n &#39; East Brunswick, N.J., Aon Corporation, World Trade Center.&#39;,\n &#39;Harry Blanding, Jr.&#39;,\n &#39; 38&#39;,\n &#39; Aon Corporation, World Trade Center.&#39;,\n &#39;Janice Lee Blaney&#39;,\n &#39; 55&#39;,\n &#39; Marsh&amp;McLennan consultant, World Trade Center.&#39;,\n &#39;Craig Michael Blass&#39;,\n &#39; 27&#39;,\n &#39; Greenlawn, N.Y., Cantor Fitzgerald, World Trade Center.&#39;,\n &#39;Rita Blau&#39;,\n &#39; 52&#39;,\n &#39; Brooklyn, N.Y., Fiduciary Trust Company International, World Trade Center.&#39;,\n &#39;Richard Middleton Blood, Jr.&#39;,\n &#39; 38&#39;,\n &#39; Ridgewood, N.J., Aon Corporation, World Trade Center.&#39;,\n &#39;Michael Andrew Boccardi&#39;,\n &#39; 30&#39;,\n &#39; Bronxville, N.Y., Fred Alger Management, Inc., World Trade Center.&#39;,\n &#39;John Paul Bocchi&#39;,\n &#39; 38&#39;,\n &#39; New Vernon, N.J., Cantor Fitzgerald, World Trade Center.&#39;,\n &#39;Michael L. Bocchino&#39;,\n &#39; 45&#39;,\n &#39; Brooklyn, N.Y., New York City Fire Department, World Trade Center.&#39;,\n &#39;Susan M. Bochino&#39;,\n &#39; 36&#39;,\n &#39; Staten Island, N.Y., Aon Corporation, World Trade Center.&#39;,\n &#39;Deora Frances Bodley&#39;,\n &#39; 20&#39;,\n &#39; Santa Clara, Calif., Passenger, United 93, Shanksville, Pa.&#39;,\n &#39;Bruce Douglas Boehm&#39;,\n &#39; 49&#39;,\n &#39; West Hempstead, N.Y., Cantor Fitzgerald, World Trade Center.&#39;,\n &#39;Nicholas Andrew Bogdan&#39;,\n &#39; 34&#39;,\n &#39; Marsh&amp;McLennan Companies, Inc., World Trade Center.&#39;,\n &#39;Darren Christopher Bohan&#39;,\n &#39; 34&#39;,\n &#39; Kew Gardens, N.Y., Aon Corporation, World Trade Center.&#39;,\n &#39;Lawrence Francis Boisseau&#39;,\n &#39; 36&#39;,\n &#39; World Trade Center Fire Safety, World Trade Center.&#39;,\n &#39;Vincent M. Boland, Jr.&#39;,\n &#39; 25&#39;,\n &#39; New York City, Marsh&amp;McLennan Companies, Inc., World Trade Center.&#39;,\n &#39;Touri Hamzavi Bolourchi&#39;,\n &#39; 62&#39;,\n &#39; Los Angeles, Calif., Passenger, United 175, World Trade Center.&#39;,\n &#39;Alan Bondarenko&#39;,\n &#39; 53&#39;,\n &#39; Raritan, N.J., Washington Group International, World Trade Center.&#39;,\n &#39;Andre Bonheur, Jr.&#39;,\n &#39; 40&#39;,\n &#39; Brooklyn, N.Y., Cantor Fitzgerald visitor from Citibank, World Trade Center.&#39;,\n &#39;Colin Arthur Bonnett&#39;,\n &#39; 39&#39;,\n &#39; Brooklyn, N.Y., Marsh&amp;McLennan Companies, Inc., World Trade Center.&#39;,\n &#39;Frank J. Bonomo&#39;,\n &#39; 42&#39;,\n &#39; Port Jefferson, N.Y., New York City Fire Department, World Trade Center.&#39;,\n &#39;Yvonne Lucia Bonomo&#39;,\n &#39; 30&#39;,\n &#39; Jackson Heights, N.Y., Marsh&amp;McLennan consultant from American Express, World Trade Center.&#39;,\n &#39;Sean Booker, Sr.&#39;,\n &#39; 35&#39;,\n &#39; Newark, N.J., Xerox Corporation, World Trade Center.&#39;,\n &#39;Kelly Ann Booms&#39;,\n &#39; 24&#39;,\n &#39; Boston, Mass., Passenger, United 11, World Trade Center.&#39;,\n &#39;Canfield D. Boone&#39;,\n &#39; ??&#39;,\n &#39; United States Army, Pentagon.&#39;,\n &#39;Mary Jane Booth&#39;,\n &#39; 64&#39;,\n &#39; Falls Church, Va., Flight Crew, American 77, Pentagon.&#39;,\n &#39;Sherry Ann Bordeaux&#39;,\n &#39; 38&#39;,\n &#39; Fiduciary Trust Company International, World Trade Center.&#39;,\n &#39;Krystine Bordenabe&#39;,\n &#39; 33&#39;,\n &#39; Old Bridge, N.J., Keefe, Bruyette&amp;Woods, Inc., World Trade Center.&#39;,\n &#39;Jerry J. Borg&#39;,\n &#39; 63&#39;,\n &#39; World Trade Center, died 12/15/10.&#39;,\n &#39;Martin Michael Boryczewski&#39;,\n &#39; 29&#39;,\n &#39; Hoboken, N.J., Cantor Fitzgerald, World Trade Center.&#39;,\n &#39;Richard Edward Bosco&#39;,\n &#39; 34&#39;,\n &#39; Suffern, N.Y., Cantor Fitzgerald visitor from Citibank, World Trade Center.&#39;,\n &#39;Klaus Bothe&#39;,\n &#39; 31&#39;,\n &#39; Linkenheim, Germany, Passenger, United 175, World Trade Center.&#39;,\n &#39;Carol Marie Bouchard&#39;,\n &#39; 43&#39;,\n &#39; Warwick, R.I., Passenger, United 11, World Trade Center.&#39;,\n &#39;J. Howard Boulton&#39;,\n &#39; 29&#39;,\n &#39; Euro Brokers, World Trade Center.&#39;,\n &#39;Francisco Eligio Bourdier&#39;,\n &#39; 40&#39;,\n &#39; Allied Security, World Trade Center.&#39;,\n &#39;Thomas Harold Bowden, Jr.&#39;,\n &#39; 36&#39;,\n &#39; Cantor Fitzgerald, World Trade Center.&#39;,\n &#39;Donna M. Bowen&#39;,\n &#39; 42&#39;,\n &#39; United States Army Civilian, Pentagon.&#39;,\n &#39;Kimberly S. Bowers&#39;,\n &#39; 31&#39;,\n &#39; Cantor Fitzgerald, World Trade Center.&#39;,\n &#39;Veronique Nicole Bowers&#39;,\n &#39; 28&#39;,\n &#39; Brooklyn, N.Y., Windows on the World, World Trade Center.&#39;,\n &#39;Larry Bowman&#39;,\n &#39; 46&#39;,\n &#39; Summit Security Services, Inc., World Trade Center.&#39;,\n &#39;Shawn Edward Bowman, Jr.&#39;,\n &#39; 28&#39;,\n &#39; Cantor Fitzgerald, World Trade Center.&#39;,\n &#39;Kevin L. Bowser&#39;,\n &#39; 45&#39;,\n &#39; Philadelphia, Pa., Marsh&amp;McLennan Companies, Inc., World Trade Center.&#39;,\n &#39;Gary R. Box&#39;,\n &#39; 37&#39;,\n &#39; New York City Fire Department, World Trade Center.&#39;,\n &#39;Gennady Boyarsky&#39;,\n &#39; 34&#39;,\n &#39; Rockaway Beach, N.Y., Marsh&amp;McLennan consultant from American Express, World Trade Center.&#39;,\n &#39;Pamela Boyce&#39;,\n &#39; 43&#39;,\n &#39; Carr Futures, Inc., World Trade Center.&#39;,\n &#39;Allen P. Boyle&#39;,\n &#39; 30&#39;,\n &#39; United States Navy contractor, Pentagon.&#39;,\n &#39;Michael Boyle&#39;,\n &#39; 37&#39;,\n &#39; New York City, New York City Fire Department, World Trade Center.&#39;,\n &#39;Alfred J. Braca&#39;,\n &#39; 54&#39;,\n &#39; Middletown, N.J., Cantor Fitzgerald, World Trade Center.&#39;,\n &#39;Sandra Conaty Brace&#39;,\n &#39; 60&#39;,\n &#39; Staten Island, N.Y., Reinsurance Solutions, World Trade Center.&#39;,\n &#39;Kevin Hugh Bracken&#39;,\n &#39; 37&#39;,\n &#39; New York City, New York City Fire Department, World Trade Center.&#39;,\n &#39;Sandy Waugh Bradshaw&#39;,\n &#39; 38&#39;,\n &#39; Greensboro, N.C., Flight Crew, United 93, Shanksville, Pa.&#39;,\n &#39;David Brian Brady&#39;,\n &#39; 41&#39;,\n &#39; Summit, N.J., Risk Waters Group conference attendee from Merrill Lynch&amp;Co., Inc., World Trade Center.&#39;,\n &#39;Alexander Braginsky&#39;,\n &#39; 38&#39;,\n &#39; Greenwich, Conn., Risk Waters Group conference attendee from Reuters Group Limited, World Trade Center.&#39;,\n &#39;Nicholas W. Brandemarti&#39;,\n &#39; 21&#39;,\n &#39; Hoboken, N.J., Keefe, Bruyette&amp;Woods, Inc., World Trade Center.&#39;,\n &#39;Daniel Raymond Brandhorst&#39;,\n &#39; 41&#39;,\n &#39; Los Angeles, Calif., Passenger, United 175, World Trade Center.&#39;,\n &#39;David Reed Gamboa Brandhorst&#39;,\n &#39; 3&#39;,\n &#39; Los Angeles, Calif., Passenger, United 175, World Trade Center.&#39;,\n &#39;Michelle Renee Bratton&#39;,\n &#39; 23&#39;,\n &#39; Scotchtown, N.Y., Cantor Fitzgerald, World Trade Center.&#39;,\n &#39;Patrice Braut&#39;,\n &#39; 31&#39;,\n &#39; Marsh&amp;McLennan Companies, Inc., World Trade Center.&#39;,\n &#39;Lydia Estelle Bravo&#39;,\n &#39; 50&#39;,\n &#39; Dunellen, N.J., Marsh&amp;McLennan Companies, Inc., World Trade Center.&#39;,\n &#39;Ronald Michael Breitweiser&#39;,\n &#39; 39&#39;,\n &#39; Fiduciary Trust Company International, World Trade Center.&#39;,\n &#39;Edward A. Brennan III&#39;,\n &#39; 37&#39;,\n &#39; New York City, Cantor Fitzgerald, World Trade Center.&#39;,\n &#39;Frank H. Brennan&#39;,\n &#39; 50&#39;,\n &#39; Oak Beach, N.Y., Cantor Fitzgerald, World Trade Center.&#39;,\n &#39;Michael E. Brennan&#39;,\n &#39; 27&#39;,\n &#39; Long Island City, N.Y., New York City Fire Department, World Trade Center.&#39;,\n &#39;Peter Brennan&#39;,\n &#39; 30&#39;,\n &#39; Ronkonkoma, N.Y., New York City Fire Department, World Trade Center.&#39;,\n &#39;Thomas More Brennan&#39;,\n &#39; 32&#39;,\n &quot; Scarsdale, N.Y., Sandler O&#39;Neill + Partners, World Trade Center.&quot;,\n &#39;Daniel J. Brethel&#39;,\n &#39; 43&#39;,\n &#39; Farmingville, N.Y., New York City Fire Department, World Trade Center.&#39;,\n &#39;Gary Lee Bright&#39;,\n &#39; 36&#39;,\n &#39; Aon Corporation contractor, World Trade Center.&#39;,\n &#39;Jonathan Eric Briley&#39;,\n &#39; 43&#39;,\n &#39; Mount Vernon, N.Y., Windows on the World, World Trade Center.&#39;,\n &#39;Mark A. Brisman&#39;,\n &#39; 34&#39;,\n &#39; Harris Beach LLP, World Trade Center.&#39;,\n &#39;Paul Gary Bristow&#39;,\n &#39; 27&#39;,\n &#39; Brooklyn, N.Y., Risk Waters Group, World Trade Center.&#39;,\n &#39;Marion R. Britton&#39;,\n &#39; 53&#39;,\n &#39; Brooklyn, N.Y., Passenger, United 93, Shanksville, Pa.&#39;,\n &#39;Mark Francis Broderick&#39;,\n &#39; 40&#39;,\n &#39; Old Bridge, N.J., Cantor Fitzgerald, World Trade Center.&#39;,\n &#39;Herman Charles Broghammer&#39;,\n &#39; 58&#39;,\n &#39; North Merrick, N.Y., Aon Corporation, World Trade Center.&#39;,\n &#39;Keith A. Broomfield&#39;,\n &#39; 49&#39;,\n &#39; Advent Industrial, World Trade Center.&#39;,\n &#39;Bernard C. Brown II&#39;,\n &#39; 11&#39;,\n &#39; Washington, D.C., Passenger, American 77, Pentagon.&#39;,\n &#39;Janice Juloise Brown&#39;,\n &#39; 35&#39;,\n &#39; Marsh&amp;McLennan Companies, Inc., World Trade Center.&#39;,\n &#39;Lloyd Stanford Brown&#39;,\n &#39; 28&#39;,\n &#39; Cantor Fitzgerald, World Trade Center.&#39;,\n &#39;Patrick John Brown&#39;,\n &#39; 48&#39;,\n &#39; New York City, New York City Fire Department, World Trade Center.&#39;,\n &#39;Bettina B. Browne-Radburn&#39;,\n &#39; 49&#39;,\n &#39; Atlantic Beach, N.Y., Aon Corporation, World Trade Center.&#39;,\n &#39;Mark Bruce&#39;,\n &#39; 40&#39;,\n &quot; Sandler O&#39;Neill + Partners, World Trade Center.&quot;,\n &#39;Richard George Bruehert&#39;,\n &#39; 38&#39;,\n &#39; Westbury, N.Y., Marsh&amp;McLennan Companies, Inc., World Trade Center.&#39;,\n &#39;Andrew Brunn&#39;,\n &#39; 28&#39;,\n &#39; Fresh Meadows, N.Y., New York City Fire Department, World Trade Center.&#39;,\n &#39;Vincent Edward Brunton&#39;,\n &#39; 43&#39;,\n &#39; New York City Fire Department, World Trade Center.&#39;,\n &#39;Ronald Bucca&#39;,\n &#39; 47&#39;,\n &#39; New York City Fire Department, World Trade Center.&#39;,\n &#39;Brandon J. Buchanan&#39;,\n &#39; 24&#39;,\n &#39; New York City, Cantor Fitzgerald, World Trade Center.&#39;,\n &#39;Greg J. Buck&#39;,\n &#39; 37&#39;,\n &#39; Staten Island, N.Y., New York City Fire Department, World Trade Center.&#39;,\n &#39;Dennis Buckley&#39;,\n &#39; 38&#39;,\n &#39; Chatham, N.J., Cantor Fitzgerald, World Trade Center.&#39;,\n &#39;Nancy Clare Bueche&#39;,\n &#39; 43&#39;,\n &#39; Aon Corporation, World Trade Center.&#39;,\n &#39;Patrick Joseph Buhse&#39;,\n &#39; 37&#39;,\n &#39; Lincroft, N.J., Cantor Fitzgerald, World Trade Center.&#39;,\n &#39;John Edward Bulaga, Jr.&#39;,\n &#39; 35&#39;,\n &#39; Haskell, N.J., Cantor Fitzgerald, World Trade Center.&#39;,\n &#39;Stephen Bruce Bunin&#39;,\n &#39; 44&#39;,\n &#39; Queens, N.Y., Cantor Fitzgerald, World Trade Center.&#39;,\n &#39;Christopher L. Burford&#39;,\n &#39; 23&#39;,\n &#39; Hubert, N.C., United States Navy, Pentagon.&#39;,\n &#39;Matthew J. Burke&#39;,\n &#39; 28&#39;,\n &#39; New York City, Cantor Fitzgerald, World Trade Center.&#39;,\n &#39;Thomas Daniel Burke&#39;,\n &#39; 38&#39;,\n &#39; Cantor Fitzgerald, World Trade Center.&#39;,\n &#39;William Francis Burke, Jr.&#39;,\n &#39; 45&#39;,\n &#39; New York City, New York City Fire Department, World Trade Center.&#39;,\n &#39;Charles F. Burlingame III&#39;,\n &#39; 51&#39;,\n &#39; Oak Hill, Va., Flight Crew, American 77, Pentagon.&#39;,\n &#39;Thomas E. Burnett, Jr.&#39;,\n &#39; 38&#39;,\n &#39; San Ramon, Calif., Passenger, United 93, Shanksville, Pa.&#39;,\n &#39;Donald J. Burns&#39;,\n &#39; 61&#39;,\n &#39; Nissequogue, N.Y., New York City Fire Department, World Trade Center.&#39;,\n &#39;Kathleen Anne Burns&#39;,\n &#39; 48&#39;,\n &#39; Staten Island, N.Y., Fiduciary Trust Company International, World Trade Center.&#39;,\n &#39;Keith James Burns&#39;,\n &#39; 39&#39;,\n &#39; East Rutherford, N.J., Cantor Fitzgerald, World Trade Center.&#39;,\n &#39;John Patrick Burnside&#39;,\n &#39; 36&#39;,\n &#39; New York City, New York City Fire Department, World Trade Center.&#39;,\n &#39;Irina Buslo&#39;,\n &#39; 32&#39;,\n &#39; Fuji Bank, Ltd., World Trade Center.&#39;,\n &#39;Milton G. Bustillo&#39;,\n &#39; 37&#39;,\n &#39; Cantor Fitzgerald, World Trade Center.&#39;,\n &#39;Thomas M. Butler&#39;,\n &#39; 37&#39;,\n &#39; Kings Park, N.Y., New York City Fire Department, World Trade Center.&#39;,\n &#39;Patrick Dennis Byrne&#39;,\n &#39; 39&#39;,\n &#39; Staten Island, N.Y., New York City Fire Department, World Trade Center.&#39;,\n &#39;Timothy G. Byrne&#39;,\n &#39; 36&#39;,\n &quot; New York City, Sandler O&#39;Neill + Partners, World Trade Center.&quot;,\n &#39;Daniel M. Caballero&#39;,\n &#39; 21&#39;,\n &#39; United States Navy, Pentagon.&#39;,\n &#39;Jesus Neptali Cabezas&#39;,\n &#39; 66&#39;,\n &#39; Brooklyn, N.Y., Windows on the World, World Trade Center.&#39;,\n &#39;Lillian Caceres&#39;,\n &#39; 48&#39;,\n &#39; Marsh&amp;McLennan Companies, Inc., World Trade Center.&#39;,\n &#39;Brian Joseph Cachia&#39;,\n &#39; 26&#39;,\n &#39; Bayside, N.Y., Cantor Fitzgerald, World Trade Center.&#39;,\n &#39;Steven Dennis Cafiero, Jr.&#39;,\n &#39; 31&#39;,\n &#39; Whitestone, N.Y., Aon Corporation, World Trade Center.&#39;,\n &#39;Richard Michael Caggiano&#39;,\n &#39; 25&#39;,\n &#39; Brooklyn, N.Y., Cantor Fitzgerald, World Trade Center.&#39;,\n &#39;Cecile Marella Caguicla&#39;,\n &#39; 55&#39;,\n &#39; Boonton, N.J., Marsh&amp;McLennan Companies, Inc., World Trade Center.&#39;,\n &#39;John Brett Cahill&#39;,\n &#39; 56&#39;,\n &#39; Passenger, United 175, World Trade Center.&#39;,\n &#39;Michael John Cahill&#39;,\n &#39; 37&#39;,\n &#39; East Williston, N.Y., Marsh&amp;McLennan Companies, Inc., World Trade Center.&#39;,\n &#39;Scott Walter Cahill&#39;,\n &#39; 30&#39;,\n &#39; West Caldwell, N.J., Cantor Fitzgerald, World Trade Center.&#39;,\n &#39;Thomas Joseph Cahill&#39;,\n &#39; 36&#39;,\n &#39; Franklin Lakes, N.J., Cantor Fitzgerald, World Trade Center.&#39;,\n &#39;George C. Cain&#39;,\n &#39; 35&#39;,\n &#39; Massapequa, N.Y., New York City Fire Department, World Trade Center.&#39;,\n &#39;Salvatore B. Calabro&#39;,\n &#39; 38&#39;,\n &#39; Staten Island, N.Y., New York City Fire Department, World Trade Center.&#39;,\n &#39;Joseph M. Calandrillo&#39;,\n &#39; 49&#39;,\n &#39; Reinsurance Solutions, World Trade Center.&#39;,\n &#39;Philip V. Calcagno&#39;,\n &#39; 57&#39;,\n &#39; Staten Island, N.Y., Marsh&amp;McLennan Companies, Inc., World Trade Center.&#39;,\n &#39;Edward Calderon&#39;,\n &#39; 44&#39;,\n &#39; Union City, N.J., Port Authority of New York and New Jersey first responders, World Trade Center.&#39;,\n &#39;Jose O. Calderon-Olmedo&#39;,\n &#39; ??&#39;,\n &#39; United States Army, Pentagon.&#39;,\n &#39;Kenneth Marcus Caldwell&#39;,\n &#39; 30&#39;,\n &#39; Brooklyn, N.Y., Alliance Consulting Group, World Trade Center.&#39;,\n &#39;Dominick E. Calia&#39;,\n &#39; 40&#39;,\n &#39; Manalapan, N.J., Cantor Fitzgerald, World Trade Center.&#39;,\n &#39;Felix Bobby Calixte&#39;,\n ...]"
     },
     "metadata": {},
     "execution_count": 5
    }
   ],
   "source": [
    "culled_lines = content.split('\\n')\n",
    "culled_lines"
   ]
  },
  {
   "cell_type": "markdown",
   "metadata": {},
   "source": [
    "## Problem 1 -- Combining block of data\n",
    "\n",
    "You have probably noticed that the data for each victim is spread across three lines.  In this problem we will use the unfold technique to group and join these lines.\n",
    "\n",
    "To complete this task, we will\n",
    "\n",
    "1. Create `get_layer` function that pulls off three lines and joins them with commas\n",
    "2. Create a `get_remaining` function that returns the remainder of the lines (with the 1st three removed).\n",
    "3. Use the unfold pattern to collect and group the data blocks."
   ]
  },
  {
   "cell_type": "markdown",
   "metadata": {},
   "source": [
    "### Task 1 - Develop `get_layer` function\n",
    "\n",
    "First, create a function that pulls off and comma-joins (with a trailing space) the first three rows of the input list."
   ]
  },
  {
   "cell_type": "code",
   "execution_count": 6,
   "metadata": {},
   "outputs": [
    {
     "output_type": "execute_result",
     "data": {
      "text/plain": "[&#39;Gordon M. Aamoth, Jr.&#39;,\n &#39; 32&#39;,\n &quot; Sandler O&#39;Neill + Partners, World Trade Center.&quot;]"
     },
     "metadata": {},
     "execution_count": 6
    }
   ],
   "source": [
    "example_block = culled_lines[:3]\n",
    "example_block"
   ]
  },
  {
   "cell_type": "code",
   "execution_count": 7,
   "metadata": {
    "tags": []
   },
   "outputs": [
    {
     "output_type": "execute_result",
     "data": {
      "text/plain": "&quot;Gordon M. Aamoth, Jr., 32, Sandler O&#39;Neill + Partners, World Trade Center.\\n&quot;"
     },
     "metadata": {},
     "execution_count": 7
    }
   ],
   "source": [
    "# Your code here\n",
    "from composable import pipeable\n",
    "get_three = pipeable (lambda l: l[:3])\n",
    "join_lines = pipeable (lambda l: ','.join(l) + '\\n')\n",
    "get_layer = pipeable( lambda l: l >> get_three >> join_lines)\n",
    "get_layer(culled_lines)\n"
   ]
  },
  {
   "cell_type": "markdown",
   "metadata": {},
   "source": [
    "### Task 2 - Develop `get_remaining` function\n",
    "\n",
    "First, create a function that pulls off and comma-joins the first three rows of the input list."
   ]
  },
  {
   "cell_type": "code",
   "execution_count": 8,
   "metadata": {},
   "outputs": [
    {
     "output_type": "execute_result",
     "data": {
      "text/plain": "[&#39;Edelmiro Abad&#39;,\n &#39; 54&#39;,\n &#39; Brooklyn, N.Y., Fiduciary Trust Company International, World Trade Center.&#39;,\n &#39;Marie Rose Abad&#39;,\n &#39; 49&#39;,\n &#39; Keefe, Bruyette&amp;Woods, Inc., World Trade Center.&#39;]"
     },
     "metadata": {},
     "execution_count": 8
    }
   ],
   "source": [
    "# Your code here\n",
    "get_remaining = pipeable (lambda l: l[3:])\n",
    "example = culled_lines[:9]\n",
    "get_remaining(example)\n"
   ]
  },
  {
   "cell_type": "markdown",
   "metadata": {},
   "source": [
    "### Task 3 - Make sure you understand the last step and computation will complete.\n",
    "\n",
    "First, create a function that pulls off and comma-joins the first three rows of the input list."
   ]
  },
  {
   "cell_type": "code",
   "execution_count": 9,
   "metadata": {},
   "outputs": [],
   "source": [
    "# Make sure the list length is a multiple of 3\n",
    "assert len(culled_lines) % 3 == 0"
   ]
  },
  {
   "cell_type": "code",
   "execution_count": 10,
   "metadata": {},
   "outputs": [
    {
     "output_type": "execute_result",
     "data": {
      "text/plain": "[&#39;Igor Zukelman&#39;,\n &#39; 29&#39;,\n &#39; Fiduciary Trust Company International, World Trade Center.&#39;]"
     },
     "metadata": {},
     "execution_count": 10
    }
   ],
   "source": [
    "# We know we are at the final step when len(remaining) <= 3\n",
    "next_to_last_remaining = culled_lines[-3:]\n",
    "next_to_last_remaining"
   ]
  },
  {
   "cell_type": "code",
   "execution_count": 11,
   "metadata": {},
   "outputs": [
    {
     "output_type": "execute_result",
     "data": {
      "text/plain": "&#39;Igor Zukelman, 29, Fiduciary Trust Company International, World Trade Center.\\n&#39;"
     },
     "metadata": {},
     "execution_count": 11
    }
   ],
   "source": [
    "# Your code here\n",
    "get_layer(next_to_last_remaining)"
   ]
  },
  {
   "cell_type": "code",
   "execution_count": 12,
   "metadata": {},
   "outputs": [
    {
     "output_type": "execute_result",
     "data": {
      "text/plain": "[]"
     },
     "metadata": {},
     "execution_count": 12
    }
   ],
   "source": [
    "get_remaining(next_to_last_remaining)"
   ]
  },
  {
   "cell_type": "code",
   "execution_count": 13,
   "metadata": {},
   "outputs": [],
   "source": [
    "stop_condition = lambda l: len(l) == 0"
   ]
  },
  {
   "cell_type": "markdown",
   "metadata": {},
   "source": [
    "### Task 4 - Use the unfold pattern to unpack the data groups into rows of data.\n",
    "\n",
    "Now that you have all the components, use the unfold pattern (see lecture 4.1) to unpack the data into a list of rows, one per 911 victim."
   ]
  },
  {
   "cell_type": "code",
   "execution_count": 15,
   "metadata": {},
   "outputs": [
    {
     "output_type": "execute_result",
     "data": {
      "text/plain": "&#39;Gordon M. &#39;"
     },
     "metadata": {},
     "execution_count": 15
    }
   ],
   "source": [
    "# Your code here\n",
    "unfolded = ''\n",
    "remaining_layers = culled_lines\n",
    "while not stop_condition(remaining_layers):\n",
    "    unfolded = unfolded + get_layer(remaining_layers)\n",
    "    remaining_layers = get_remaining(remaining_layers)\n",
    "\n",
    "unfolded[:10]\n",
    "\n",
    "\n"
   ]
  },
  {
   "cell_type": "markdown",
   "metadata": {},
   "source": [
    "### Task 5 - Save your work\n",
    "\n",
    "Now we will save our work by writing our progress to a text file `911_Deaths_Grouped.csv`"
   ]
  },
  {
   "cell_type": "code",
   "execution_count": 16,
   "metadata": {},
   "outputs": [],
   "source": [
    "# Your code here.\n",
    "with open('911_Deaths_Grouped.csv', 'w') as outfile:\n",
    "    outfile.write(unfolded)"
   ]
  },
  {
   "cell_type": "markdown",
   "metadata": {},
   "source": [
    "### Task 6 - Inspect the file in VSCode and identify any problems.\n",
    "\n",
    "Before we proceed, open an inspect the file.  Document any problems (if they exist) that you find, then discuss how you might solve each problem."
   ]
  },
  {
   "cell_type": "markdown",
   "metadata": {},
   "source": [
    "There are still commas in some entries that we need to get rid of (cities and states)\n",
    "question marks in age entry should be empty string\n"
   ]
  }
 ],
 "metadata": {
  "kernelspec": {
   "display_name": "Python 3",
   "language": "python",
   "name": "python3"
  },
  "language_info": {
   "codemirror_mode": {
    "name": "ipython",
    "version": 3
   },
   "file_extension": ".py",
   "mimetype": "text/x-python",
   "name": "python",
   "nbconvert_exporter": "python",
   "pygments_lexer": "ipython3",
   "version": "3.7.6-final"
  }
 },
 "nbformat": 4,
 "nbformat_minor": 2
}